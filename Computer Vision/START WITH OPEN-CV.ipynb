{
 "cells": [
  {
   "cell_type": "code",
   "execution_count": 60,
   "id": "0b07024c",
   "metadata": {},
   "outputs": [],
   "source": [
    "import cv2\n",
    "import matplotlib.pyplot as plt\n",
    "import numpy as np"
   ]
  },
  {
   "cell_type": "code",
   "execution_count": 399,
   "id": "64d6a02e",
   "metadata": {},
   "outputs": [
    {
     "data": {
      "text/plain": [
       "188"
      ]
     },
     "execution_count": 399,
     "metadata": {},
     "output_type": "execute_result"
    }
   ],
   "source": [
    "path='go.jpg'\n",
    "img = cv2.imread(path, cv2.IMREAD_GRAYSCALE)\n",
    "img[180,129]"
   ]
  },
  {
   "cell_type": "markdown",
   "id": "1f8274b1",
   "metadata": {},
   "source": [
    "<div class=\"alert alert-warning\" role=\"alert\" style=\"font-size: 20px; font-weight: bold;\">\n",
    "  Exercice 1 : Préparation de l'Environnement\n",
    "</div>\n"
   ]
  },
  {
   "cell_type": "code",
   "execution_count": 400,
   "id": "a2671e55",
   "metadata": {},
   "outputs": [],
   "source": [
    "cv2.imshow(\"image\", img)\n",
    "cv2.waitKey(0)\n",
    "cv2.destroyAllWindows()"
   ]
  },
  {
   "cell_type": "markdown",
   "id": "006e946a",
   "metadata": {},
   "source": [
    "<div class=\"alert alert-warning\" role=\"alert\" style=\"font-size: 20px; font-weight: bold;\">\n",
    "  Exercice 2 : Comprendre et Manipuler les Pixels\n",
    "\n",
    "</div>\n"
   ]
  },
  {
   "cell_type": "code",
   "execution_count": 401,
   "id": "8ee903da",
   "metadata": {},
   "outputs": [
    {
     "data": {
      "text/plain": [
       "array([1, 0, 4], dtype=uint8)"
      ]
     },
     "execution_count": 401,
     "metadata": {},
     "output_type": "execute_result"
    }
   ],
   "source": [
    "def show_pixel(x,y,path):\n",
    "    \n",
    "    img=cv2.imread(path)\n",
    "    imgpixel=np.array(img)\n",
    "    \n",
    "    return imgpixel[x,y]\n",
    "    \n",
    "show_pixel(90,60,'img.png')"
   ]
  },
  {
   "cell_type": "code",
   "execution_count": null,
   "id": "32b8e8b2",
   "metadata": {},
   "outputs": [],
   "source": []
  },
  {
   "cell_type": "code",
   "execution_count": 402,
   "id": "55033530",
   "metadata": {},
   "outputs": [
    {
     "data": {
      "text/plain": [
       "array([[46, 46, 46, ..., 62, 62, 62],\n",
       "       [46, 46, 46, ..., 62, 62, 62],\n",
       "       [46, 46, 46, ..., 64, 64, 64],\n",
       "       ...,\n",
       "       [10, 12, 16, ..., 10, 10,  8],\n",
       "       [14, 14, 14, ..., 10, 10,  8],\n",
       "       [18, 18, 16, ..., 10, 10,  8]], dtype=uint8)"
      ]
     },
     "execution_count": 402,
     "metadata": {},
     "output_type": "execute_result"
    }
   ],
   "source": [
    "def to_pair(img):\n",
    "    img=img-img%2\n",
    "    return img\n",
    "to_pair(img)"
   ]
  },
  {
   "cell_type": "markdown",
   "id": "a1c306e8",
   "metadata": {},
   "source": [
    "<div class=\"alert alert-warning\" role=\"alert\" style=\"font-size: 20px; font-weight: bold;\">\n",
    "\n",
    "Question 3.1 : Écrivez une fonction pour convertir un texte en binaire.\n",
    "\n",
    "</div>\n"
   ]
  },
  {
   "cell_type": "code",
   "execution_count": 403,
   "id": "2a710fb8",
   "metadata": {},
   "outputs": [],
   "source": [
    "message='Coded Message'"
   ]
  },
  {
   "cell_type": "code",
   "execution_count": 413,
   "id": "a74aa1aa",
   "metadata": {},
   "outputs": [],
   "source": [
    "def texte_en_binaire(message):\n",
    "    result = ' '.join(format(ord(char), '08b') for char in message)\n",
    "    return result\n",
    "msg=texte_en_binaire(message)\n",
    "msg=msg.replace(' ','')"
   ]
  },
  {
   "cell_type": "code",
   "execution_count": 414,
   "id": "89cdddb8",
   "metadata": {},
   "outputs": [
    {
     "data": {
      "text/plain": [
       "'01000011011011110110010001100101011001000010000001001101011001010111001101110011011000010110011101100101'"
      ]
     },
     "execution_count": 414,
     "metadata": {},
     "output_type": "execute_result"
    }
   ],
   "source": [
    "msg"
   ]
  },
  {
   "cell_type": "code",
   "execution_count": 550,
   "id": "089cbc12",
   "metadata": {},
   "outputs": [],
   "source": [
    "def code_msg(img, msg):\n",
    "    img = to_pair(img)\n",
    "    cmt_len_msg = 0\n",
    "\n",
    "    for i in range(len(img)):\n",
    "        for j in range(len(img[1])):\n",
    "            if cmt_len_msg < len(msg):\n",
    "                \n",
    "                img[i, j] += int(msg[cmt_len_msg])\n",
    "                \n",
    "                cmt_len_msg += 1\n",
    "            else:\n",
    "                break\n",
    "    return img\n"
   ]
  },
  {
   "cell_type": "code",
   "execution_count": 573,
   "id": "de610028",
   "metadata": {},
   "outputs": [
    {
     "data": {
      "text/plain": [
       "array([[46, 47, 46, ..., 62, 62, 62],\n",
       "       [46, 46, 46, ..., 62, 62, 62],\n",
       "       [46, 46, 46, ..., 64, 64, 64],\n",
       "       ...,\n",
       "       [10, 12, 16, ..., 10, 10,  8],\n",
       "       [14, 14, 14, ..., 10, 10,  8],\n",
       "       [18, 18, 16, ..., 10, 10,  8]], dtype=uint8)"
      ]
     },
     "execution_count": 573,
     "metadata": {},
     "output_type": "execute_result"
    }
   ],
   "source": [
    "img=code_msg(img,msg)\n",
    "img"
   ]
  },
  {
   "cell_type": "code",
   "execution_count": 576,
   "id": "ede1fe06",
   "metadata": {},
   "outputs": [],
   "source": [
    "\n",
    "def decode_msg(img):\n",
    "    lest=[]\n",
    "    cmt_len=0\n",
    "    for i in range(len(img)):\n",
    "        for j in range(len(img[1])):\n",
    "            if cmt_len<len(msg):\n",
    "                \n",
    "                lest.append(img[i,j])\n",
    "                cmt_len+=1\n",
    "            else:\n",
    "                break\n",
    "    return np.array(lest)%2"
   ]
  },
  {
   "cell_type": "code",
   "execution_count": 577,
   "id": "bf22e201",
   "metadata": {},
   "outputs": [],
   "source": [
    "result_list = decode_msg(img)\n",
    "result_string = ''.join(map(str, result_list))\n",
    "result_string = result_string.replace(',', '').replace(' ', '')"
   ]
  },
  {
   "cell_type": "code",
   "execution_count": 578,
   "id": "0f117fe9",
   "metadata": {},
   "outputs": [
    {
     "data": {
      "text/plain": [
       "'01000011011011110110010001100101011001000010000001001101011001010111001101110011011000010110011101100101'"
      ]
     },
     "execution_count": 578,
     "metadata": {},
     "output_type": "execute_result"
    }
   ],
   "source": [
    "result_string"
   ]
  },
  {
   "cell_type": "code",
   "execution_count": 579,
   "id": "640aaa99",
   "metadata": {
    "scrolled": true
   },
   "outputs": [
    {
     "data": {
      "text/plain": [
       "'Coded Message'"
      ]
     },
     "execution_count": 579,
     "metadata": {},
     "output_type": "execute_result"
    }
   ],
   "source": [
    "def binaire_to_chaine(binaire):\n",
    "    \n",
    "    octets = [binaire[i:i+8] for i in range(0, len(binaire), 8)]\n",
    "    caracteres = ''.join([chr(int(octet, 2)) for octet in octets])\n",
    "\n",
    "    return caracteres\n",
    "binaire_to_chaine(result_string)"
   ]
  },
  {
   "cell_type": "code",
   "execution_count": null,
   "id": "6ee16169",
   "metadata": {},
   "outputs": [],
   "source": []
  },
  {
   "cell_type": "code",
   "execution_count": null,
   "id": "7f21a19f",
   "metadata": {},
   "outputs": [],
   "source": []
  },
  {
   "cell_type": "code",
   "execution_count": 547,
   "id": "474a991d",
   "metadata": {},
   "outputs": [],
   "source": []
  },
  {
   "cell_type": "code",
   "execution_count": null,
   "id": "4d7ac525",
   "metadata": {},
   "outputs": [],
   "source": []
  },
  {
   "cell_type": "code",
   "execution_count": null,
   "id": "9d854482",
   "metadata": {},
   "outputs": [],
   "source": []
  },
  {
   "cell_type": "code",
   "execution_count": null,
   "id": "d02242aa",
   "metadata": {},
   "outputs": [],
   "source": []
  },
  {
   "cell_type": "code",
   "execution_count": null,
   "id": "30959ecb",
   "metadata": {},
   "outputs": [],
   "source": []
  }
 ],
 "metadata": {
  "kernelspec": {
   "display_name": "Python 3 (ipykernel)",
   "language": "python",
   "name": "python3"
  },
  "language_info": {
   "codemirror_mode": {
    "name": "ipython",
    "version": 3
   },
   "file_extension": ".py",
   "mimetype": "text/x-python",
   "name": "python",
   "nbconvert_exporter": "python",
   "pygments_lexer": "ipython3",
   "version": "3.11.4"
  }
 },
 "nbformat": 4,
 "nbformat_minor": 5
}

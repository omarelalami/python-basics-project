{
 "cells": [
  {
   "cell_type": "markdown",
   "id": "a29377d0",
   "metadata": {},
   "source": [
    "<div class=\"alert alert-block alert-info\">\n",
    "<b>Mini Projet l\n",
    "    a partie 2</b> \n",
    "</div>"
   ]
  },
  {
   "cell_type": "code",
   "execution_count": 2,
   "id": "3566d10e",
   "metadata": {},
   "outputs": [],
   "source": [
    "import pandas as pd"
   ]
  },
  {
   "cell_type": "code",
   "execution_count": 3,
   "id": "db6b747f",
   "metadata": {},
   "outputs": [],
   "source": [
    "import matplotlib.pyplot as plt"
   ]
  },
  {
   "cell_type": "markdown",
   "id": "23b0b9bb",
   "metadata": {},
   "source": [
    "<div class=\"alert alert-block alert-info\">\n",
    "<b>Lecture de fichier Json</b> \n",
    "</div>"
   ]
  },
  {
   "cell_type": "code",
   "execution_count": 4,
   "id": "00a76242",
   "metadata": {},
   "outputs": [],
   "source": [
    "df=pd.read_json('Clustering_Model_result.json')"
   ]
  },
  {
   "cell_type": "markdown",
   "id": "81d60eaf",
   "metadata": {},
   "source": [
    "<div class=\"alert alert-block alert-info\">\n",
    "<b>Lecture de fichier Xlsx</b> \n",
    "</div>"
   ]
  },
  {
   "cell_type": "code",
   "execution_count": 5,
   "id": "c3139952",
   "metadata": {},
   "outputs": [],
   "source": [
    "mydf=pd.read_excel('LRFMP1P2IT.xlsx')"
   ]
  },
  {
   "cell_type": "code",
   "execution_count": 6,
   "id": "0410fc2d",
   "metadata": {},
   "outputs": [
    {
     "data": {
      "text/html": [
       "<div>\n",
       "<style scoped>\n",
       "    .dataframe tbody tr th:only-of-type {\n",
       "        vertical-align: middle;\n",
       "    }\n",
       "\n",
       "    .dataframe tbody tr th {\n",
       "        vertical-align: top;\n",
       "    }\n",
       "\n",
       "    .dataframe thead th {\n",
       "        text-align: right;\n",
       "    }\n",
       "</style>\n",
       "<table border=\"1\" class=\"dataframe\">\n",
       "  <thead>\n",
       "    <tr style=\"text-align: right;\">\n",
       "      <th></th>\n",
       "      <th>Customer_ID</th>\n",
       "      <th>Frequence</th>\n",
       "      <th>Recence</th>\n",
       "      <th>Longueur</th>\n",
       "      <th>Montant</th>\n",
       "      <th>NbrP1</th>\n",
       "      <th>NbrP2</th>\n",
       "      <th>Inter_achat</th>\n",
       "    </tr>\n",
       "  </thead>\n",
       "  <tbody>\n",
       "    <tr>\n",
       "      <th>0</th>\n",
       "      <td>1</td>\n",
       "      <td>1</td>\n",
       "      <td>1</td>\n",
       "      <td>0</td>\n",
       "      <td>69</td>\n",
       "      <td>1</td>\n",
       "      <td>0</td>\n",
       "      <td>41.573700</td>\n",
       "    </tr>\n",
       "    <tr>\n",
       "      <th>1</th>\n",
       "      <td>2</td>\n",
       "      <td>1</td>\n",
       "      <td>3</td>\n",
       "      <td>0</td>\n",
       "      <td>350</td>\n",
       "      <td>1</td>\n",
       "      <td>0</td>\n",
       "      <td>41.573700</td>\n",
       "    </tr>\n",
       "    <tr>\n",
       "      <th>2</th>\n",
       "      <td>3</td>\n",
       "      <td>1</td>\n",
       "      <td>4</td>\n",
       "      <td>0</td>\n",
       "      <td>69</td>\n",
       "      <td>1</td>\n",
       "      <td>0</td>\n",
       "      <td>41.573700</td>\n",
       "    </tr>\n",
       "    <tr>\n",
       "      <th>3</th>\n",
       "      <td>4</td>\n",
       "      <td>1</td>\n",
       "      <td>6</td>\n",
       "      <td>0</td>\n",
       "      <td>120</td>\n",
       "      <td>1</td>\n",
       "      <td>0</td>\n",
       "      <td>41.573700</td>\n",
       "    </tr>\n",
       "    <tr>\n",
       "      <th>4</th>\n",
       "      <td>5</td>\n",
       "      <td>1</td>\n",
       "      <td>6</td>\n",
       "      <td>0</td>\n",
       "      <td>120</td>\n",
       "      <td>1</td>\n",
       "      <td>0</td>\n",
       "      <td>41.573700</td>\n",
       "    </tr>\n",
       "    <tr>\n",
       "      <th>...</th>\n",
       "      <td>...</td>\n",
       "      <td>...</td>\n",
       "      <td>...</td>\n",
       "      <td>...</td>\n",
       "      <td>...</td>\n",
       "      <td>...</td>\n",
       "      <td>...</td>\n",
       "      <td>...</td>\n",
       "    </tr>\n",
       "    <tr>\n",
       "      <th>1712</th>\n",
       "      <td>1713</td>\n",
       "      <td>3</td>\n",
       "      <td>394</td>\n",
       "      <td>260</td>\n",
       "      <td>1464</td>\n",
       "      <td>2</td>\n",
       "      <td>1</td>\n",
       "      <td>130.000000</td>\n",
       "    </tr>\n",
       "    <tr>\n",
       "      <th>1713</th>\n",
       "      <td>1714</td>\n",
       "      <td>5</td>\n",
       "      <td>59</td>\n",
       "      <td>22</td>\n",
       "      <td>951</td>\n",
       "      <td>5</td>\n",
       "      <td>0</td>\n",
       "      <td>5.500000</td>\n",
       "    </tr>\n",
       "    <tr>\n",
       "      <th>1714</th>\n",
       "      <td>1715</td>\n",
       "      <td>12</td>\n",
       "      <td>405</td>\n",
       "      <td>399</td>\n",
       "      <td>2616</td>\n",
       "      <td>6</td>\n",
       "      <td>6</td>\n",
       "      <td>36.272727</td>\n",
       "    </tr>\n",
       "    <tr>\n",
       "      <th>1715</th>\n",
       "      <td>1716</td>\n",
       "      <td>5</td>\n",
       "      <td>155</td>\n",
       "      <td>44</td>\n",
       "      <td>2888</td>\n",
       "      <td>5</td>\n",
       "      <td>0</td>\n",
       "      <td>11.000000</td>\n",
       "    </tr>\n",
       "    <tr>\n",
       "      <th>1716</th>\n",
       "      <td>1717</td>\n",
       "      <td>2</td>\n",
       "      <td>92</td>\n",
       "      <td>9</td>\n",
       "      <td>1380</td>\n",
       "      <td>2</td>\n",
       "      <td>0</td>\n",
       "      <td>9.000000</td>\n",
       "    </tr>\n",
       "  </tbody>\n",
       "</table>\n",
       "<p>1717 rows × 8 columns</p>\n",
       "</div>"
      ],
      "text/plain": [
       "      Customer_ID  Frequence  Recence  Longueur  Montant  NbrP1  NbrP2  \\\n",
       "0               1          1        1         0       69      1      0   \n",
       "1               2          1        3         0      350      1      0   \n",
       "2               3          1        4         0       69      1      0   \n",
       "3               4          1        6         0      120      1      0   \n",
       "4               5          1        6         0      120      1      0   \n",
       "...           ...        ...      ...       ...      ...    ...    ...   \n",
       "1712         1713          3      394       260     1464      2      1   \n",
       "1713         1714          5       59        22      951      5      0   \n",
       "1714         1715         12      405       399     2616      6      6   \n",
       "1715         1716          5      155        44     2888      5      0   \n",
       "1716         1717          2       92         9     1380      2      0   \n",
       "\n",
       "      Inter_achat  \n",
       "0       41.573700  \n",
       "1       41.573700  \n",
       "2       41.573700  \n",
       "3       41.573700  \n",
       "4       41.573700  \n",
       "...           ...  \n",
       "1712   130.000000  \n",
       "1713     5.500000  \n",
       "1714    36.272727  \n",
       "1715    11.000000  \n",
       "1716     9.000000  \n",
       "\n",
       "[1717 rows x 8 columns]"
      ]
     },
     "execution_count": 6,
     "metadata": {},
     "output_type": "execute_result"
    }
   ],
   "source": [
    "mydf"
   ]
  },
  {
   "cell_type": "code",
   "execution_count": 7,
   "id": "9d1fdf44",
   "metadata": {},
   "outputs": [
    {
     "data": {
      "text/html": [
       "<div>\n",
       "<style scoped>\n",
       "    .dataframe tbody tr th:only-of-type {\n",
       "        vertical-align: middle;\n",
       "    }\n",
       "\n",
       "    .dataframe tbody tr th {\n",
       "        vertical-align: top;\n",
       "    }\n",
       "\n",
       "    .dataframe thead th {\n",
       "        text-align: right;\n",
       "    }\n",
       "</style>\n",
       "<table border=\"1\" class=\"dataframe\">\n",
       "  <thead>\n",
       "    <tr style=\"text-align: right;\">\n",
       "      <th></th>\n",
       "      <th>Customer_ID</th>\n",
       "      <th>Frequency</th>\n",
       "      <th>Recency</th>\n",
       "      <th>Length</th>\n",
       "      <th>Monetary</th>\n",
       "      <th>Cluster</th>\n",
       "    </tr>\n",
       "  </thead>\n",
       "  <tbody>\n",
       "    <tr>\n",
       "      <th>0</th>\n",
       "      <td>1</td>\n",
       "      <td>-1.185691</td>\n",
       "      <td>-2.011266</td>\n",
       "      <td>-1.219013</td>\n",
       "      <td>-0.988066</td>\n",
       "      <td>cluster_5</td>\n",
       "    </tr>\n",
       "    <tr>\n",
       "      <th>1</th>\n",
       "      <td>2</td>\n",
       "      <td>-1.185691</td>\n",
       "      <td>-1.996520</td>\n",
       "      <td>-1.219013</td>\n",
       "      <td>-0.888919</td>\n",
       "      <td>cluster_5</td>\n",
       "    </tr>\n",
       "    <tr>\n",
       "      <th>2</th>\n",
       "      <td>3</td>\n",
       "      <td>-1.185691</td>\n",
       "      <td>-1.989147</td>\n",
       "      <td>-1.219013</td>\n",
       "      <td>-0.988066</td>\n",
       "      <td>cluster_5</td>\n",
       "    </tr>\n",
       "    <tr>\n",
       "      <th>3</th>\n",
       "      <td>4</td>\n",
       "      <td>-1.185691</td>\n",
       "      <td>-1.974402</td>\n",
       "      <td>-1.219013</td>\n",
       "      <td>-0.970071</td>\n",
       "      <td>cluster_5</td>\n",
       "    </tr>\n",
       "    <tr>\n",
       "      <th>4</th>\n",
       "      <td>5</td>\n",
       "      <td>-1.185691</td>\n",
       "      <td>-1.974402</td>\n",
       "      <td>-1.219013</td>\n",
       "      <td>-0.970071</td>\n",
       "      <td>cluster_5</td>\n",
       "    </tr>\n",
       "    <tr>\n",
       "      <th>...</th>\n",
       "      <td>...</td>\n",
       "      <td>...</td>\n",
       "      <td>...</td>\n",
       "      <td>...</td>\n",
       "      <td>...</td>\n",
       "      <td>...</td>\n",
       "    </tr>\n",
       "    <tr>\n",
       "      <th>1712</th>\n",
       "      <td>1713</td>\n",
       "      <td>-0.814494</td>\n",
       "      <td>0.886274</td>\n",
       "      <td>0.996309</td>\n",
       "      <td>-0.495858</td>\n",
       "      <td>cluster_2</td>\n",
       "    </tr>\n",
       "    <tr>\n",
       "      <th>1713</th>\n",
       "      <td>1714</td>\n",
       "      <td>-0.443296</td>\n",
       "      <td>-1.583639</td>\n",
       "      <td>-1.031562</td>\n",
       "      <td>-0.676864</td>\n",
       "      <td>cluster_5</td>\n",
       "    </tr>\n",
       "    <tr>\n",
       "      <th>1714</th>\n",
       "      <td>1715</td>\n",
       "      <td>0.855894</td>\n",
       "      <td>0.967375</td>\n",
       "      <td>2.180654</td>\n",
       "      <td>-0.089390</td>\n",
       "      <td>cluster_1</td>\n",
       "    </tr>\n",
       "    <tr>\n",
       "      <th>1715</th>\n",
       "      <td>1716</td>\n",
       "      <td>-0.443296</td>\n",
       "      <td>-0.875843</td>\n",
       "      <td>-0.844112</td>\n",
       "      <td>0.006581</td>\n",
       "      <td>cluster_0</td>\n",
       "    </tr>\n",
       "    <tr>\n",
       "      <th>1716</th>\n",
       "      <td>1717</td>\n",
       "      <td>-1.000092</td>\n",
       "      <td>-1.340334</td>\n",
       "      <td>-1.142328</td>\n",
       "      <td>-0.525497</td>\n",
       "      <td>cluster_5</td>\n",
       "    </tr>\n",
       "  </tbody>\n",
       "</table>\n",
       "<p>1717 rows × 6 columns</p>\n",
       "</div>"
      ],
      "text/plain": [
       "      Customer_ID  Frequency   Recency    Length  Monetary    Cluster\n",
       "0               1  -1.185691 -2.011266 -1.219013 -0.988066  cluster_5\n",
       "1               2  -1.185691 -1.996520 -1.219013 -0.888919  cluster_5\n",
       "2               3  -1.185691 -1.989147 -1.219013 -0.988066  cluster_5\n",
       "3               4  -1.185691 -1.974402 -1.219013 -0.970071  cluster_5\n",
       "4               5  -1.185691 -1.974402 -1.219013 -0.970071  cluster_5\n",
       "...           ...        ...       ...       ...       ...        ...\n",
       "1712         1713  -0.814494  0.886274  0.996309 -0.495858  cluster_2\n",
       "1713         1714  -0.443296 -1.583639 -1.031562 -0.676864  cluster_5\n",
       "1714         1715   0.855894  0.967375  2.180654 -0.089390  cluster_1\n",
       "1715         1716  -0.443296 -0.875843 -0.844112  0.006581  cluster_0\n",
       "1716         1717  -1.000092 -1.340334 -1.142328 -0.525497  cluster_5\n",
       "\n",
       "[1717 rows x 6 columns]"
      ]
     },
     "execution_count": 7,
     "metadata": {},
     "output_type": "execute_result"
    }
   ],
   "source": [
    "df"
   ]
  },
  {
   "cell_type": "markdown",
   "id": "db829a55",
   "metadata": {},
   "source": [
    "<div class=\"alert alert-block alert-info\">\n",
    "<b>Merge Data</b> \n",
    "</div>"
   ]
  },
  {
   "cell_type": "code",
   "execution_count": 8,
   "id": "687d3d9c",
   "metadata": {},
   "outputs": [],
   "source": [
    "mydf = pd.merge(mydf, df[['Customer_ID','Cluster']],on='Customer_ID')"
   ]
  },
  {
   "cell_type": "markdown",
   "id": "1a287b60",
   "metadata": {},
   "source": [
    "<div class=\"alert alert-block alert-info\">\n",
    "<b>Calcule de by Cluster</b> \n",
    "</div>"
   ]
  },
  {
   "cell_type": "code",
   "execution_count": 9,
   "id": "bc333128",
   "metadata": {},
   "outputs": [],
   "source": [
    "newdta=mydf.groupby(['Cluster']).agg(Nbr_client=('Customer_ID','count'),\n",
    "                                     MeanL=('Longueur','mean'),\n",
    "                                     MeanR=('Recence','mean'),\n",
    "                                     MeanF=('Frequence','mean'),\n",
    "                                     MeanM=('Montant','mean')\n",
    "                                     \n",
    "                                    )"
   ]
  },
  {
   "cell_type": "code",
   "execution_count": 16,
   "id": "764d7ba1",
   "metadata": {},
   "outputs": [],
   "source": [
    "newdta['pattern']=(newdta['MeanL']>mydf['Longueur'].mean()).astype('i').astype('str')+(newdta['MeanR']>mydf['Recence'].mean()).astype('i').astype('str')+(newdta['MeanF']>mydf['Frequence'].mean()).astype('i').astype('str')+(newdta['MeanM']>mydf['Montant'].mean()).astype('i').astype('str')"
   ]
  },
  {
   "cell_type": "code",
   "execution_count": 11,
   "id": "fc3fec2c",
   "metadata": {},
   "outputs": [
    {
     "data": {
      "text/plain": [
       "152.89974005632158"
      ]
     },
     "execution_count": 11,
     "metadata": {},
     "output_type": "execute_result"
    }
   ],
   "source": [
    "newdta['MeanL'].mean()"
   ]
  },
  {
   "cell_type": "code",
   "execution_count": 18,
   "id": "b871bbce",
   "metadata": {
    "scrolled": true
   },
   "outputs": [
    {
     "data": {
      "text/html": [
       "<div>\n",
       "<style scoped>\n",
       "    .dataframe tbody tr th:only-of-type {\n",
       "        vertical-align: middle;\n",
       "    }\n",
       "\n",
       "    .dataframe tbody tr th {\n",
       "        vertical-align: top;\n",
       "    }\n",
       "\n",
       "    .dataframe thead th {\n",
       "        text-align: right;\n",
       "    }\n",
       "</style>\n",
       "<table border=\"1\" class=\"dataframe\">\n",
       "  <thead>\n",
       "    <tr style=\"text-align: right;\">\n",
       "      <th></th>\n",
       "      <th>Nbr_client</th>\n",
       "      <th>MeanL</th>\n",
       "      <th>MeanR</th>\n",
       "      <th>MeanF</th>\n",
       "      <th>MeanM</th>\n",
       "      <th>pattern</th>\n",
       "    </tr>\n",
       "    <tr>\n",
       "      <th>Cluster</th>\n",
       "      <th></th>\n",
       "      <th></th>\n",
       "      <th></th>\n",
       "      <th></th>\n",
       "      <th></th>\n",
       "      <th></th>\n",
       "    </tr>\n",
       "  </thead>\n",
       "  <tbody>\n",
       "    <tr>\n",
       "      <th>cluster_0</th>\n",
       "      <td>262</td>\n",
       "      <td>93.820611</td>\n",
       "      <td>162.339695</td>\n",
       "      <td>7.419847</td>\n",
       "      <td>2644.549618</td>\n",
       "      <td>0010</td>\n",
       "    </tr>\n",
       "    <tr>\n",
       "      <th>cluster_1</th>\n",
       "      <td>189</td>\n",
       "      <td>289.227513</td>\n",
       "      <td>379.830688</td>\n",
       "      <td>12.788360</td>\n",
       "      <td>4212.687831</td>\n",
       "      <td>1111</td>\n",
       "    </tr>\n",
       "    <tr>\n",
       "      <th>cluster_2</th>\n",
       "      <td>339</td>\n",
       "      <td>271.362832</td>\n",
       "      <td>377.206490</td>\n",
       "      <td>5.147493</td>\n",
       "      <td>1723.233038</td>\n",
       "      <td>1100</td>\n",
       "    </tr>\n",
       "    <tr>\n",
       "      <th>cluster_3</th>\n",
       "      <td>250</td>\n",
       "      <td>81.100000</td>\n",
       "      <td>378.832000</td>\n",
       "      <td>4.172000</td>\n",
       "      <td>1449.260000</td>\n",
       "      <td>0100</td>\n",
       "    </tr>\n",
       "    <tr>\n",
       "      <th>cluster_4</th>\n",
       "      <td>138</td>\n",
       "      <td>210.717391</td>\n",
       "      <td>378.637681</td>\n",
       "      <td>15.014493</td>\n",
       "      <td>10454.202899</td>\n",
       "      <td>1111</td>\n",
       "    </tr>\n",
       "    <tr>\n",
       "      <th>cluster_5</th>\n",
       "      <td>377</td>\n",
       "      <td>23.063660</td>\n",
       "      <td>83.185676</td>\n",
       "      <td>2.610080</td>\n",
       "      <td>891.283820</td>\n",
       "      <td>0000</td>\n",
       "    </tr>\n",
       "    <tr>\n",
       "      <th>cluster_6</th>\n",
       "      <td>162</td>\n",
       "      <td>101.006173</td>\n",
       "      <td>306.092593</td>\n",
       "      <td>15.314815</td>\n",
       "      <td>4397.617284</td>\n",
       "      <td>0111</td>\n",
       "    </tr>\n",
       "  </tbody>\n",
       "</table>\n",
       "</div>"
      ],
      "text/plain": [
       "           Nbr_client       MeanL       MeanR      MeanF         MeanM pattern\n",
       "Cluster                                                                       \n",
       "cluster_0         262   93.820611  162.339695   7.419847   2644.549618    0010\n",
       "cluster_1         189  289.227513  379.830688  12.788360   4212.687831    1111\n",
       "cluster_2         339  271.362832  377.206490   5.147493   1723.233038    1100\n",
       "cluster_3         250   81.100000  378.832000   4.172000   1449.260000    0100\n",
       "cluster_4         138  210.717391  378.637681  15.014493  10454.202899    1111\n",
       "cluster_5         377   23.063660   83.185676   2.610080    891.283820    0000\n",
       "cluster_6         162  101.006173  306.092593  15.314815   4397.617284    0111"
      ]
     },
     "execution_count": 18,
     "metadata": {},
     "output_type": "execute_result"
    }
   ],
   "source": [
    "newdta"
   ]
  },
  {
   "cell_type": "markdown",
   "id": "60fb3896",
   "metadata": {},
   "source": [
    "<div class=\"alert alert-block alert-success\">\n",
    "<b>Interpretation des résultat</b>\n",
    "</div>\n",
    "\n",
    "<div class=\"alert alert-block alert-warning\">\n",
    "<br>Cluster_0 0010:  Clients récent, et acheté plus d’une fois.</br> \n",
    "<br>Cluster_1 1111:  des anciens A acheté récemment, achète souvent et dépense le plus. </br> \n",
    "<br>Cluster_2 1100:  Ce sont des anciens client A acheté récemment mais n’achète pas souvent qui n’a pas dépensé beaucoup.</br>\n",
    "<br>cluster_3 0100:  des nouveau client qui A acheté récemment mais n’achète pas souvent qui n’a pas dépensé beaucoup.</br>\n",
    "<br>cluster_4 1111:  des anciens A acheté récemment, achète souvent et dépense le plus.</br> \n",
    "<br>cluster_5 0000:  Clients récent, mais il n'a pas fait aucun interaction avec les articles.</br> \n",
    "<br>cluster_6 0111:  des nouveux client qui ont active et interessé au par le site web</br> \n",
    "    \n",
    "</div>\n"
   ]
  },
  {
   "cell_type": "markdown",
   "id": "d2622f22",
   "metadata": {},
   "source": [
    "<div class=\"alert alert-block alert-info\">\n",
    "<b>Nombre de clients par Cluster</b> \n",
    "</div>"
   ]
  },
  {
   "cell_type": "code",
   "execution_count": 189,
   "id": "ca41a982",
   "metadata": {},
   "outputs": [
    {
     "data": {
      "text/plain": [
       "<BarContainer object of 7 artists>"
      ]
     },
     "execution_count": 189,
     "metadata": {},
     "output_type": "execute_result"
    },
    {
     "data": {
      "image/png": "[encoded data removed]",
      "text/plain": [
       "<Figure size 640x480 with 1 Axes>"
      ]
     },
     "metadata": {},
     "output_type": "display_data"
    }
   ],
   "source": [
    "plt.bar(newdta.index,newdta['Nbr_client'])"
   ]
  },
  {
   "cell_type": "markdown",
   "id": "74b80522",
   "metadata": {},
   "source": [
    "<div class=\"alert alert-block alert-info\">\n",
    "<b>Nombre de transaction par Cluster</b> \n",
    "</div>"
   ]
  },
  {
   "cell_type": "code",
   "execution_count": 190,
   "id": "565ec091",
   "metadata": {},
   "outputs": [
    {
     "data": {
      "text/html": [
       "<div>\n",
       "<style scoped>\n",
       "    .dataframe tbody tr th:only-of-type {\n",
       "        vertical-align: middle;\n",
       "    }\n",
       "\n",
       "    .dataframe tbody tr th {\n",
       "        vertical-align: top;\n",
       "    }\n",
       "\n",
       "    .dataframe thead th {\n",
       "        text-align: right;\n",
       "    }\n",
       "</style>\n",
       "<table border=\"1\" class=\"dataframe\">\n",
       "  <thead>\n",
       "    <tr style=\"text-align: right;\">\n",
       "      <th></th>\n",
       "      <th>NbrP2</th>\n",
       "      <th>NbrP1</th>\n",
       "    </tr>\n",
       "    <tr>\n",
       "      <th>Cluster</th>\n",
       "      <th></th>\n",
       "      <th></th>\n",
       "    </tr>\n",
       "  </thead>\n",
       "  <tbody>\n",
       "    <tr>\n",
       "      <th>cluster_0</th>\n",
       "      <td>65</td>\n",
       "      <td>1882</td>\n",
       "    </tr>\n",
       "    <tr>\n",
       "      <th>cluster_1</th>\n",
       "      <td>1207</td>\n",
       "      <td>1215</td>\n",
       "    </tr>\n",
       "    <tr>\n",
       "      <th>cluster_2</th>\n",
       "      <td>858</td>\n",
       "      <td>892</td>\n",
       "    </tr>\n",
       "    <tr>\n",
       "      <th>cluster_3</th>\n",
       "      <td>950</td>\n",
       "      <td>95</td>\n",
       "    </tr>\n",
       "    <tr>\n",
       "      <th>cluster_4</th>\n",
       "      <td>1381</td>\n",
       "      <td>695</td>\n",
       "    </tr>\n",
       "    <tr>\n",
       "      <th>cluster_5</th>\n",
       "      <td>1</td>\n",
       "      <td>983</td>\n",
       "    </tr>\n",
       "    <tr>\n",
       "      <th>cluster_6</th>\n",
       "      <td>1458</td>\n",
       "      <td>1033</td>\n",
       "    </tr>\n",
       "  </tbody>\n",
       "</table>\n",
       "</div>"
      ],
      "text/plain": [
       "           NbrP2  NbrP1\n",
       "Cluster                \n",
       "cluster_0     65   1882\n",
       "cluster_1   1207   1215\n",
       "cluster_2    858    892\n",
       "cluster_3    950     95\n",
       "cluster_4   1381    695\n",
       "cluster_5      1    983\n",
       "cluster_6   1458   1033"
      ]
     },
     "execution_count": 190,
     "metadata": {},
     "output_type": "execute_result"
    }
   ],
   "source": [
    "sum_achat=mydf.groupby(mydf['Cluster'])[['NbrP2','NbrP1']].agg('sum')\n",
    "sum_achat"
   ]
  },
  {
   "cell_type": "code",
   "execution_count": 191,
   "id": "7c3b18bb",
   "metadata": {},
   "outputs": [],
   "source": [
    "sum_achat=sum_achat['NbrP1']+sum_achat['NbrP2']"
   ]
  },
  {
   "cell_type": "code",
   "execution_count": 192,
   "id": "8127f9f6",
   "metadata": {
    "scrolled": true
   },
   "outputs": [
    {
     "data": {
      "text/plain": [
       "Cluster\n",
       "cluster_0    1947\n",
       "cluster_1    2422\n",
       "cluster_2    1750\n",
       "cluster_3    1045\n",
       "cluster_4    2076\n",
       "cluster_5     984\n",
       "cluster_6    2491\n",
       "dtype: int64"
      ]
     },
     "execution_count": 192,
     "metadata": {},
     "output_type": "execute_result"
    }
   ],
   "source": [
    "sum_achat\n"
   ]
  },
  {
   "cell_type": "code",
   "execution_count": 193,
   "id": "bd107756",
   "metadata": {},
   "outputs": [
    {
     "data": {
      "text/plain": [
       "<BarContainer object of 7 artists>"
      ]
     },
     "execution_count": 193,
     "metadata": {},
     "output_type": "execute_result"
    },
    {
     "data": {
      "image/png": "[encoded data removed]",
      "text/plain": [
       "<Figure size 640x480 with 1 Axes>"
      ]
     },
     "metadata": {},
     "output_type": "display_data"
    }
   ],
   "source": [
    "plt.bar(sum_achat.index,sum_achat)"
   ]
  },
  {
   "cell_type": "markdown",
   "id": "f63d7604",
   "metadata": {},
   "source": [
    "<div class=\"alert alert-block alert-info\">\n",
    "<b>Total dépensé par Cluster</b> \n",
    "</div>"
   ]
  },
  {
   "cell_type": "code",
   "execution_count": 194,
   "id": "c0e6fd17",
   "metadata": {},
   "outputs": [
    {
     "data": {
      "text/plain": [
       "<BarContainer object of 7 artists>"
      ]
     },
     "execution_count": 194,
     "metadata": {},
     "output_type": "execute_result"
    },
    {
     "data": {
      "image/png": "[encoded data removed]",
      "text/plain": [
       "<Figure size 640x480 with 1 Axes>"
      ]
     },
     "metadata": {},
     "output_type": "display_data"
    }
   ],
   "source": [
    "plt.bar(sum_achat.index,mydf.groupby(mydf['Cluster'])['Montant'].agg('sum'))"
   ]
  },
  {
   "cell_type": "markdown",
   "id": "35f26945",
   "metadata": {},
   "source": [
    "<div class=\"alert alert-block alert-info\">\n",
    "<b>Panier moyen par Cluster</b> \n",
    "</div>"
   ]
  },
  {
   "cell_type": "code",
   "execution_count": 195,
   "id": "aa30c948",
   "metadata": {
    "scrolled": true
   },
   "outputs": [],
   "source": [
    "chiffre=mydf.groupby(mydf['Cluster']).agg(Panier_moyen=('Montant','sum'))"
   ]
  },
  {
   "cell_type": "code",
   "execution_count": 196,
   "id": "dc33c352",
   "metadata": {},
   "outputs": [
    {
     "data": {
      "text/plain": [
       "<BarContainer object of 7 artists>"
      ]
     },
     "execution_count": 196,
     "metadata": {},
     "output_type": "execute_result"
    },
    {
     "data": {
      "image/png": "[encoded data removed]",
      "text/plain": [
       "<Figure size 640x480 with 1 Axes>"
      ]
     },
     "metadata": {},
     "output_type": "display_data"
    }
   ],
   "source": [
    "plt.bar(chiffre.index,(chiffre['Panier_moyen']/sum_achat))"
   ]
  },
  {
   "cell_type": "code",
   "execution_count": 197,
   "id": "a1017d2e",
   "metadata": {},
   "outputs": [
    {
     "data": {
      "text/plain": [
       "Cluster\n",
       "cluster_0    1947\n",
       "cluster_1    2422\n",
       "cluster_2    1750\n",
       "cluster_3    1045\n",
       "cluster_4    2076\n",
       "cluster_5     984\n",
       "cluster_6    2491\n",
       "dtype: int64"
      ]
     },
     "execution_count": 197,
     "metadata": {},
     "output_type": "execute_result"
    }
   ],
   "source": [
    "sum_achat"
   ]
  },
  {
   "cell_type": "code",
   "execution_count": 198,
   "id": "8cc5500f",
   "metadata": {},
   "outputs": [
    {
     "data": {
      "text/html": [
       "<div>\n",
       "<style scoped>\n",
       "    .dataframe tbody tr th:only-of-type {\n",
       "        vertical-align: middle;\n",
       "    }\n",
       "\n",
       "    .dataframe tbody tr th {\n",
       "        vertical-align: top;\n",
       "    }\n",
       "\n",
       "    .dataframe thead th {\n",
       "        text-align: right;\n",
       "    }\n",
       "</style>\n",
       "<table border=\"1\" class=\"dataframe\">\n",
       "  <thead>\n",
       "    <tr style=\"text-align: right;\">\n",
       "      <th></th>\n",
       "      <th>Panier_moyen</th>\n",
       "    </tr>\n",
       "    <tr>\n",
       "      <th>Cluster</th>\n",
       "      <th></th>\n",
       "    </tr>\n",
       "  </thead>\n",
       "  <tbody>\n",
       "    <tr>\n",
       "      <th>cluster_0</th>\n",
       "      <td>692872</td>\n",
       "    </tr>\n",
       "    <tr>\n",
       "      <th>cluster_1</th>\n",
       "      <td>796198</td>\n",
       "    </tr>\n",
       "    <tr>\n",
       "      <th>cluster_2</th>\n",
       "      <td>584176</td>\n",
       "    </tr>\n",
       "    <tr>\n",
       "      <th>cluster_3</th>\n",
       "      <td>362315</td>\n",
       "    </tr>\n",
       "    <tr>\n",
       "      <th>cluster_4</th>\n",
       "      <td>1442680</td>\n",
       "    </tr>\n",
       "    <tr>\n",
       "      <th>cluster_5</th>\n",
       "      <td>336014</td>\n",
       "    </tr>\n",
       "    <tr>\n",
       "      <th>cluster_6</th>\n",
       "      <td>712414</td>\n",
       "    </tr>\n",
       "  </tbody>\n",
       "</table>\n",
       "</div>"
      ],
      "text/plain": [
       "           Panier_moyen\n",
       "Cluster                \n",
       "cluster_0        692872\n",
       "cluster_1        796198\n",
       "cluster_2        584176\n",
       "cluster_3        362315\n",
       "cluster_4       1442680\n",
       "cluster_5        336014\n",
       "cluster_6        712414"
      ]
     },
     "execution_count": 198,
     "metadata": {},
     "output_type": "execute_result"
    }
   ],
   "source": [
    "chiffre"
   ]
  }
 ],
 "metadata": {
  "kernelspec": {
   "display_name": "Python 3 (ipykernel)",
   "language": "python",
   "name": "python3"
  },
  "language_info": {
   "codemirror_mode": {
    "name": "ipython",
    "version": 3
   },
   "file_extension": ".py",
   "mimetype": "text/x-python",
   "name": "python",
   "nbconvert_exporter": "python",
   "pygments_lexer": "ipython3",
   "version": "3.9.13"
  }
 },
 "nbformat": 4,
 "nbformat_minor": 5
}

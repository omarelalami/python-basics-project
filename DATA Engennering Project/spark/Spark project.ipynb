{
 "cells": [
  {
   "cell_type": "code",
   "execution_count": 1,
   "id": "72c5f48b",
   "metadata": {},
   "outputs": [],
   "source": [
    "import pyspark"
   ]
  },
  {
   "cell_type": "markdown",
   "id": "cccdbfc0",
   "metadata": {},
   "source": [
    "# 1- Create sPark App"
   ]
  },
  {
   "cell_type": "code",
   "execution_count": 2,
   "id": "d5d2d7de",
   "metadata": {},
   "outputs": [],
   "source": [
    "from pyspark.sql import SparkSession"
   ]
  },
  {
   "cell_type": "code",
   "execution_count": 5,
   "id": "3d8352ee",
   "metadata": {},
   "outputs": [
    {
     "data": {
      "text/html": [
       "\n",
       "            <div>\n",
       "                <p><b>SparkSession - in-memory</b></p>\n",
       "                \n",
       "        <div>\n",
       "            <p><b>SparkContext</b></p>\n",
       "\n",
       "            <p><a href=\"http://YASSER-DESKTOP:4040\">Spark UI</a></p>\n",
       "\n",
       "            <dl>\n",
       "              <dt>Version</dt>\n",
       "                <dd><code>v3.3.1</code></dd>\n",
       "              <dt>Master</dt>\n",
       "                <dd><code>local[*]</code></dd>\n",
       "              <dt>AppName</dt>\n",
       "                <dd><code>Tp_Spark</code></dd>\n",
       "            </dl>\n",
       "        </div>\n",
       "        \n",
       "            </div>\n",
       "        "
      ],
      "text/plain": [
       "<pyspark.sql.session.SparkSession at 0x227b81bbbe0>"
      ]
     },
     "execution_count": 5,
     "metadata": {},
     "output_type": "execute_result"
    }
   ],
   "source": [
    "spark = SparkSession.builder.appName('Tp_Spark').getOrCreate()\n",
    "spark"
   ]
  },
  {
   "cell_type": "markdown",
   "id": "3d9a984a",
   "metadata": {},
   "source": [
    "# 2 - Dataframes"
   ]
  },
  {
   "cell_type": "code",
   "execution_count": 17,
   "id": "9208faae",
   "metadata": {},
   "outputs": [
    {
     "name": "stdout",
     "output_type": "stream",
     "text": [
      "+--------------+-----------------+----------------+---+------+------+\n",
      "|          name|      departement|experience_years|age|gender|salary|\n",
      "+--------------+-----------------+----------------+---+------+------+\n",
      "| Dustin Bowman|     Data Science|               5| 28|Female|250000|\n",
      "| Lucas Guillot|          Network|               1| 21|  Male| 50000|\n",
      "|Alfred Nicolas|Web Developpement|               3| 23|Female|170000|\n",
      "|Daniel Poulsen|     Data Science|               2| 22|  Male| 25000|\n",
      "| Enora Laurent|Web Developpement|               1| 17|  Male| 10000|\n",
      "+--------------+-----------------+----------------+---+------+------+\n",
      "only showing top 5 rows\n",
      "\n"
     ]
    }
   ],
   "source": [
    "# Q2\n",
    "df = spark.read.csv('employee_salary_data.csv', header=True, inferSchema=True)\n",
    "df.show(5)"
   ]
  },
  {
   "cell_type": "code",
   "execution_count": 18,
   "id": "cab98213",
   "metadata": {},
   "outputs": [
    {
     "data": {
      "text/plain": [
       "['name', 'departement', 'experience_years', 'age', 'gender', 'salary']"
      ]
     },
     "execution_count": 18,
     "metadata": {},
     "output_type": "execute_result"
    }
   ],
   "source": [
    "# Q3\n",
    "df.columns"
   ]
  },
  {
   "cell_type": "code",
   "execution_count": 16,
   "id": "36eb6b51",
   "metadata": {},
   "outputs": [
    {
     "name": "stdout",
     "output_type": "stream",
     "text": [
      "root\n",
      " |-- name: string (nullable = true)\n",
      " |-- departement: string (nullable = true)\n",
      " |-- experience_years: string (nullable = true)\n",
      " |-- age: string (nullable = true)\n",
      " |-- gender: string (nullable = true)\n",
      " |-- salary: string (nullable = true)\n",
      "\n"
     ]
    }
   ],
   "source": [
    "df.printSchema()"
   ]
  },
  {
   "cell_type": "code",
   "execution_count": 19,
   "id": "36a16277",
   "metadata": {},
   "outputs": [
    {
     "name": "stdout",
     "output_type": "stream",
     "text": [
      "+-------+-----------------+-----------------+-----------------+------------------+------+-----------------+\n",
      "|summary|             name|      departement| experience_years|               age|gender|           salary|\n",
      "+-------+-----------------+-----------------+-----------------+------------------+------+-----------------+\n",
      "|  count|               42|               42|               38|                38|    37|               40|\n",
      "|   mean|             null|             null|9.026315789473685| 35.36842105263158|  null|       1803053.75|\n",
      "| stddev|             null|             null|7.379617078270803|14.183014303625377|  null|3038440.659103915|\n",
      "|    min|   Alfred Nicolas|         Big Data|                1|                17|Female|             3000|\n",
      "|    max|Wiktoria Gronbech|Web Developpement|               27|                62|  Male|         10000000|\n",
      "+-------+-----------------+-----------------+-----------------+------------------+------+-----------------+\n",
      "\n"
     ]
    }
   ],
   "source": [
    "# Q4\n",
    "df.describe().show()"
   ]
  },
  {
   "cell_type": "code",
   "execution_count": 24,
   "id": "37204970",
   "metadata": {},
   "outputs": [
    {
     "name": "stdout",
     "output_type": "stream",
     "text": [
      "+---+\n",
      "|age|\n",
      "+---+\n",
      "| 28|\n",
      "| 21|\n",
      "| 23|\n",
      "| 22|\n",
      "| 17|\n",
      "+---+\n",
      "only showing top 5 rows\n",
      "\n"
     ]
    }
   ],
   "source": [
    "# Q5\n",
    "df.select('age').show(5)"
   ]
  },
  {
   "cell_type": "code",
   "execution_count": 25,
   "id": "e718fe6d",
   "metadata": {},
   "outputs": [
    {
     "name": "stdout",
     "output_type": "stream",
     "text": [
      "+---+------+\n",
      "|age|gender|\n",
      "+---+------+\n",
      "| 28|Female|\n",
      "| 21|  Male|\n",
      "| 23|Female|\n",
      "| 22|  Male|\n",
      "| 17|  Male|\n",
      "+---+------+\n",
      "only showing top 5 rows\n",
      "\n"
     ]
    }
   ],
   "source": [
    "df.select(['age', 'gender']).show(5)"
   ]
  },
  {
   "cell_type": "code",
   "execution_count": 28,
   "id": "8e51844a",
   "metadata": {},
   "outputs": [
    {
     "name": "stdout",
     "output_type": "stream",
     "text": [
      "+------------------+-----------------+----------------+----+------+-------+------------+\n",
      "|              name|      departement|experience_years| age|gender| salary|experimented|\n",
      "+------------------+-----------------+----------------+----+------+-------+------------+\n",
      "|     Dustin Bowman|     Data Science|               5|  28|Female| 250000|       false|\n",
      "|     Lucas Guillot|          Network|               1|  21|  Male|  50000|       false|\n",
      "|    Alfred Nicolas|Web Developpement|               3|  23|Female| 170000|       false|\n",
      "|    Daniel Poulsen|     Data Science|               2|  22|  Male|  25000|       false|\n",
      "|     Enora Laurent|Web Developpement|               1|  17|  Male|  10000|       false|\n",
      "|  Kadir Turkyilmaz|      Mobile Apps|               2|null|  Male|   8000|       false|\n",
      "|     Jorge Stevens|          Network|              25|  62|  Male|5001000|        true|\n",
      "|       Vernon Long|         Big Data|              19|  54|Female| 800000|        true|\n",
      "|Natnael Romundstad|     Data Science|               2|  21|Female|   9000|       false|\n",
      "|     Morasaki Bara|Web Developpement|              10|  36|Female|  61500|       false|\n",
      "|   Marenne Haaksma|Web Developpement|              15|  54|Female| 650000|        true|\n",
      "|   Kasper Johansen|      Mobile Apps|               4|  26|Female| 250000|       false|\n",
      "|     Astrid Larsen|Web Developpement|               6|  29|  Male|1400000|       false|\n",
      "|        Isla Kumar|          Network|            null|  25|  null|  10000|        null|\n",
      "|       Sabri Meder|      Mobile Apps|              14|  39|  Male|6000050|       false|\n",
      "|     Stella Taylor|Web Developpement|              11|  40|  Male| 220100|       false|\n",
      "|        John Elder|Web Developpement|               2|  23|  Male|   7500|       false|\n",
      "|       Owen Fields|     Data Science|            null|  35|  null|   9000|        null|\n",
      "|       Esma Arican|         Big Data|               4|  27|Female|  87000|       false|\n",
      "|         Taha Adan|     Data Science|              10|  34|Female| 930000|       false|\n",
      "+------------------+-----------------+----------------+----+------+-------+------------+\n",
      "only showing top 20 rows\n",
      "\n"
     ]
    }
   ],
   "source": [
    "# Q6\n",
    "df = df.withColumn('experimented', df['experience_years'] >= 15)\n",
    "df.show()"
   ]
  },
  {
   "cell_type": "code",
   "execution_count": 30,
   "id": "2b670f26",
   "metadata": {},
   "outputs": [
    {
     "name": "stdout",
     "output_type": "stream",
     "text": [
      "+--------------+-----------------+----------------+---+------+------+\n",
      "|          name|      departement|experience_years|age|gender|salary|\n",
      "+--------------+-----------------+----------------+---+------+------+\n",
      "| Dustin Bowman|     Data Science|               5| 28|Female|250000|\n",
      "| Lucas Guillot|          Network|               1| 21|  Male| 50000|\n",
      "|Alfred Nicolas|Web Developpement|               3| 23|Female|170000|\n",
      "|Daniel Poulsen|     Data Science|               2| 22|  Male| 25000|\n",
      "| Enora Laurent|Web Developpement|               1| 17|  Male| 10000|\n",
      "+--------------+-----------------+----------------+---+------+------+\n",
      "only showing top 5 rows\n",
      "\n"
     ]
    }
   ],
   "source": [
    "# Q7\n",
    "df = df.drop('experimented')\n",
    "df.show(5)"
   ]
  },
  {
   "cell_type": "code",
   "execution_count": 32,
   "id": "a6b0352f",
   "metadata": {},
   "outputs": [
    {
     "name": "stdout",
     "output_type": "stream",
     "text": [
      "+--------------+-----------------+----------+---+------+------+\n",
      "|          name|      departement|experience|age|gender|salary|\n",
      "+--------------+-----------------+----------+---+------+------+\n",
      "| Dustin Bowman|     Data Science|         5| 28|Female|250000|\n",
      "| Lucas Guillot|          Network|         1| 21|  Male| 50000|\n",
      "|Alfred Nicolas|Web Developpement|         3| 23|Female|170000|\n",
      "|Daniel Poulsen|     Data Science|         2| 22|  Male| 25000|\n",
      "| Enora Laurent|Web Developpement|         1| 17|  Male| 10000|\n",
      "+--------------+-----------------+----------+---+------+------+\n",
      "only showing top 5 rows\n",
      "\n"
     ]
    }
   ],
   "source": [
    "# Q8\n",
    "df = df.withColumnRenamed('experience_years', 'experience')\n",
    "df.show(5)"
   ]
  },
  {
   "cell_type": "markdown",
   "id": "5f898e40",
   "metadata": {},
   "source": [
    "# 3 - Missing Values"
   ]
  },
  {
   "cell_type": "code",
   "execution_count": 34,
   "id": "28552a98",
   "metadata": {},
   "outputs": [
    {
     "name": "stdout",
     "output_type": "stream",
     "text": [
      "+--------------+-----------------+----------+---+------+------+\n",
      "|          name|      departement|experience|age|gender|salary|\n",
      "+--------------+-----------------+----------+---+------+------+\n",
      "| Dustin Bowman|     Data Science|         5| 28|Female|250000|\n",
      "| Lucas Guillot|          Network|         1| 21|  Male| 50000|\n",
      "|Alfred Nicolas|Web Developpement|         3| 23|Female|170000|\n",
      "|Daniel Poulsen|     Data Science|         2| 22|  Male| 25000|\n",
      "| Enora Laurent|Web Developpement|         1| 17|  Male| 10000|\n",
      "+--------------+-----------------+----------+---+------+------+\n",
      "only showing top 5 rows\n",
      "\n"
     ]
    }
   ],
   "source": [
    "# Q9 Q10\n",
    "df.na.drop().show(5)"
   ]
  },
  {
   "cell_type": "code",
   "execution_count": 42,
   "id": "bb4058fe",
   "metadata": {},
   "outputs": [
    {
     "name": "stdout",
     "output_type": "stream",
     "text": [
      "+------------------+-----------------+----------+----+------+-------+\n",
      "|              name|      departement|experience| age|gender| salary|\n",
      "+------------------+-----------------+----------+----+------+-------+\n",
      "|     Dustin Bowman|     Data Science|         5|  28|Female| 250000|\n",
      "|     Lucas Guillot|          Network|         1|  21|  Male|  50000|\n",
      "|    Alfred Nicolas|Web Developpement|         3|  23|Female| 170000|\n",
      "|    Daniel Poulsen|     Data Science|         2|  22|  Male|  25000|\n",
      "|     Enora Laurent|Web Developpement|         1|  17|  Male|  10000|\n",
      "|  Kadir Turkyilmaz|      Mobile Apps|         2|null|  Male|   8000|\n",
      "|     Jorge Stevens|          Network|        25|  62|  Male|5001000|\n",
      "|       Vernon Long|         Big Data|        19|  54|Female| 800000|\n",
      "|Natnael Romundstad|     Data Science|         2|  21|Female|   9000|\n",
      "|     Morasaki Bara|Web Developpement|        10|  36|Female|  61500|\n",
      "|   Marenne Haaksma|Web Developpement|        15|  54|Female| 650000|\n",
      "|   Kasper Johansen|      Mobile Apps|         4|  26|Female| 250000|\n",
      "|     Astrid Larsen|Web Developpement|         6|  29|  Male|1400000|\n",
      "|        Isla Kumar|          Network|      null|  25|  null|  10000|\n",
      "|       Sabri Meder|      Mobile Apps|        14|  39|  Male|6000050|\n",
      "|     Stella Taylor|Web Developpement|        11|  40|  Male| 220100|\n",
      "|        John Elder|Web Developpement|         2|  23|  Male|   7500|\n",
      "|       Owen Fields|     Data Science|      null|  35|  null|   9000|\n",
      "|       Esma Arican|         Big Data|         4|  27|Female|  87000|\n",
      "|         Taha Adan|     Data Science|        10|  34|Female| 930000|\n",
      "+------------------+-----------------+----------+----+------+-------+\n",
      "only showing top 20 rows\n",
      "\n"
     ]
    }
   ],
   "source": [
    "df.show()"
   ]
  },
  {
   "cell_type": "code",
   "execution_count": 47,
   "id": "c919aba6",
   "metadata": {},
   "outputs": [
    {
     "name": "stdout",
     "output_type": "stream",
     "text": [
      "+------------------+-----------------+----------+----+------+-------+\n",
      "|              name|      departement|experience| age|gender| salary|\n",
      "+------------------+-----------------+----------+----+------+-------+\n",
      "|     Dustin Bowman|     Data Science|         5|  28|Female| 250000|\n",
      "|     Lucas Guillot|          Network|         1|  21|  Male|  50000|\n",
      "|    Alfred Nicolas|Web Developpement|         3|  23|Female| 170000|\n",
      "|    Daniel Poulsen|     Data Science|         2|  22|  Male|  25000|\n",
      "|     Enora Laurent|Web Developpement|         1|  17|  Male|  10000|\n",
      "|  Kadir Turkyilmaz|      Mobile Apps|         2|null|  Male|   8000|\n",
      "|     Jorge Stevens|          Network|        25|  62|  Male|5001000|\n",
      "|       Vernon Long|         Big Data|        19|  54|Female| 800000|\n",
      "|Natnael Romundstad|     Data Science|         2|  21|Female|   9000|\n",
      "|     Morasaki Bara|Web Developpement|        10|  36|Female|  61500|\n",
      "|   Marenne Haaksma|Web Developpement|        15|  54|Female| 650000|\n",
      "|   Kasper Johansen|      Mobile Apps|         4|  26|Female| 250000|\n",
      "|     Astrid Larsen|Web Developpement|         6|  29|  Male|1400000|\n",
      "|       Sabri Meder|      Mobile Apps|        14|  39|  Male|6000050|\n",
      "|     Stella Taylor|Web Developpement|        11|  40|  Male| 220100|\n",
      "|        John Elder|Web Developpement|         2|  23|  Male|   7500|\n",
      "|       Esma Arican|         Big Data|         4|  27|Female|  87000|\n",
      "|         Taha Adan|     Data Science|        10|  34|Female| 930000|\n",
      "|        Dmitri Jas|         Big Data|        15|  54|Female|7900000|\n",
      "|      Melika Alkan|         Big Data|         2|  21|  Male|  15000|\n",
      "+------------------+-----------------+----------+----+------+-------+\n",
      "only showing top 20 rows\n",
      "\n"
     ]
    }
   ],
   "source": [
    "df.na.drop(how='any', thresh=5).show()"
   ]
  },
  {
   "cell_type": "code",
   "execution_count": 49,
   "id": "f87f80d2",
   "metadata": {},
   "outputs": [
    {
     "name": "stdout",
     "output_type": "stream",
     "text": [
      "+------------------+-----------------+----------+---+------+-------+\n",
      "|              name|      departement|experience|age|gender| salary|\n",
      "+------------------+-----------------+----------+---+------+-------+\n",
      "|     Dustin Bowman|     Data Science|         5| 28|Female| 250000|\n",
      "|     Lucas Guillot|          Network|         1| 21|  Male|  50000|\n",
      "|    Alfred Nicolas|Web Developpement|         3| 23|Female| 170000|\n",
      "|    Daniel Poulsen|     Data Science|         2| 22|  Male|  25000|\n",
      "|     Enora Laurent|Web Developpement|         1| 17|  Male|  10000|\n",
      "|     Jorge Stevens|          Network|        25| 62|  Male|5001000|\n",
      "|       Vernon Long|         Big Data|        19| 54|Female| 800000|\n",
      "|Natnael Romundstad|     Data Science|         2| 21|Female|   9000|\n",
      "|     Morasaki Bara|Web Developpement|        10| 36|Female|  61500|\n",
      "|   Marenne Haaksma|Web Developpement|        15| 54|Female| 650000|\n",
      "|   Kasper Johansen|      Mobile Apps|         4| 26|Female| 250000|\n",
      "|     Astrid Larsen|Web Developpement|         6| 29|  Male|1400000|\n",
      "|        Isla Kumar|          Network|      null| 25|  null|  10000|\n",
      "|       Sabri Meder|      Mobile Apps|        14| 39|  Male|6000050|\n",
      "|     Stella Taylor|Web Developpement|        11| 40|  Male| 220100|\n",
      "|        John Elder|Web Developpement|         2| 23|  Male|   7500|\n",
      "|       Owen Fields|     Data Science|      null| 35|  null|   9000|\n",
      "|       Esma Arican|         Big Data|         4| 27|Female|  87000|\n",
      "|         Taha Adan|     Data Science|        10| 34|Female| 930000|\n",
      "|        Dmitri Jas|         Big Data|        15| 54|Female|7900000|\n",
      "+------------------+-----------------+----------+---+------+-------+\n",
      "only showing top 20 rows\n",
      "\n"
     ]
    }
   ],
   "source": [
    "df.na.drop(how='any', subset=['age']).show()"
   ]
  },
  {
   "cell_type": "code",
   "execution_count": 50,
   "id": "b4d56ee6",
   "metadata": {},
   "outputs": [
    {
     "name": "stdout",
     "output_type": "stream",
     "text": [
      "+-------+-----------------+-----------------+-----------------+------------------+------+-----------------+\n",
      "|summary|             name|      departement|       experience|               age|gender|           salary|\n",
      "+-------+-----------------+-----------------+-----------------+------------------+------+-----------------+\n",
      "|  count|               42|               42|               38|                38|    37|               40|\n",
      "|   mean|             null|             null|9.026315789473685| 35.36842105263158|  null|       1803053.75|\n",
      "| stddev|             null|             null|7.379617078270803|14.183014303625377|  null|3038440.659103915|\n",
      "|    min|   Alfred Nicolas|         Big Data|                1|                17|Female|             3000|\n",
      "|    max|Wiktoria Gronbech|Web Developpement|               27|                62|  Male|         10000000|\n",
      "+-------+-----------------+-----------------+-----------------+------------------+------+-----------------+\n",
      "\n"
     ]
    }
   ],
   "source": [
    "df.describe().show()"
   ]
  },
  {
   "cell_type": "code",
   "execution_count": 52,
   "id": "480133ca",
   "metadata": {},
   "outputs": [],
   "source": [
    "# Q11\n",
    "from pyspark.ml.feature import Imputer\n",
    "\n",
    "imputer = Imputer(\n",
    "        inputCols=['age', 'experience', 'salary'],\n",
    "        outputCols=['age', 'experience', 'salary']\n",
    "        ).setStrategy('mean')"
   ]
  },
  {
   "cell_type": "code",
   "execution_count": 53,
   "id": "5e84cb5e",
   "metadata": {},
   "outputs": [
    {
     "name": "stdout",
     "output_type": "stream",
     "text": [
      "+------------------+-----------------+----------+---+------+-------+\n",
      "|              name|      departement|experience|age|gender| salary|\n",
      "+------------------+-----------------+----------+---+------+-------+\n",
      "|     Dustin Bowman|     Data Science|         5| 28|Female| 250000|\n",
      "|     Lucas Guillot|          Network|         1| 21|  Male|  50000|\n",
      "|    Alfred Nicolas|Web Developpement|         3| 23|Female| 170000|\n",
      "|    Daniel Poulsen|     Data Science|         2| 22|  Male|  25000|\n",
      "|     Enora Laurent|Web Developpement|         1| 17|  Male|  10000|\n",
      "|  Kadir Turkyilmaz|      Mobile Apps|         2| 35|  Male|   8000|\n",
      "|     Jorge Stevens|          Network|        25| 62|  Male|5001000|\n",
      "|       Vernon Long|         Big Data|        19| 54|Female| 800000|\n",
      "|Natnael Romundstad|     Data Science|         2| 21|Female|   9000|\n",
      "|     Morasaki Bara|Web Developpement|        10| 36|Female|  61500|\n",
      "|   Marenne Haaksma|Web Developpement|        15| 54|Female| 650000|\n",
      "|   Kasper Johansen|      Mobile Apps|         4| 26|Female| 250000|\n",
      "|     Astrid Larsen|Web Developpement|         6| 29|  Male|1400000|\n",
      "|        Isla Kumar|          Network|         9| 25|  null|  10000|\n",
      "|       Sabri Meder|      Mobile Apps|        14| 39|  Male|6000050|\n",
      "|     Stella Taylor|Web Developpement|        11| 40|  Male| 220100|\n",
      "|        John Elder|Web Developpement|         2| 23|  Male|   7500|\n",
      "|       Owen Fields|     Data Science|         9| 35|  null|   9000|\n",
      "|       Esma Arican|         Big Data|         4| 27|Female|  87000|\n",
      "|         Taha Adan|     Data Science|        10| 34|Female| 930000|\n",
      "+------------------+-----------------+----------+---+------+-------+\n",
      "only showing top 20 rows\n",
      "\n"
     ]
    }
   ],
   "source": [
    "df = imputer.fit(df).transform(df)\n",
    "df.show()"
   ]
  },
  {
   "cell_type": "code",
   "execution_count": 54,
   "id": "66542bc0",
   "metadata": {},
   "outputs": [
    {
     "name": "stdout",
     "output_type": "stream",
     "text": [
      "+-------+-----------------+-----------------+-----------------+------------------+------+------------------+\n",
      "|summary|             name|      departement|       experience|               age|gender|            salary|\n",
      "+-------+-----------------+-----------------+-----------------+------------------+------+------------------+\n",
      "|  count|               42|               42|               42|                42|    37|                42|\n",
      "|   mean|             null|             null|9.023809523809524|35.333333333333336|  null|1803053.7142857143|\n",
      "| stddev|             null|             null|7.010403750378556|  13.4738530290023|  null| 2963405.851697764|\n",
      "|    min|   Alfred Nicolas|         Big Data|                1|                17|Female|              3000|\n",
      "|    max|Wiktoria Gronbech|Web Developpement|               27|                62|  Male|          10000000|\n",
      "+-------+-----------------+-----------------+-----------------+------------------+------+------------------+\n",
      "\n"
     ]
    }
   ],
   "source": [
    "df.describe().show()"
   ]
  },
  {
   "cell_type": "markdown",
   "id": "27526914",
   "metadata": {},
   "source": [
    "# 4 - Filters"
   ]
  },
  {
   "cell_type": "code",
   "execution_count": 55,
   "id": "e743f24a",
   "metadata": {
    "scrolled": true
   },
   "outputs": [
    {
     "name": "stdout",
     "output_type": "stream",
     "text": [
      "+------------------+-----------------+----------+---+------+------+\n",
      "|              name|      departement|experience|age|gender|salary|\n",
      "+------------------+-----------------+----------+---+------+------+\n",
      "|     Enora Laurent|Web Developpement|         1| 17|  Male| 10000|\n",
      "|  Kadir Turkyilmaz|      Mobile Apps|         2| 35|  Male|  8000|\n",
      "|Natnael Romundstad|     Data Science|         2| 21|Female|  9000|\n",
      "|        Isla Kumar|          Network|         9| 25|  null| 10000|\n",
      "|        John Elder|Web Developpement|         2| 23|  Male|  7500|\n",
      "|       Owen Fields|     Data Science|         9| 35|  null|  9000|\n",
      "|      Melika Alkan|         Big Data|         2| 21|  Male| 15000|\n",
      "|        Emily Hart|         Big Data|         1| 21|Female|  6000|\n",
      "|   Magn�lia Barros|      Mobile Apps|         4| 23|Female|  8900|\n",
      "|       Henry Davis|          Network|         3| 22|Female| 20000|\n",
      "|       Levi Perrin|Web Developpement|         1| 18|  Male|  3000|\n",
      "|        Said Heide|     Data Science|         9| 35|  null| 14000|\n",
      "|    Oguzhan Candan|          Network|         2| 21|Female|  6100|\n",
      "|      Berenice Roy|Web Developpement|         6| 35|  null| 11000|\n",
      "+------------------+-----------------+----------+---+------+------+\n",
      "\n"
     ]
    }
   ],
   "source": [
    "# Q12\n",
    "df.filter(df['salary'] <= 20000).show()"
   ]
  },
  {
   "cell_type": "code",
   "execution_count": 57,
   "id": "cc8e496c",
   "metadata": {},
   "outputs": [
    {
     "name": "stdout",
     "output_type": "stream",
     "text": [
      "+---+----------+------+\n",
      "|age|experience|salary|\n",
      "+---+----------+------+\n",
      "| 17|         1| 10000|\n",
      "| 35|         2|  8000|\n",
      "| 21|         2|  9000|\n",
      "| 25|         9| 10000|\n",
      "| 23|         2|  7500|\n",
      "| 35|         9|  9000|\n",
      "| 21|         2| 15000|\n",
      "| 21|         1|  6000|\n",
      "| 23|         4|  8900|\n",
      "| 22|         3| 20000|\n",
      "| 18|         1|  3000|\n",
      "| 35|         9| 14000|\n",
      "| 21|         2|  6100|\n",
      "| 35|         6| 11000|\n",
      "+---+----------+------+\n",
      "\n"
     ]
    }
   ],
   "source": [
    "df.filter(df['salary'] <= 20000).select(['age', 'experience', 'salary']).show()"
   ]
  },
  {
   "cell_type": "code",
   "execution_count": 58,
   "id": "f6f71cef",
   "metadata": {},
   "outputs": [
    {
     "name": "stdout",
     "output_type": "stream",
     "text": [
      "+------------+-----------+----------+---+------+------+\n",
      "|        name|departement|experience|age|gender|salary|\n",
      "+------------+-----------+----------+---+------+------+\n",
      "|Melika Alkan|   Big Data|         2| 21|  Male| 15000|\n",
      "| Henry Davis|    Network|         3| 22|Female| 20000|\n",
      "+------------+-----------+----------+---+------+------+\n",
      "\n"
     ]
    }
   ],
   "source": [
    "df.filter((df['salary'] <= 20000) & (df['salary'] >= 15000)).show()"
   ]
  },
  {
   "cell_type": "code",
   "execution_count": 60,
   "id": "be8423e1",
   "metadata": {},
   "outputs": [
    {
     "name": "stdout",
     "output_type": "stream",
     "text": [
      "+--------------+-----------------+----------+---+------+-------+\n",
      "|          name|      departement|experience|age|gender| salary|\n",
      "+--------------+-----------------+----------+---+------+-------+\n",
      "| Dustin Bowman|     Data Science|         5| 28|Female| 250000|\n",
      "| Lucas Guillot|          Network|         1| 21|  Male|  50000|\n",
      "|Alfred Nicolas|Web Developpement|         3| 23|Female| 170000|\n",
      "|Daniel Poulsen|     Data Science|         2| 22|  Male|  25000|\n",
      "| Jorge Stevens|          Network|        25| 62|  Male|5001000|\n",
      "+--------------+-----------------+----------+---+------+-------+\n",
      "only showing top 5 rows\n",
      "\n"
     ]
    }
   ],
   "source": [
    "df.filter(~(df['salary'] <= 20000)).show(5)"
   ]
  },
  {
   "cell_type": "markdown",
   "id": "453dbd24",
   "metadata": {},
   "source": [
    "# 5 - Grouping By"
   ]
  },
  {
   "cell_type": "code",
   "execution_count": 62,
   "id": "3a8adb1d",
   "metadata": {},
   "outputs": [
    {
     "name": "stdout",
     "output_type": "stream",
     "text": [
      "+-----------------+------------------+------------------+------------------+\n",
      "|      departement|   avg(experience)|          avg(age)|       avg(salary)|\n",
      "+-----------------+------------------+------------------+------------------+\n",
      "|Web Developpement| 8.166666666666666|34.166666666666664|          758175.0|\n",
      "|      Mobile Apps|               8.0|34.166666666666664|         3735325.0|\n",
      "|         Big Data|11.333333333333334|39.833333333333336|3134666.6666666665|\n",
      "|          Network|             9.125|            32.875|        912519.125|\n",
      "|     Data Science|               9.2|              36.7|         1811005.3|\n",
      "+-----------------+------------------+------------------+------------------+\n",
      "\n"
     ]
    }
   ],
   "source": [
    "# Q13\n",
    "df.groupBy('departement').mean().show()"
   ]
  },
  {
   "cell_type": "code",
   "execution_count": 66,
   "id": "5d590087",
   "metadata": {},
   "outputs": [
    {
     "name": "stdout",
     "output_type": "stream",
     "text": [
      "+-----------------+---------------+--------+-----------+\n",
      "|      departement|sum(experience)|sum(age)|sum(salary)|\n",
      "+-----------------+---------------+--------+-----------+\n",
      "|Web Developpement|             98|     410|    9098100|\n",
      "|      Mobile Apps|             48|     205|   22411950|\n",
      "|         Big Data|             68|     239|   18808000|\n",
      "|          Network|             73|     263|    7300153|\n",
      "|     Data Science|             92|     367|   18110053|\n",
      "+-----------------+---------------+--------+-----------+\n",
      "\n"
     ]
    }
   ],
   "source": [
    "df.groupBy('departement').sum().show()"
   ]
  },
  {
   "cell_type": "code",
   "execution_count": 68,
   "id": "79e80f87",
   "metadata": {},
   "outputs": [
    {
     "name": "stdout",
     "output_type": "stream",
     "text": [
      "+------+---------------+--------+-----------+\n",
      "|gender|max(experience)|max(age)|max(salary)|\n",
      "+------+---------------+--------+-----------+\n",
      "|  null|             13|      42|    1803053|\n",
      "|Female|             27|      62|   10000000|\n",
      "|  Male|             25|      62|    7600000|\n",
      "+------+---------------+--------+-----------+\n",
      "\n"
     ]
    }
   ],
   "source": [
    "# Q14\n",
    "df.groupBy('gender').max().show()"
   ]
  },
  {
   "cell_type": "markdown",
   "id": "45e0ca2e",
   "metadata": {},
   "source": [
    "# 6 - Plotting with spark"
   ]
  },
  {
   "cell_type": "code",
   "execution_count": 69,
   "id": "db487f72",
   "metadata": {},
   "outputs": [
    {
     "data": {
      "text/plain": [
       "pyspark.sql.dataframe.DataFrame"
      ]
     },
     "execution_count": 69,
     "metadata": {},
     "output_type": "execute_result"
    }
   ],
   "source": [
    "type(df)"
   ]
  },
  {
   "cell_type": "code",
   "execution_count": 71,
   "id": "27f6d212",
   "metadata": {},
   "outputs": [
    {
     "data": {
      "text/html": [
       "<div>\n",
       "<style scoped>\n",
       "    .dataframe tbody tr th:only-of-type {\n",
       "        vertical-align: middle;\n",
       "    }\n",
       "\n",
       "    .dataframe tbody tr th {\n",
       "        vertical-align: top;\n",
       "    }\n",
       "\n",
       "    .dataframe thead th {\n",
       "        text-align: right;\n",
       "    }\n",
       "</style>\n",
       "<table border=\"1\" class=\"dataframe\">\n",
       "  <thead>\n",
       "    <tr style=\"text-align: right;\">\n",
       "      <th></th>\n",
       "      <th>name</th>\n",
       "      <th>departement</th>\n",
       "      <th>experience</th>\n",
       "      <th>age</th>\n",
       "      <th>gender</th>\n",
       "      <th>salary</th>\n",
       "    </tr>\n",
       "  </thead>\n",
       "  <tbody>\n",
       "    <tr>\n",
       "      <th>0</th>\n",
       "      <td>Dustin Bowman</td>\n",
       "      <td>Data Science</td>\n",
       "      <td>5</td>\n",
       "      <td>28</td>\n",
       "      <td>Female</td>\n",
       "      <td>250000</td>\n",
       "    </tr>\n",
       "    <tr>\n",
       "      <th>1</th>\n",
       "      <td>Lucas Guillot</td>\n",
       "      <td>Network</td>\n",
       "      <td>1</td>\n",
       "      <td>21</td>\n",
       "      <td>Male</td>\n",
       "      <td>50000</td>\n",
       "    </tr>\n",
       "    <tr>\n",
       "      <th>2</th>\n",
       "      <td>Alfred Nicolas</td>\n",
       "      <td>Web Developpement</td>\n",
       "      <td>3</td>\n",
       "      <td>23</td>\n",
       "      <td>Female</td>\n",
       "      <td>170000</td>\n",
       "    </tr>\n",
       "    <tr>\n",
       "      <th>3</th>\n",
       "      <td>Daniel Poulsen</td>\n",
       "      <td>Data Science</td>\n",
       "      <td>2</td>\n",
       "      <td>22</td>\n",
       "      <td>Male</td>\n",
       "      <td>25000</td>\n",
       "    </tr>\n",
       "    <tr>\n",
       "      <th>4</th>\n",
       "      <td>Enora Laurent</td>\n",
       "      <td>Web Developpement</td>\n",
       "      <td>1</td>\n",
       "      <td>17</td>\n",
       "      <td>Male</td>\n",
       "      <td>10000</td>\n",
       "    </tr>\n",
       "  </tbody>\n",
       "</table>\n",
       "</div>"
      ],
      "text/plain": [
       "             name        departement  experience  age  gender  salary\n",
       "0   Dustin Bowman       Data Science           5   28  Female  250000\n",
       "1   Lucas Guillot            Network           1   21    Male   50000\n",
       "2  Alfred Nicolas  Web Developpement           3   23  Female  170000\n",
       "3  Daniel Poulsen       Data Science           2   22    Male   25000\n",
       "4   Enora Laurent  Web Developpement           1   17    Male   10000"
      ]
     },
     "execution_count": 71,
     "metadata": {},
     "output_type": "execute_result"
    }
   ],
   "source": [
    "# Q15\n",
    "pd_df = df.toPandas()\n",
    "pd_df.head()"
   ]
  },
  {
   "cell_type": "code",
   "execution_count": 72,
   "id": "719e96b4",
   "metadata": {},
   "outputs": [
    {
     "data": {
      "text/plain": [
       "pandas.core.frame.DataFrame"
      ]
     },
     "execution_count": 72,
     "metadata": {},
     "output_type": "execute_result"
    }
   ],
   "source": [
    "type(pd_df)"
   ]
  },
  {
   "cell_type": "code",
   "execution_count": 77,
   "id": "e054a014",
   "metadata": {},
   "outputs": [
    {
     "data": {
      "text/plain": [
       "<AxesSubplot:xlabel='experience', ylabel='age'>"
      ]
     },
     "execution_count": 77,
     "metadata": {},
     "output_type": "execute_result"
    },
    {
     "data": {
      "image/png": "[encoded data removed]",
      "text/plain": [
       "<Figure size 432x288 with 1 Axes>"
      ]
     },
     "metadata": {
      "needs_background": "light"
     },
     "output_type": "display_data"
    }
   ],
   "source": [
    "pd_df.plot.scatter(x='experience', y='age')"
   ]
  },
  {
   "cell_type": "code",
   "execution_count": 78,
   "id": "408c904e",
   "metadata": {},
   "outputs": [
    {
     "data": {
      "text/html": [
       "<div>\n",
       "<style scoped>\n",
       "    .dataframe tbody tr th:only-of-type {\n",
       "        vertical-align: middle;\n",
       "    }\n",
       "\n",
       "    .dataframe tbody tr th {\n",
       "        vertical-align: top;\n",
       "    }\n",
       "\n",
       "    .dataframe thead th {\n",
       "        text-align: right;\n",
       "    }\n",
       "</style>\n",
       "<table border=\"1\" class=\"dataframe\">\n",
       "  <thead>\n",
       "    <tr style=\"text-align: right;\">\n",
       "      <th></th>\n",
       "      <th>name</th>\n",
       "      <th>experience</th>\n",
       "      <th>age</th>\n",
       "      <th>gender</th>\n",
       "      <th>salary</th>\n",
       "    </tr>\n",
       "    <tr>\n",
       "      <th>departement</th>\n",
       "      <th></th>\n",
       "      <th></th>\n",
       "      <th></th>\n",
       "      <th></th>\n",
       "      <th></th>\n",
       "    </tr>\n",
       "  </thead>\n",
       "  <tbody>\n",
       "    <tr>\n",
       "      <th>Big Data</th>\n",
       "      <td>6</td>\n",
       "      <td>6</td>\n",
       "      <td>6</td>\n",
       "      <td>6</td>\n",
       "      <td>6</td>\n",
       "    </tr>\n",
       "    <tr>\n",
       "      <th>Data Science</th>\n",
       "      <td>10</td>\n",
       "      <td>10</td>\n",
       "      <td>10</td>\n",
       "      <td>8</td>\n",
       "      <td>10</td>\n",
       "    </tr>\n",
       "    <tr>\n",
       "      <th>Mobile Apps</th>\n",
       "      <td>6</td>\n",
       "      <td>6</td>\n",
       "      <td>6</td>\n",
       "      <td>6</td>\n",
       "      <td>6</td>\n",
       "    </tr>\n",
       "    <tr>\n",
       "      <th>Network</th>\n",
       "      <td>8</td>\n",
       "      <td>8</td>\n",
       "      <td>8</td>\n",
       "      <td>6</td>\n",
       "      <td>8</td>\n",
       "    </tr>\n",
       "    <tr>\n",
       "      <th>Web Developpement</th>\n",
       "      <td>12</td>\n",
       "      <td>12</td>\n",
       "      <td>12</td>\n",
       "      <td>11</td>\n",
       "      <td>12</td>\n",
       "    </tr>\n",
       "  </tbody>\n",
       "</table>\n",
       "</div>"
      ],
      "text/plain": [
       "                   name  experience  age  gender  salary\n",
       "departement                                             \n",
       "Big Data              6           6    6       6       6\n",
       "Data Science         10          10   10       8      10\n",
       "Mobile Apps           6           6    6       6       6\n",
       "Network               8           8    8       6       8\n",
       "Web Developpement    12          12   12      11      12"
      ]
     },
     "execution_count": 78,
     "metadata": {},
     "output_type": "execute_result"
    }
   ],
   "source": [
    "# Q16\n",
    "departement_df = pd_df.groupby('departement').count()\n",
    "departement_df"
   ]
  },
  {
   "cell_type": "code",
   "execution_count": 80,
   "id": "3fc50c87",
   "metadata": {},
   "outputs": [
    {
     "data": {
      "text/plain": [
       "<AxesSubplot:ylabel='departement'>"
      ]
     },
     "execution_count": 80,
     "metadata": {},
     "output_type": "execute_result"
    },
    {
     "data": {
      "image/png": "[encoded data removed]",
      "text/plain": [
       "<Figure size 432x288 with 1 Axes>"
      ]
     },
     "metadata": {
      "needs_background": "light"
     },
     "output_type": "display_data"
    }
   ],
   "source": [
    "departement_df['name'].plot.barh()"
   ]
  },
  {
   "cell_type": "markdown",
   "id": "13ff7c30",
   "metadata": {},
   "source": [
    "# 7 - Spark Mlib "
   ]
  },
  {
   "cell_type": "code",
   "execution_count": 93,
   "id": "d4da6324",
   "metadata": {},
   "outputs": [
    {
     "name": "stdout",
     "output_type": "stream",
     "text": [
      "+------------------+-----------------+----------+---+------+-------+\n",
      "|              name|      departement|experience|age|gender| salary|\n",
      "+------------------+-----------------+----------+---+------+-------+\n",
      "|     Dustin Bowman|     Data Science|         5| 28|Female| 250000|\n",
      "|     Lucas Guillot|          Network|         1| 21|  Male|  50000|\n",
      "|    Alfred Nicolas|Web Developpement|         3| 23|Female| 170000|\n",
      "|    Daniel Poulsen|     Data Science|         2| 22|  Male|  25000|\n",
      "|     Enora Laurent|Web Developpement|         1| 17|  Male|  10000|\n",
      "|  Kadir Turkyilmaz|      Mobile Apps|         2| 35|  Male|   8000|\n",
      "|     Jorge Stevens|          Network|        25| 62|  Male|5001000|\n",
      "|       Vernon Long|         Big Data|        19| 54|Female| 800000|\n",
      "|Natnael Romundstad|     Data Science|         2| 21|Female|   9000|\n",
      "|     Morasaki Bara|Web Developpement|        10| 36|Female|  61500|\n",
      "|   Marenne Haaksma|Web Developpement|        15| 54|Female| 650000|\n",
      "|   Kasper Johansen|      Mobile Apps|         4| 26|Female| 250000|\n",
      "|     Astrid Larsen|Web Developpement|         6| 29|  Male|1400000|\n",
      "|        Isla Kumar|          Network|         9| 25|  null|  10000|\n",
      "|       Sabri Meder|      Mobile Apps|        14| 39|  Male|6000050|\n",
      "|     Stella Taylor|Web Developpement|        11| 40|  Male| 220100|\n",
      "|        John Elder|Web Developpement|         2| 23|  Male|   7500|\n",
      "|       Owen Fields|     Data Science|         9| 35|  null|   9000|\n",
      "|       Esma Arican|         Big Data|         4| 27|Female|  87000|\n",
      "|         Taha Adan|     Data Science|        10| 34|Female| 930000|\n",
      "+------------------+-----------------+----------+---+------+-------+\n",
      "only showing top 20 rows\n",
      "\n"
     ]
    }
   ],
   "source": [
    "training = df\n",
    "training.show()"
   ]
  },
  {
   "cell_type": "code",
   "execution_count": 94,
   "id": "d6404da4",
   "metadata": {},
   "outputs": [],
   "source": [
    "# Q2\n",
    "from pyspark.ml.feature import VectorAssembler\n",
    "featrueassembler = VectorAssembler(\n",
    "                    inputCols=['age', 'experience'],\n",
    "                    outputCol='Features')"
   ]
  },
  {
   "cell_type": "code",
   "execution_count": 95,
   "id": "2907d0d7",
   "metadata": {},
   "outputs": [],
   "source": [
    "output = featrueassembler.transform(training)"
   ]
  },
  {
   "cell_type": "code",
   "execution_count": 96,
   "id": "0aab83c6",
   "metadata": {},
   "outputs": [
    {
     "name": "stdout",
     "output_type": "stream",
     "text": [
      "+------------------+-----------------+----------+---+------+-------+-----------+\n",
      "|              name|      departement|experience|age|gender| salary|   Features|\n",
      "+------------------+-----------------+----------+---+------+-------+-----------+\n",
      "|     Dustin Bowman|     Data Science|         5| 28|Female| 250000| [28.0,5.0]|\n",
      "|     Lucas Guillot|          Network|         1| 21|  Male|  50000| [21.0,1.0]|\n",
      "|    Alfred Nicolas|Web Developpement|         3| 23|Female| 170000| [23.0,3.0]|\n",
      "|    Daniel Poulsen|     Data Science|         2| 22|  Male|  25000| [22.0,2.0]|\n",
      "|     Enora Laurent|Web Developpement|         1| 17|  Male|  10000| [17.0,1.0]|\n",
      "|  Kadir Turkyilmaz|      Mobile Apps|         2| 35|  Male|   8000| [35.0,2.0]|\n",
      "|     Jorge Stevens|          Network|        25| 62|  Male|5001000|[62.0,25.0]|\n",
      "|       Vernon Long|         Big Data|        19| 54|Female| 800000|[54.0,19.0]|\n",
      "|Natnael Romundstad|     Data Science|         2| 21|Female|   9000| [21.0,2.0]|\n",
      "|     Morasaki Bara|Web Developpement|        10| 36|Female|  61500|[36.0,10.0]|\n",
      "|   Marenne Haaksma|Web Developpement|        15| 54|Female| 650000|[54.0,15.0]|\n",
      "|   Kasper Johansen|      Mobile Apps|         4| 26|Female| 250000| [26.0,4.0]|\n",
      "|     Astrid Larsen|Web Developpement|         6| 29|  Male|1400000| [29.0,6.0]|\n",
      "|        Isla Kumar|          Network|         9| 25|  null|  10000| [25.0,9.0]|\n",
      "|       Sabri Meder|      Mobile Apps|        14| 39|  Male|6000050|[39.0,14.0]|\n",
      "|     Stella Taylor|Web Developpement|        11| 40|  Male| 220100|[40.0,11.0]|\n",
      "|        John Elder|Web Developpement|         2| 23|  Male|   7500| [23.0,2.0]|\n",
      "|       Owen Fields|     Data Science|         9| 35|  null|   9000| [35.0,9.0]|\n",
      "|       Esma Arican|         Big Data|         4| 27|Female|  87000| [27.0,4.0]|\n",
      "|         Taha Adan|     Data Science|        10| 34|Female| 930000|[34.0,10.0]|\n",
      "+------------------+-----------------+----------+---+------+-------+-----------+\n",
      "only showing top 20 rows\n",
      "\n"
     ]
    }
   ],
   "source": [
    "output.show()"
   ]
  },
  {
   "cell_type": "code",
   "execution_count": 98,
   "id": "5ff380de",
   "metadata": {},
   "outputs": [
    {
     "name": "stdout",
     "output_type": "stream",
     "text": [
      "+-----------+-------+\n",
      "|   Features| salary|\n",
      "+-----------+-------+\n",
      "| [28.0,5.0]| 250000|\n",
      "| [21.0,1.0]|  50000|\n",
      "| [23.0,3.0]| 170000|\n",
      "| [22.0,2.0]|  25000|\n",
      "| [17.0,1.0]|  10000|\n",
      "| [35.0,2.0]|   8000|\n",
      "|[62.0,25.0]|5001000|\n",
      "|[54.0,19.0]| 800000|\n",
      "| [21.0,2.0]|   9000|\n",
      "|[36.0,10.0]|  61500|\n",
      "|[54.0,15.0]| 650000|\n",
      "| [26.0,4.0]| 250000|\n",
      "| [29.0,6.0]|1400000|\n",
      "| [25.0,9.0]|  10000|\n",
      "|[39.0,14.0]|6000050|\n",
      "|[40.0,11.0]| 220100|\n",
      "| [23.0,2.0]|   7500|\n",
      "| [35.0,9.0]|   9000|\n",
      "| [27.0,4.0]|  87000|\n",
      "|[34.0,10.0]| 930000|\n",
      "+-----------+-------+\n",
      "only showing top 20 rows\n",
      "\n"
     ]
    }
   ],
   "source": [
    "finalized_data = output.select('Features', 'salary')\n",
    "finalized_data.show()"
   ]
  },
  {
   "cell_type": "code",
   "execution_count": 99,
   "id": "39c360cd",
   "metadata": {},
   "outputs": [],
   "source": [
    "# Q3 Q4\n",
    "\n",
    "from pyspark.ml.regression import LinearRegression"
   ]
  },
  {
   "cell_type": "code",
   "execution_count": 100,
   "id": "0fd8be58",
   "metadata": {},
   "outputs": [],
   "source": [
    "train_data, test_data = finalized_data.randomSplit([0.75, 0.25])"
   ]
  },
  {
   "cell_type": "code",
   "execution_count": 101,
   "id": "cfac4252",
   "metadata": {},
   "outputs": [],
   "source": [
    "LR = LinearRegression(featuresCol='Features', labelCol='salary')\n",
    "regressor = LR.fit(train_data)"
   ]
  },
  {
   "cell_type": "code",
   "execution_count": 102,
   "id": "4a7b2537",
   "metadata": {},
   "outputs": [
    {
     "data": {
      "text/plain": [
       "DenseVector([24764.1077, 204686.5484])"
      ]
     },
     "execution_count": 102,
     "metadata": {},
     "output_type": "execute_result"
    }
   ],
   "source": [
    "# Q5\n",
    "regressor.coefficients"
   ]
  },
  {
   "cell_type": "code",
   "execution_count": 103,
   "id": "166d7010",
   "metadata": {},
   "outputs": [
    {
     "data": {
      "text/plain": [
       "-1133558.5312125394"
      ]
     },
     "execution_count": 103,
     "metadata": {},
     "output_type": "execute_result"
    }
   ],
   "source": [
    "regressor.intercept"
   ]
  },
  {
   "cell_type": "code",
   "execution_count": 104,
   "id": "f5e0cd62",
   "metadata": {},
   "outputs": [],
   "source": [
    "# Q6\n",
    "pred_results = regressor.evaluate(test_data)"
   ]
  },
  {
   "cell_type": "code",
   "execution_count": 105,
   "id": "98ceaddb",
   "metadata": {},
   "outputs": [
    {
     "name": "stdout",
     "output_type": "stream",
     "text": [
      "+-----------+-------+------------------+\n",
      "|   Features| salary|        prediction|\n",
      "+-----------+-------+------------------+\n",
      "| [21.0,2.0]|   9000|-204139.1723268798|\n",
      "| [22.0,3.0]|  20000|25311.483799230307|\n",
      "| [26.0,4.0]|  25000| 329054.4630779885|\n",
      "| [26.0,4.0]| 250000| 329054.4630779885|\n",
      "| [35.0,9.0]|1803053|1575364.1745787365|\n",
      "|[49.0,16.0]|7600000|3354867.5214843526|\n",
      "|[53.0,19.0]|9300000|4067983.5975802327|\n",
      "|[62.0,25.0]|5001000| 5518979.857489541|\n",
      "+-----------+-------+------------------+\n",
      "\n"
     ]
    }
   ],
   "source": [
    "pred_results.predictions.show()"
   ]
  },
  {
   "cell_type": "code",
   "execution_count": 106,
   "id": "77b7527a",
   "metadata": {},
   "outputs": [
    {
     "data": {
      "text/plain": [
       "0.5438064005767862"
      ]
     },
     "execution_count": 106,
     "metadata": {},
     "output_type": "execute_result"
    }
   ],
   "source": [
    "pred_results.r2"
   ]
  },
  {
   "cell_type": "code",
   "execution_count": null,
   "id": "466c4f0a",
   "metadata": {},
   "outputs": [],
   "source": []
  }
 ],
 "metadata": {
  "kernelspec": {
   "display_name": "Python 3 (ipykernel)",
   "language": "python",
   "name": "python3"
  },
  "language_info": {
   "codemirror_mode": {
    "name": "ipython",
    "version": 3
   },
   "file_extension": ".py",
   "mimetype": "text/x-python",
   "name": "python",
   "nbconvert_exporter": "python",
   "pygments_lexer": "ipython3",
   "version": "3.9.10"
  }
 },
 "nbformat": 4,
 "nbformat_minor": 5
}

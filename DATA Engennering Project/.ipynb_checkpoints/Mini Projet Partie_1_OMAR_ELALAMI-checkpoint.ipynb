{
 "cells": [
  {
   "cell_type": "markdown",
   "id": "8018f965",
   "metadata": {},
   "source": [
    "<div class=\"alert alert-block alert-info\">\n",
    "<b>Importation</b>\n",
    "</div>"
   ]
  },
  {
   "cell_type": "code",
   "execution_count": 1,
   "id": "e206873d",
   "metadata": {},
   "outputs": [],
   "source": [
    "import pandas as pd\n"
   ]
  },
  {
   "cell_type": "code",
   "execution_count": 2,
   "id": "26659d37",
   "metadata": {},
   "outputs": [],
   "source": [
    "import matplotlib.pyplot as plt"
   ]
  },
  {
   "cell_type": "markdown",
   "id": "1deb5678",
   "metadata": {},
   "source": [
    "<div class=\"alert alert-block alert-info\">\n",
    "<b>1. Faire les traitements nécessaires pour charger et fusionner les fichiers.</b>\n",
    "</div>"
   ]
  },
  {
   "cell_type": "code",
   "execution_count": 3,
   "id": "6db8a0c3",
   "metadata": {},
   "outputs": [
    {
     "data": {
      "text/html": [
       "<div>\n",
       "<style scoped>\n",
       "    .dataframe tbody tr th:only-of-type {\n",
       "        vertical-align: middle;\n",
       "    }\n",
       "\n",
       "    .dataframe tbody tr th {\n",
       "        vertical-align: top;\n",
       "    }\n",
       "\n",
       "    .dataframe thead th {\n",
       "        text-align: right;\n",
       "    }\n",
       "</style>\n",
       "<table border=\"1\" class=\"dataframe\">\n",
       "  <thead>\n",
       "    <tr style=\"text-align: right;\">\n",
       "      <th></th>\n",
       "      <th>Customer_ID</th>\n",
       "      <th>Date_purchase</th>\n",
       "      <th>Price</th>\n",
       "    </tr>\n",
       "  </thead>\n",
       "  <tbody>\n",
       "    <tr>\n",
       "      <th>0</th>\n",
       "      <td>1</td>\n",
       "      <td>02/11/2013</td>\n",
       "      <td>69</td>\n",
       "    </tr>\n",
       "    <tr>\n",
       "      <th>1</th>\n",
       "      <td>2</td>\n",
       "      <td>04/11/2013</td>\n",
       "      <td>350</td>\n",
       "    </tr>\n",
       "    <tr>\n",
       "      <th>2</th>\n",
       "      <td>3</td>\n",
       "      <td>05/11/2013</td>\n",
       "      <td>69</td>\n",
       "    </tr>\n",
       "    <tr>\n",
       "      <th>3</th>\n",
       "      <td>4</td>\n",
       "      <td>07/11/2013</td>\n",
       "      <td>120</td>\n",
       "    </tr>\n",
       "    <tr>\n",
       "      <th>4</th>\n",
       "      <td>5</td>\n",
       "      <td>07/11/2013</td>\n",
       "      <td>120</td>\n",
       "    </tr>\n",
       "    <tr>\n",
       "      <th>...</th>\n",
       "      <td>...</td>\n",
       "      <td>...</td>\n",
       "      <td>...</td>\n",
       "    </tr>\n",
       "    <tr>\n",
       "      <th>6798</th>\n",
       "      <td>1716</td>\n",
       "      <td>13/03/2014</td>\n",
       "      <td>253</td>\n",
       "    </tr>\n",
       "    <tr>\n",
       "      <th>6799</th>\n",
       "      <td>1716</td>\n",
       "      <td>24/02/2014</td>\n",
       "      <td>507</td>\n",
       "    </tr>\n",
       "    <tr>\n",
       "      <th>6800</th>\n",
       "      <td>1716</td>\n",
       "      <td>05/04/2014</td>\n",
       "      <td>354</td>\n",
       "    </tr>\n",
       "    <tr>\n",
       "      <th>6801</th>\n",
       "      <td>1717</td>\n",
       "      <td>23/01/2014</td>\n",
       "      <td>788</td>\n",
       "    </tr>\n",
       "    <tr>\n",
       "      <th>6802</th>\n",
       "      <td>1717</td>\n",
       "      <td>01/02/2014</td>\n",
       "      <td>592</td>\n",
       "    </tr>\n",
       "  </tbody>\n",
       "</table>\n",
       "<p>6803 rows × 3 columns</p>\n",
       "</div>"
      ],
      "text/plain": [
       "      Customer_ID Date_purchase Price\n",
       "0               1    02/11/2013    69\n",
       "1               2    04/11/2013   350\n",
       "2               3    05/11/2013    69\n",
       "3               4    07/11/2013   120\n",
       "4               5    07/11/2013   120\n",
       "...           ...           ...   ...\n",
       "6798         1716    13/03/2014   253\n",
       "6799         1716    24/02/2014   507\n",
       "6800         1716    05/04/2014   354\n",
       "6801         1717    23/01/2014   788\n",
       "6802         1717    01/02/2014   592\n",
       "\n",
       "[6803 rows x 3 columns]"
      ]
     },
     "execution_count": 3,
     "metadata": {},
     "output_type": "execute_result"
    }
   ],
   "source": [
    "df1=pd.read_csv(r'dataset_P1(Nov2013-June2014).csv',delimiter=\";\")\n",
    "df1"
   ]
  },
  {
   "cell_type": "code",
   "execution_count": 4,
   "id": "73ab7761",
   "metadata": {},
   "outputs": [],
   "source": [
    "df2=pd.read_csv('dataset_P2(July2014-January2015).csv',delimiter=\";\")"
   ]
  },
  {
   "cell_type": "code",
   "execution_count": 5,
   "id": "ac24bf4d",
   "metadata": {},
   "outputs": [
    {
     "data": {
      "text/html": [
       "<div>\n",
       "<style scoped>\n",
       "    .dataframe tbody tr th:only-of-type {\n",
       "        vertical-align: middle;\n",
       "    }\n",
       "\n",
       "    .dataframe tbody tr th {\n",
       "        vertical-align: top;\n",
       "    }\n",
       "\n",
       "    .dataframe thead th {\n",
       "        text-align: right;\n",
       "    }\n",
       "</style>\n",
       "<table border=\"1\" class=\"dataframe\">\n",
       "  <thead>\n",
       "    <tr style=\"text-align: right;\">\n",
       "      <th></th>\n",
       "      <th>Customer_ID</th>\n",
       "      <th>Date_purchase</th>\n",
       "      <th>Price</th>\n",
       "    </tr>\n",
       "  </thead>\n",
       "  <tbody>\n",
       "    <tr>\n",
       "      <th>0</th>\n",
       "      <td>27</td>\n",
       "      <td>15/11/2014</td>\n",
       "      <td>4567,00</td>\n",
       "    </tr>\n",
       "    <tr>\n",
       "      <th>1</th>\n",
       "      <td>35</td>\n",
       "      <td>04/12/2014</td>\n",
       "      <td>4192,00</td>\n",
       "    </tr>\n",
       "    <tr>\n",
       "      <th>2</th>\n",
       "      <td>43</td>\n",
       "      <td>07/11/2014</td>\n",
       "      <td>5535,00</td>\n",
       "    </tr>\n",
       "    <tr>\n",
       "      <th>3</th>\n",
       "      <td>58</td>\n",
       "      <td>07/07/2014</td>\n",
       "      <td>362,00</td>\n",
       "    </tr>\n",
       "    <tr>\n",
       "      <th>4</th>\n",
       "      <td>58</td>\n",
       "      <td>29/09/2014</td>\n",
       "      <td>281,00</td>\n",
       "    </tr>\n",
       "    <tr>\n",
       "      <th>...</th>\n",
       "      <td>...</td>\n",
       "      <td>...</td>\n",
       "      <td>...</td>\n",
       "    </tr>\n",
       "    <tr>\n",
       "      <th>5915</th>\n",
       "      <td>1715</td>\n",
       "      <td>26/08/2014</td>\n",
       "      <td>301,00</td>\n",
       "    </tr>\n",
       "    <tr>\n",
       "      <th>5916</th>\n",
       "      <td>1715</td>\n",
       "      <td>31/10/2014</td>\n",
       "      <td>35,00</td>\n",
       "    </tr>\n",
       "    <tr>\n",
       "      <th>5917</th>\n",
       "      <td>1715</td>\n",
       "      <td>27/09/2014</td>\n",
       "      <td>35,00</td>\n",
       "    </tr>\n",
       "    <tr>\n",
       "      <th>5918</th>\n",
       "      <td>1715</td>\n",
       "      <td>16/07/2014</td>\n",
       "      <td>248,00</td>\n",
       "    </tr>\n",
       "    <tr>\n",
       "      <th>5919</th>\n",
       "      <td>1715</td>\n",
       "      <td>11/12/2014</td>\n",
       "      <td>424,00</td>\n",
       "    </tr>\n",
       "  </tbody>\n",
       "</table>\n",
       "<p>5920 rows × 3 columns</p>\n",
       "</div>"
      ],
      "text/plain": [
       "      Customer_ID Date_purchase    Price\n",
       "0              27    15/11/2014  4567,00\n",
       "1              35    04/12/2014  4192,00\n",
       "2              43    07/11/2014  5535,00\n",
       "3              58    07/07/2014   362,00\n",
       "4              58    29/09/2014   281,00\n",
       "...           ...           ...      ...\n",
       "5915         1715    26/08/2014   301,00\n",
       "5916         1715    31/10/2014    35,00\n",
       "5917         1715    27/09/2014    35,00\n",
       "5918         1715    16/07/2014   248,00\n",
       "5919         1715    11/12/2014   424,00\n",
       "\n",
       "[5920 rows x 3 columns]"
      ]
     },
     "execution_count": 5,
     "metadata": {},
     "output_type": "execute_result"
    }
   ],
   "source": [
    "df2.rename(columns={'m':'Price'},inplace=True) \n",
    "df2"
   ]
  },
  {
   "cell_type": "code",
   "execution_count": 6,
   "id": "e18fc287",
   "metadata": {},
   "outputs": [
    {
     "data": {
      "text/plain": [
       "(12723, 3)"
      ]
     },
     "execution_count": 6,
     "metadata": {},
     "output_type": "execute_result"
    }
   ],
   "source": [
    "mydf=pd.concat([df1, df2], axis=0)\n",
    "mydf.shape"
   ]
  },
  {
   "cell_type": "markdown",
   "id": "ef9b54f9",
   "metadata": {},
   "source": [
    "<div class=\"alert alert-block alert-info\">\n",
    "<b>2. Pour chaque colonne donner le nombre de valeurs manquantes.</b>\n",
    "</div>"
   ]
  },
  {
   "cell_type": "code",
   "execution_count": 7,
   "id": "76b92878",
   "metadata": {},
   "outputs": [
    {
     "data": {
      "text/plain": [
       "Customer_ID       0\n",
       "Date_purchase    15\n",
       "Price            12\n",
       "dtype: int64"
      ]
     },
     "execution_count": 7,
     "metadata": {},
     "output_type": "execute_result"
    }
   ],
   "source": [
    "mydf.isna().sum()"
   ]
  },
  {
   "cell_type": "markdown",
   "id": "7e9cfcb8",
   "metadata": {},
   "source": [
    "<div class=\"alert alert-block alert-info\">\n",
    "<b>3. Afficher un data frame avec toutes les lignes qui ont au moins une valeur manquante.</b>\n",
    "</div>"
   ]
  },
  {
   "cell_type": "code",
   "execution_count": 8,
   "id": "8e9bc372",
   "metadata": {},
   "outputs": [
    {
     "data": {
      "text/html": [
       "<div>\n",
       "<style scoped>\n",
       "    .dataframe tbody tr th:only-of-type {\n",
       "        vertical-align: middle;\n",
       "    }\n",
       "\n",
       "    .dataframe tbody tr th {\n",
       "        vertical-align: top;\n",
       "    }\n",
       "\n",
       "    .dataframe thead th {\n",
       "        text-align: right;\n",
       "    }\n",
       "</style>\n",
       "<table border=\"1\" class=\"dataframe\">\n",
       "  <thead>\n",
       "    <tr style=\"text-align: right;\">\n",
       "      <th></th>\n",
       "      <th>Customer_ID</th>\n",
       "      <th>Date_purchase</th>\n",
       "      <th>Price</th>\n",
       "    </tr>\n",
       "  </thead>\n",
       "  <tbody>\n",
       "    <tr>\n",
       "      <th>65</th>\n",
       "      <td>36</td>\n",
       "      <td>NaN</td>\n",
       "      <td>784</td>\n",
       "    </tr>\n",
       "    <tr>\n",
       "      <th>194</th>\n",
       "      <td>57</td>\n",
       "      <td>01/12/2013</td>\n",
       "      <td>NaN</td>\n",
       "    </tr>\n",
       "    <tr>\n",
       "      <th>230</th>\n",
       "      <td>64</td>\n",
       "      <td>NaN</td>\n",
       "      <td>NaN</td>\n",
       "    </tr>\n",
       "    <tr>\n",
       "      <th>278</th>\n",
       "      <td>74</td>\n",
       "      <td>NaN</td>\n",
       "      <td>444</td>\n",
       "    </tr>\n",
       "    <tr>\n",
       "      <th>318</th>\n",
       "      <td>77</td>\n",
       "      <td>01/03/2014</td>\n",
       "      <td>NaN</td>\n",
       "    </tr>\n",
       "    <tr>\n",
       "      <th>351</th>\n",
       "      <td>81</td>\n",
       "      <td>NaN</td>\n",
       "      <td>343</td>\n",
       "    </tr>\n",
       "    <tr>\n",
       "      <th>453</th>\n",
       "      <td>94</td>\n",
       "      <td>NaN</td>\n",
       "      <td>NaN</td>\n",
       "    </tr>\n",
       "    <tr>\n",
       "      <th>519</th>\n",
       "      <td>104</td>\n",
       "      <td>NaN</td>\n",
       "      <td>97</td>\n",
       "    </tr>\n",
       "    <tr>\n",
       "      <th>584</th>\n",
       "      <td>113</td>\n",
       "      <td>NaN</td>\n",
       "      <td>48</td>\n",
       "    </tr>\n",
       "    <tr>\n",
       "      <th>636</th>\n",
       "      <td>123</td>\n",
       "      <td>08/03/2014</td>\n",
       "      <td>NaN</td>\n",
       "    </tr>\n",
       "    <tr>\n",
       "      <th>693</th>\n",
       "      <td>131</td>\n",
       "      <td>22/01/2014</td>\n",
       "      <td>NaN</td>\n",
       "    </tr>\n",
       "    <tr>\n",
       "      <th>708</th>\n",
       "      <td>135</td>\n",
       "      <td>11/03/2014</td>\n",
       "      <td>NaN</td>\n",
       "    </tr>\n",
       "    <tr>\n",
       "      <th>738</th>\n",
       "      <td>139</td>\n",
       "      <td>NaN</td>\n",
       "      <td>6703</td>\n",
       "    </tr>\n",
       "    <tr>\n",
       "      <th>798</th>\n",
       "      <td>152</td>\n",
       "      <td>NaN</td>\n",
       "      <td>NaN</td>\n",
       "    </tr>\n",
       "    <tr>\n",
       "      <th>852</th>\n",
       "      <td>159</td>\n",
       "      <td>NaN</td>\n",
       "      <td>134</td>\n",
       "    </tr>\n",
       "    <tr>\n",
       "      <th>942</th>\n",
       "      <td>170</td>\n",
       "      <td>NaN</td>\n",
       "      <td>722</td>\n",
       "    </tr>\n",
       "    <tr>\n",
       "      <th>996</th>\n",
       "      <td>174</td>\n",
       "      <td>14/05/2014</td>\n",
       "      <td>NaN</td>\n",
       "    </tr>\n",
       "    <tr>\n",
       "      <th>1725</th>\n",
       "      <td>276</td>\n",
       "      <td>NaN</td>\n",
       "      <td>174</td>\n",
       "    </tr>\n",
       "    <tr>\n",
       "      <th>1791</th>\n",
       "      <td>285</td>\n",
       "      <td>12/03/2014</td>\n",
       "      <td>NaN</td>\n",
       "    </tr>\n",
       "    <tr>\n",
       "      <th>1861</th>\n",
       "      <td>298</td>\n",
       "      <td>NaN</td>\n",
       "      <td>153</td>\n",
       "    </tr>\n",
       "    <tr>\n",
       "      <th>1938</th>\n",
       "      <td>319</td>\n",
       "      <td>07/02/2014</td>\n",
       "      <td>NaN</td>\n",
       "    </tr>\n",
       "    <tr>\n",
       "      <th>2088</th>\n",
       "      <td>355</td>\n",
       "      <td>26/03/2014</td>\n",
       "      <td>NaN</td>\n",
       "    </tr>\n",
       "    <tr>\n",
       "      <th>2149</th>\n",
       "      <td>371</td>\n",
       "      <td>NaN</td>\n",
       "      <td>100</td>\n",
       "    </tr>\n",
       "    <tr>\n",
       "      <th>2208</th>\n",
       "      <td>387</td>\n",
       "      <td>NaN</td>\n",
       "      <td>66</td>\n",
       "    </tr>\n",
       "  </tbody>\n",
       "</table>\n",
       "</div>"
      ],
      "text/plain": [
       "      Customer_ID Date_purchase Price\n",
       "65             36           NaN   784\n",
       "194            57    01/12/2013   NaN\n",
       "230            64           NaN   NaN\n",
       "278            74           NaN   444\n",
       "318            77    01/03/2014   NaN\n",
       "351            81           NaN   343\n",
       "453            94           NaN   NaN\n",
       "519           104           NaN    97\n",
       "584           113           NaN    48\n",
       "636           123    08/03/2014   NaN\n",
       "693           131    22/01/2014   NaN\n",
       "708           135    11/03/2014   NaN\n",
       "738           139           NaN  6703\n",
       "798           152           NaN   NaN\n",
       "852           159           NaN   134\n",
       "942           170           NaN   722\n",
       "996           174    14/05/2014   NaN\n",
       "1725          276           NaN   174\n",
       "1791          285    12/03/2014   NaN\n",
       "1861          298           NaN   153\n",
       "1938          319    07/02/2014   NaN\n",
       "2088          355    26/03/2014   NaN\n",
       "2149          371           NaN   100\n",
       "2208          387           NaN    66"
      ]
     },
     "execution_count": 8,
     "metadata": {},
     "output_type": "execute_result"
    }
   ],
   "source": [
    "mydf[mydf.isnull().any(axis=1)]"
   ]
  },
  {
   "cell_type": "markdown",
   "id": "7da2db8c",
   "metadata": {},
   "source": [
    "<div class=\"alert alert-block alert-info\">\n",
    "<b>4. Supprimer ensuite toutes les lignes avec des valeurs manquantes.</b>\n",
    "</div>"
   ]
  },
  {
   "cell_type": "code",
   "execution_count": 9,
   "id": "186e8d46",
   "metadata": {},
   "outputs": [],
   "source": [
    "mydf['Date_purchase'] = pd.to_datetime(mydf['Date_purchase'],errors='coerce', format='%d/%m/%Y')"
   ]
  },
  {
   "cell_type": "code",
   "execution_count": 10,
   "id": "60f9850e",
   "metadata": {
    "scrolled": true
   },
   "outputs": [
    {
     "data": {
      "text/plain": [
       "Customer_ID       0\n",
       "Date_purchase    27\n",
       "Price            12\n",
       "dtype: int64"
      ]
     },
     "execution_count": 10,
     "metadata": {},
     "output_type": "execute_result"
    }
   ],
   "source": [
    "mydf.isna().sum()"
   ]
  },
  {
   "cell_type": "code",
   "execution_count": 11,
   "id": "b46d7486",
   "metadata": {},
   "outputs": [],
   "source": [
    "mydf['Price']=pd.to_numeric(mydf['Price'].str.replace(',', '.'),errors='coerce')"
   ]
  },
  {
   "cell_type": "code",
   "execution_count": 12,
   "id": "6b807280",
   "metadata": {},
   "outputs": [],
   "source": [
    "mydf.dropna(inplace=True)"
   ]
  },
  {
   "cell_type": "code",
   "execution_count": 13,
   "id": "3d672423",
   "metadata": {},
   "outputs": [
    {
     "name": "stdout",
     "output_type": "stream",
     "text": [
      "<class 'pandas.core.frame.DataFrame'>\n",
      "Int64Index: 12686 entries, 0 to 5919\n",
      "Data columns (total 3 columns):\n",
      " #   Column         Non-Null Count  Dtype         \n",
      "---  ------         --------------  -----         \n",
      " 0   Customer_ID    12686 non-null  int64         \n",
      " 1   Date_purchase  12686 non-null  datetime64[ns]\n",
      " 2   Price          12686 non-null  float64       \n",
      "dtypes: datetime64[ns](1), float64(1), int64(1)\n",
      "memory usage: 396.4 KB\n"
     ]
    }
   ],
   "source": [
    "mydf.info()"
   ]
  },
  {
   "cell_type": "code",
   "execution_count": 14,
   "id": "5fdc6b4c",
   "metadata": {},
   "outputs": [
    {
     "data": {
      "text/plain": [
       "Customer_ID      0\n",
       "Date_purchase    0\n",
       "Price            0\n",
       "dtype: int64"
      ]
     },
     "execution_count": 14,
     "metadata": {},
     "output_type": "execute_result"
    }
   ],
   "source": [
    "mydf.isnull().sum()"
   ]
  },
  {
   "cell_type": "code",
   "execution_count": 15,
   "id": "11fbcd1e",
   "metadata": {},
   "outputs": [
    {
     "data": {
      "text/plain": [
       "Customer_ID      0\n",
       "Date_purchase    0\n",
       "Price            0\n",
       "dtype: int64"
      ]
     },
     "execution_count": 15,
     "metadata": {},
     "output_type": "execute_result"
    }
   ],
   "source": [
    "mydf.isna().sum()"
   ]
  },
  {
   "cell_type": "markdown",
   "id": "d2060750",
   "metadata": {},
   "source": [
    "<div class=\"alert alert-block alert-info\">\n",
    "<b>5. Vérifier les dates des transactions afin de garder que celles qui sont effectuées par les\n",
    "clients dans la période d’étude.</b>\n",
    "</div>"
   ]
  },
  {
   "cell_type": "code",
   "execution_count": 16,
   "id": "63c5eb1a",
   "metadata": {
    "scrolled": true
   },
   "outputs": [],
   "source": [
    "mydf=mydf.loc[(mydf['Date_purchase'] >= '01/11/2013') & (mydf['Date_purchase'] <= pd.to_datetime('28/02/2015',format='%d/%m/%Y'))]"
   ]
  },
  {
   "cell_type": "markdown",
   "id": "4bf0603e",
   "metadata": {},
   "source": [
    "<div class=\"alert alert-block alert-info\">\n",
    "<b>6. Afficher les statistiques descriptives de base.</b>\n",
    "</div>"
   ]
  },
  {
   "cell_type": "code",
   "execution_count": 17,
   "id": "c218dea5",
   "metadata": {},
   "outputs": [
    {
     "data": {
      "text/html": [
       "<div>\n",
       "<style scoped>\n",
       "    .dataframe tbody tr th:only-of-type {\n",
       "        vertical-align: middle;\n",
       "    }\n",
       "\n",
       "    .dataframe tbody tr th {\n",
       "        vertical-align: top;\n",
       "    }\n",
       "\n",
       "    .dataframe thead th {\n",
       "        text-align: right;\n",
       "    }\n",
       "</style>\n",
       "<table border=\"1\" class=\"dataframe\">\n",
       "  <thead>\n",
       "    <tr style=\"text-align: right;\">\n",
       "      <th></th>\n",
       "      <th>Customer_ID</th>\n",
       "      <th>Price</th>\n",
       "    </tr>\n",
       "  </thead>\n",
       "  <tbody>\n",
       "    <tr>\n",
       "      <th>count</th>\n",
       "      <td>12686.000000</td>\n",
       "      <td>12686.000000</td>\n",
       "    </tr>\n",
       "    <tr>\n",
       "      <th>mean</th>\n",
       "      <td>739.337459</td>\n",
       "      <td>388.354801</td>\n",
       "    </tr>\n",
       "    <tr>\n",
       "      <th>std</th>\n",
       "      <td>465.789156</td>\n",
       "      <td>375.376216</td>\n",
       "    </tr>\n",
       "    <tr>\n",
       "      <th>min</th>\n",
       "      <td>1.000000</td>\n",
       "      <td>29.000000</td>\n",
       "    </tr>\n",
       "    <tr>\n",
       "      <th>25%</th>\n",
       "      <td>356.000000</td>\n",
       "      <td>150.000000</td>\n",
       "    </tr>\n",
       "    <tr>\n",
       "      <th>50%</th>\n",
       "      <td>632.000000</td>\n",
       "      <td>297.000000</td>\n",
       "    </tr>\n",
       "    <tr>\n",
       "      <th>75%</th>\n",
       "      <td>1122.000000</td>\n",
       "      <td>521.000000</td>\n",
       "    </tr>\n",
       "    <tr>\n",
       "      <th>max</th>\n",
       "      <td>1717.000000</td>\n",
       "      <td>7236.000000</td>\n",
       "    </tr>\n",
       "  </tbody>\n",
       "</table>\n",
       "</div>"
      ],
      "text/plain": [
       "        Customer_ID         Price\n",
       "count  12686.000000  12686.000000\n",
       "mean     739.337459    388.354801\n",
       "std      465.789156    375.376216\n",
       "min        1.000000     29.000000\n",
       "25%      356.000000    150.000000\n",
       "50%      632.000000    297.000000\n",
       "75%     1122.000000    521.000000\n",
       "max     1717.000000   7236.000000"
      ]
     },
     "execution_count": 17,
     "metadata": {},
     "output_type": "execute_result"
    }
   ],
   "source": [
    "mydf.describe()"
   ]
  },
  {
   "cell_type": "code",
   "execution_count": 18,
   "id": "4a6c5465",
   "metadata": {},
   "outputs": [],
   "source": [
    "#mydf['Date_purchase'] = pd.to_datetime(mydf['Date_purchase'],errors='coerce', format='%d/%m/%Y')"
   ]
  },
  {
   "cell_type": "code",
   "execution_count": 19,
   "id": "66283ad0",
   "metadata": {},
   "outputs": [],
   "source": [
    "#f=mydf.loc[mydf['Price']==max(mydf['Price'])]"
   ]
  },
  {
   "cell_type": "code",
   "execution_count": 20,
   "id": "efbd1260",
   "metadata": {},
   "outputs": [],
   "source": [
    "# c=f['Date_purchase'].dt.month\n",
    "# c"
   ]
  },
  {
   "cell_type": "markdown",
   "id": "573f2965",
   "metadata": {},
   "source": [
    "<div class=\"alert alert-block alert-info\">\n",
    "<b>7. Vérifier s’il y a des valeurs aberrantes.</b>\n",
    "</div>"
   ]
  },
  {
   "cell_type": "code",
   "execution_count": 21,
   "id": "5742ad36",
   "metadata": {},
   "outputs": [
    {
     "data": {
      "text/plain": [
       "<Axes: >"
      ]
     },
     "execution_count": 21,
     "metadata": {},
     "output_type": "execute_result"
    },
    {
     "data": {
      "image/png": "[encoded data removed]",
      "text/plain": [
       "<Figure size 640x480 with 1 Axes>"
      ]
     },
     "metadata": {},
     "output_type": "display_data"
    }
   ],
   "source": [
    "mydf.boxplot()"
   ]
  },
  {
   "cell_type": "markdown",
   "id": "5e8882aa",
   "metadata": {},
   "source": [
    "<div class=\"alert alert-block alert-info\">\n",
    "<b>8. Quel est le mois qui a enregistré le plus grand nombre de ventes ? et quel est le montant\n",
    "total de ce mois ?</b>\n",
    "</div>"
   ]
  },
  {
   "cell_type": "code",
   "execution_count": 22,
   "id": "74acad76",
   "metadata": {},
   "outputs": [],
   "source": [
    "maxmois=mydf.groupby([(mydf['Date_purchase'].dt.month)])['Price'].agg('count').sort_values(ascending=False)"
   ]
  },
  {
   "cell_type": "code",
   "execution_count": 23,
   "id": "2a9a7831",
   "metadata": {},
   "outputs": [],
   "source": [
    "maxmois=maxmois.loc[max(maxmois)==maxmois]"
   ]
  },
  {
   "cell_type": "code",
   "execution_count": 24,
   "id": "74c5bfbb",
   "metadata": {},
   "outputs": [
    {
     "data": {
      "text/plain": [
       "Date_purchase\n",
       "11    1563\n",
       "Name: Price, dtype: int64"
      ]
     },
     "execution_count": 24,
     "metadata": {},
     "output_type": "execute_result"
    }
   ],
   "source": [
    "maxmois"
   ]
  },
  {
   "cell_type": "markdown",
   "id": "57b9d754",
   "metadata": {},
   "source": [
    "<div class=\"alert alert-block alert-info\">\n",
    "<b>9. Afficher un graphe qui montre l’évolution du montant total par mois</b>\n",
    "</div>"
   ]
  },
  {
   "cell_type": "code",
   "execution_count": 25,
   "id": "7207d477",
   "metadata": {},
   "outputs": [],
   "source": [
    "montant_total=mydf.groupby([(mydf['Date_purchase'].dt.month)])['Price'].agg('sum').sort_values(ascending=False)"
   ]
  },
  {
   "cell_type": "code",
   "execution_count": 26,
   "id": "75e302aa",
   "metadata": {},
   "outputs": [
    {
     "data": {
      "text/plain": [
       "Date_purchase\n",
       "11    670572.0\n",
       "12    541931.0\n",
       "10    483989.0\n",
       "9     412230.0\n",
       "8     404342.0\n",
       "3     390248.0\n",
       "1     372940.0\n",
       "4     346718.0\n",
       "7     338690.0\n",
       "5     338582.0\n",
       "2     329738.0\n",
       "6     296689.0\n",
       "Name: Price, dtype: float64"
      ]
     },
     "execution_count": 26,
     "metadata": {},
     "output_type": "execute_result"
    }
   ],
   "source": [
    "montant_total.loc[montant_total.index==max(maxmois.index)]\n",
    "montant_total"
   ]
  },
  {
   "cell_type": "code",
   "execution_count": 27,
   "id": "3ef8b687",
   "metadata": {},
   "outputs": [
    {
     "data": {
      "text/plain": [
       "[<matplotlib.lines.Line2D at 0x22476f796d0>]"
      ]
     },
     "execution_count": 27,
     "metadata": {},
     "output_type": "execute_result"
    }
   ],
   "source": [
    "plt.plot(montant_total,montant_total.index)\n"
   ]
  },
  {
   "cell_type": "markdown",
   "id": "4ee580f3",
   "metadata": {},
   "source": [
    "<div class=\"alert alert-block alert-info\">\n",
    "<b>10. Pour chaque client, Créer les variables suivantes :Fréquence ,  Récence,  Longueur ,  Montant,  NbrP1 , NbrP2 ,  Inter_achat </b>\n",
    "</div>"
   ]
  },
  {
   "cell_type": "code",
   "execution_count": 28,
   "id": "f856ffbb",
   "metadata": {},
   "outputs": [],
   "source": [
    "newdta=mydf.groupby('Customer_ID').agg(Frequence=('Customer_ID','count'),\n",
    "                                       Recence=('Date_purchase',lambda x: (x.max() -pd.to_datetime('2013/11/01')).days),\n",
    "                                       Longueur=('Date_purchase',lambda y: (max(y)-min(y)).days),\n",
    "                                       Montant=('Price','sum'),\n",
    "                                       NbrP1=('Date_purchase',lambda z:  (z<= pd.to_datetime('2014/07/01')).sum()),\n",
    "                                       NbrP2=('Date_purchase',lambda e:  ((e>= pd.to_datetime('2014/07/01')) &(e<= pd.to_datetime('2015/02/28'))).sum()) ,\n",
    "                                       Inter_achat=('Date_purchase',lambda z:(max(z)-min(z)).days/(z.count()-1)\n",
    "                                                    \n",
    "                                                     if z.count()>1 else (max(z)-min(z)).days\n",
    "                                       \n",
    "    ))"
   ]
  },
  {
   "cell_type": "markdown",
   "id": "0bffd4b6",
   "metadata": {},
   "source": [
    "<div class=\"alert alert-block alert-info\">\n",
    "<b>11. Afficher les statistiques descriptives de base (min, max, moyenne, ecart type) pour les\n",
    "variables Longueur, Récence, Fréquence et Montant.</b>\n",
    "</div>"
   ]
  },
  {
   "cell_type": "code",
   "execution_count": 78,
   "id": "057e527c",
   "metadata": {
    "scrolled": true
   },
   "outputs": [
    {
     "data": {
      "text/html": [
       "<div>\n",
       "<style scoped>\n",
       "    .dataframe tbody tr th:only-of-type {\n",
       "        vertical-align: middle;\n",
       "    }\n",
       "\n",
       "    .dataframe tbody tr th {\n",
       "        vertical-align: top;\n",
       "    }\n",
       "\n",
       "    .dataframe thead th {\n",
       "        text-align: right;\n",
       "    }\n",
       "</style>\n",
       "<table border=\"1\" class=\"dataframe\">\n",
       "  <thead>\n",
       "    <tr style=\"text-align: right;\">\n",
       "      <th></th>\n",
       "      <th>Longueur</th>\n",
       "      <th>Recence</th>\n",
       "      <th>Frequence</th>\n",
       "      <th>Montant</th>\n",
       "      <th>NbrP1</th>\n",
       "      <th>NbrP2</th>\n",
       "    </tr>\n",
       "  </thead>\n",
       "  <tbody>\n",
       "    <tr>\n",
       "      <th>min</th>\n",
       "      <td>0.000000</td>\n",
       "      <td>1.000000</td>\n",
       "      <td>1.000000</td>\n",
       "      <td>69.000000</td>\n",
       "      <td>0.000000</td>\n",
       "      <td>0.000000</td>\n",
       "    </tr>\n",
       "    <tr>\n",
       "      <th>max</th>\n",
       "      <td>440.000000</td>\n",
       "      <td>454.000000</td>\n",
       "      <td>20.000000</td>\n",
       "      <td>14805.000000</td>\n",
       "      <td>19.000000</td>\n",
       "      <td>19.000000</td>\n",
       "    </tr>\n",
       "    <tr>\n",
       "      <th>mean</th>\n",
       "      <td>143.068725</td>\n",
       "      <td>273.792662</td>\n",
       "      <td>7.388468</td>\n",
       "      <td>2869.347117</td>\n",
       "      <td>3.957484</td>\n",
       "      <td>3.447874</td>\n",
       "    </tr>\n",
       "    <tr>\n",
       "      <th>std</th>\n",
       "      <td>117.364438</td>\n",
       "      <td>135.632311</td>\n",
       "      <td>5.387972</td>\n",
       "      <td>2834.170644</td>\n",
       "      <td>3.766177</td>\n",
       "      <td>4.561071</td>\n",
       "    </tr>\n",
       "  </tbody>\n",
       "</table>\n",
       "</div>"
      ],
      "text/plain": [
       "        Longueur     Recence  Frequence       Montant      NbrP1      NbrP2\n",
       "min     0.000000    1.000000   1.000000     69.000000   0.000000   0.000000\n",
       "max   440.000000  454.000000  20.000000  14805.000000  19.000000  19.000000\n",
       "mean  143.068725  273.792662   7.388468   2869.347117   3.957484   3.447874\n",
       "std   117.364438  135.632311   5.387972   2834.170644   3.766177   4.561071"
      ]
     },
     "execution_count": 78,
     "metadata": {},
     "output_type": "execute_result"
    }
   ],
   "source": [
    "newdta[['Longueur', 'Recence', 'Frequence', 'Montant','NbrP1','NbrP2']].describe().loc[['min','max','mean','std']]"
   ]
  },
  {
   "cell_type": "markdown",
   "id": "9bfd80fb",
   "metadata": {},
   "source": [
    "### PART 2"
   ]
  },
  {
   "cell_type": "markdown",
   "id": "881f128a",
   "metadata": {},
   "source": [
    "<div class=\"alert alert-block alert-info\">\n",
    "<b>1. Comment interpréter la valeur 0 dans la colonne Inter_achat ? Remplacer cette valeur par\n",
    "la valeur moyenne de cette colonne (en prenant en compte que les valeurs différentes à\n",
    "zéro).</b>\n",
    "</div>"
   ]
  },
  {
   "cell_type": "markdown",
   "id": "62cb147a",
   "metadata": {},
   "source": [
    "<div class=\"alert alert-block alert-success\">\n",
    "<b>Interpretation des résultat</b>\n",
    "</div>\n",
    "\n",
    "<div class=\"alert alert-block alert-warning\">\n",
    "<b> Le client faite une seul achat</b> \n",
    "    \n",
    "</div>\n"
   ]
  },
  {
   "cell_type": "code",
   "execution_count": 79,
   "id": "04ce1837",
   "metadata": {},
   "outputs": [],
   "source": [
    "newdta.loc[newdta['Inter_achat']==0,'Inter_achat']=newdta.loc[newdta['Inter_achat']!=0,'Inter_achat'].mean()"
   ]
  },
  {
   "cell_type": "code",
   "execution_count": 80,
   "id": "e1c422aa",
   "metadata": {
    "scrolled": true
   },
   "outputs": [
    {
     "data": {
      "text/html": [
       "<div>\n",
       "<style scoped>\n",
       "    .dataframe tbody tr th:only-of-type {\n",
       "        vertical-align: middle;\n",
       "    }\n",
       "\n",
       "    .dataframe tbody tr th {\n",
       "        vertical-align: top;\n",
       "    }\n",
       "\n",
       "    .dataframe thead th {\n",
       "        text-align: right;\n",
       "    }\n",
       "</style>\n",
       "<table border=\"1\" class=\"dataframe\">\n",
       "  <thead>\n",
       "    <tr style=\"text-align: right;\">\n",
       "      <th></th>\n",
       "      <th>Frequence</th>\n",
       "      <th>Recence</th>\n",
       "      <th>Longueur</th>\n",
       "      <th>Montant</th>\n",
       "      <th>NbrP1</th>\n",
       "      <th>NbrP2</th>\n",
       "      <th>Inter_achat</th>\n",
       "    </tr>\n",
       "    <tr>\n",
       "      <th>Customer_ID</th>\n",
       "      <th></th>\n",
       "      <th></th>\n",
       "      <th></th>\n",
       "      <th></th>\n",
       "      <th></th>\n",
       "      <th></th>\n",
       "      <th></th>\n",
       "    </tr>\n",
       "  </thead>\n",
       "  <tbody>\n",
       "    <tr>\n",
       "      <th>1</th>\n",
       "      <td>1</td>\n",
       "      <td>1</td>\n",
       "      <td>0</td>\n",
       "      <td>69.0</td>\n",
       "      <td>1</td>\n",
       "      <td>0</td>\n",
       "      <td>41.573700</td>\n",
       "    </tr>\n",
       "    <tr>\n",
       "      <th>2</th>\n",
       "      <td>1</td>\n",
       "      <td>3</td>\n",
       "      <td>0</td>\n",
       "      <td>350.0</td>\n",
       "      <td>1</td>\n",
       "      <td>0</td>\n",
       "      <td>41.573700</td>\n",
       "    </tr>\n",
       "    <tr>\n",
       "      <th>3</th>\n",
       "      <td>1</td>\n",
       "      <td>4</td>\n",
       "      <td>0</td>\n",
       "      <td>69.0</td>\n",
       "      <td>1</td>\n",
       "      <td>0</td>\n",
       "      <td>41.573700</td>\n",
       "    </tr>\n",
       "    <tr>\n",
       "      <th>4</th>\n",
       "      <td>1</td>\n",
       "      <td>6</td>\n",
       "      <td>0</td>\n",
       "      <td>120.0</td>\n",
       "      <td>1</td>\n",
       "      <td>0</td>\n",
       "      <td>41.573700</td>\n",
       "    </tr>\n",
       "    <tr>\n",
       "      <th>5</th>\n",
       "      <td>1</td>\n",
       "      <td>6</td>\n",
       "      <td>0</td>\n",
       "      <td>120.0</td>\n",
       "      <td>1</td>\n",
       "      <td>0</td>\n",
       "      <td>41.573700</td>\n",
       "    </tr>\n",
       "    <tr>\n",
       "      <th>...</th>\n",
       "      <td>...</td>\n",
       "      <td>...</td>\n",
       "      <td>...</td>\n",
       "      <td>...</td>\n",
       "      <td>...</td>\n",
       "      <td>...</td>\n",
       "      <td>...</td>\n",
       "    </tr>\n",
       "    <tr>\n",
       "      <th>1713</th>\n",
       "      <td>3</td>\n",
       "      <td>394</td>\n",
       "      <td>260</td>\n",
       "      <td>1464.0</td>\n",
       "      <td>2</td>\n",
       "      <td>1</td>\n",
       "      <td>130.000000</td>\n",
       "    </tr>\n",
       "    <tr>\n",
       "      <th>1714</th>\n",
       "      <td>5</td>\n",
       "      <td>59</td>\n",
       "      <td>22</td>\n",
       "      <td>951.0</td>\n",
       "      <td>5</td>\n",
       "      <td>0</td>\n",
       "      <td>5.500000</td>\n",
       "    </tr>\n",
       "    <tr>\n",
       "      <th>1715</th>\n",
       "      <td>12</td>\n",
       "      <td>405</td>\n",
       "      <td>399</td>\n",
       "      <td>2616.0</td>\n",
       "      <td>6</td>\n",
       "      <td>6</td>\n",
       "      <td>36.272727</td>\n",
       "    </tr>\n",
       "    <tr>\n",
       "      <th>1716</th>\n",
       "      <td>5</td>\n",
       "      <td>155</td>\n",
       "      <td>44</td>\n",
       "      <td>2888.0</td>\n",
       "      <td>5</td>\n",
       "      <td>0</td>\n",
       "      <td>11.000000</td>\n",
       "    </tr>\n",
       "    <tr>\n",
       "      <th>1717</th>\n",
       "      <td>2</td>\n",
       "      <td>92</td>\n",
       "      <td>9</td>\n",
       "      <td>1380.0</td>\n",
       "      <td>2</td>\n",
       "      <td>0</td>\n",
       "      <td>9.000000</td>\n",
       "    </tr>\n",
       "  </tbody>\n",
       "</table>\n",
       "<p>1717 rows × 7 columns</p>\n",
       "</div>"
      ],
      "text/plain": [
       "             Frequence  Recence  Longueur  Montant  NbrP1  NbrP2  Inter_achat\n",
       "Customer_ID                                                                  \n",
       "1                    1        1         0     69.0      1      0    41.573700\n",
       "2                    1        3         0    350.0      1      0    41.573700\n",
       "3                    1        4         0     69.0      1      0    41.573700\n",
       "4                    1        6         0    120.0      1      0    41.573700\n",
       "5                    1        6         0    120.0      1      0    41.573700\n",
       "...                ...      ...       ...      ...    ...    ...          ...\n",
       "1713                 3      394       260   1464.0      2      1   130.000000\n",
       "1714                 5       59        22    951.0      5      0     5.500000\n",
       "1715                12      405       399   2616.0      6      6    36.272727\n",
       "1716                 5      155        44   2888.0      5      0    11.000000\n",
       "1717                 2       92         9   1380.0      2      0     9.000000\n",
       "\n",
       "[1717 rows x 7 columns]"
      ]
     },
     "execution_count": 80,
     "metadata": {},
     "output_type": "execute_result"
    }
   ],
   "source": [
    "newdta"
   ]
  },
  {
   "cell_type": "markdown",
   "id": "e1409e7d",
   "metadata": {},
   "source": [
    "<div class=\"alert alert-block alert-info\">\n",
    "<b>2. Sauvegarder le data frame final sous le nom \"LRFMP1P2IT.xlsx\".</b>\n",
    "</div>"
   ]
  },
  {
   "cell_type": "code",
   "execution_count": 81,
   "id": "98724d3b",
   "metadata": {},
   "outputs": [],
   "source": [
    "newdta.to_excel('LRFMP1P2IT.xlsx')"
   ]
  },
  {
   "cell_type": "code",
   "execution_count": null,
   "id": "c2647de0",
   "metadata": {},
   "outputs": [],
   "source": []
  },
  {
   "cell_type": "code",
   "execution_count": null,
   "id": "42fce7e3",
   "metadata": {},
   "outputs": [],
   "source": []
  },
  {
   "cell_type": "code",
   "execution_count": null,
   "id": "f2174eb4",
   "metadata": {},
   "outputs": [],
   "source": []
  }
 ],
 "metadata": {
  "kernelspec": {
   "display_name": "Python 3 (ipykernel)",
   "language": "python",
   "name": "python3"
  },
  "language_info": {
   "codemirror_mode": {
    "name": "ipython",
    "version": 3
   },
   "file_extension": ".py",
   "mimetype": "text/x-python",
   "name": "python",
   "nbconvert_exporter": "python",
   "pygments_lexer": "ipython3",
   "version": "3.11.4"
  }
 },
 "nbformat": 4,
 "nbformat_minor": 5
}

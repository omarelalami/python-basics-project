{
 "cells": [
  {
   "cell_type": "markdown",
   "id": "459a7a0d",
   "metadata": {},
   "source": [
    "<div class=\"alert alert-warning\" role=\"alert\" style=\"font-size: 20px; font-weight: bold;\">\n",
    "      Algorithme César\n",
    "</div>\n"
   ]
  },
  {
   "cell_type": "code",
   "execution_count": 7,
   "id": "3fcc1bce",
   "metadata": {},
   "outputs": [],
   "source": [
    "import string"
   ]
  },
  {
   "cell_type": "code",
   "execution_count": 101,
   "id": "df02ce4d",
   "metadata": {},
   "outputs": [],
   "source": [
    "def cesar_ciffer(message, key):\n",
    "    if type(key) != int :\n",
    "        print(\"la clef doit être un entier\")\n",
    "        return None\n",
    "\n",
    "    message = str(message)\n",
    "\n",
    "    list_of_crypted_caracs = []\n",
    "\n",
    "    for carac in message:\n",
    "        crypted_index = (string.printable.index(carac) + key) % len(string.printable)\n",
    "        crypted_carac = string.printable[crypted_index]\n",
    "\n",
    "        list_of_crypted_caracs.append(crypted_carac)\n",
    "\n",
    "    crypted_message = \"\".join(list_of_crypted_caracs)\n",
    "\n",
    "    return crypted_message"
   ]
  },
  {
   "cell_type": "code",
   "execution_count": 152,
   "id": "6b7b3ebc",
   "metadata": {},
   "outputs": [
    {
     "name": "stdout",
     "output_type": "stream",
     "text": [
      "!qwt\n",
      "oguucig\n"
     ]
    }
   ],
   "source": [
    "crypted_message = cesar_ciffer(\"Your message\", 2) \n",
    "print(crypted_message)"
   ]
  },
  {
   "cell_type": "markdown",
   "id": "96511535",
   "metadata": {},
   "source": [
    "<div class=\"alert alert-warning\" role=\"alert\" style=\"font-size: 20px; font-weight: bold;\">\n",
    "      Algorithme César Inverse\n",
    "</div>\n"
   ]
  },
  {
   "cell_type": "code",
   "execution_count": 86,
   "id": "ab42df85",
   "metadata": {},
   "outputs": [],
   "source": [
    "def cesar_decrypt(crypted_message, key):\n",
    "    return cesar_ciffer(crypted_message, -key)"
   ]
  },
  {
   "cell_type": "code",
   "execution_count": 87,
   "id": "dc44ff8f",
   "metadata": {},
   "outputs": [
    {
     "name": "stdout",
     "output_type": "stream",
     "text": [
      "Your message\n"
     ]
    }
   ],
   "source": [
    "crypted_message = cesar_ciffer(\"Your message\", 101) \n",
    "print(cesar_decrypt(crypted_message, 101))"
   ]
  },
  {
   "cell_type": "markdown",
   "id": "59063e06",
   "metadata": {},
   "source": [
    "<div class=\"alert alert-warning\" role=\"alert\" style=\"font-size: 20px; font-weight: bold;\">\n",
    "          Hacker Algorithme César  💀 🔓⛏ 💀\n",
    "\n",
    "</div>"
   ]
  },
  {
   "cell_type": "code",
   "execution_count": 125,
   "id": "3ab93764",
   "metadata": {},
   "outputs": [],
   "source": [
    "# print(\"#\"*30)\n",
    "# for possible_key in range(0, len(string.printable)):\n",
    "#     print(cesar_decrypt(crypted_message, possible_key))\n",
    "# print(\"#\"*30)"
   ]
  },
  {
   "cell_type": "code",
   "execution_count": 89,
   "id": "c6d8d600",
   "metadata": {},
   "outputs": [],
   "source": [
    "import string"
   ]
  },
  {
   "cell_type": "code",
   "execution_count": 90,
   "id": "15abc8ac",
   "metadata": {
    "scrolled": true
   },
   "outputs": [
    {
     "data": {
      "text/plain": [
       "'0123456789abcdefghijklmnopqrstuvwxyzABCDEFGHIJKLMNOPQRSTUVWXYZ!\"#$%&\\'()*+,-./:;<=>?@[\\\\]^_`{|}~ \\t\\n\\r\\x0b\\x0c'"
      ]
     },
     "execution_count": 90,
     "metadata": {},
     "output_type": "execute_result"
    }
   ],
   "source": [
    "string.printable"
   ]
  },
  {
   "cell_type": "markdown",
   "id": "4ed8909f",
   "metadata": {},
   "source": [
    "<div class=\"alert alert-warning\" role=\"alert\" style=\"font-size: 20px; font-weight: bold;\">\n",
    "          Il n'y a pas de problème dans Jupyter.\n",
    "\n",
    "</div>"
   ]
  },
  {
   "cell_type": "code",
   "execution_count": 175,
   "id": "77ef9ede",
   "metadata": {},
   "outputs": [
    {
     "data": {
      "text/plain": [
       "'\"rxu\\rphvvdjh'"
      ]
     },
     "execution_count": 175,
     "metadata": {},
     "output_type": "execute_result"
    }
   ],
   "source": [
    "cesar_ciffer(\"Your message\", 3)"
   ]
  },
  {
   "cell_type": "code",
   "execution_count": 176,
   "id": "762e25b4",
   "metadata": {},
   "outputs": [
    {
     "name": "stdout",
     "output_type": "stream",
     "text": [
      "Your message\n"
     ]
    }
   ],
   "source": [
    "print(cesar_decrypt('\"rxu\\rphvvdjh',3))"
   ]
  },
  {
   "cell_type": "code",
   "execution_count": null,
   "id": "d8131858",
   "metadata": {},
   "outputs": [],
   "source": []
  },
  {
   "cell_type": "code",
   "execution_count": null,
   "id": "081f14a6",
   "metadata": {},
   "outputs": [],
   "source": []
  },
  {
   "cell_type": "code",
   "execution_count": null,
   "id": "8ed717c0",
   "metadata": {},
   "outputs": [],
   "source": []
  }
 ],
 "metadata": {
  "kernelspec": {
   "display_name": "Python 3 (ipykernel)",
   "language": "python",
   "name": "python3"
  },
  "language_info": {
   "codemirror_mode": {
    "name": "ipython",
    "version": 3
   },
   "file_extension": ".py",
   "mimetype": "text/x-python",
   "name": "python",
   "nbconvert_exporter": "python",
   "pygments_lexer": "ipython3",
   "version": "3.11.4"
  }
 },
 "nbformat": 4,
 "nbformat_minor": 5
}

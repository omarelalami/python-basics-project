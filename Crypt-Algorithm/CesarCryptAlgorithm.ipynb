{
 "cells": [
  {
   "cell_type": "markdown",
   "id": "459a7a0d",
   "metadata": {},
   "source": [
    "<div class=\"alert alert-warning\" role=\"alert\" style=\"font-size: 20px; font-weight: bold;\">\n",
    "      Algorithme César\n",
    "</div>\n"
   ]
  },
  {
   "cell_type": "code",
   "execution_count": 1,
   "id": "3fcc1bce",
   "metadata": {},
   "outputs": [],
   "source": [
    "import string"
   ]
  },
  {
   "cell_type": "code",
   "execution_count": 12,
   "id": "df02ce4d",
   "metadata": {},
   "outputs": [],
   "source": [
    "def cesar_ciffer(message, key):\n",
    "    if type(key) != int :\n",
    "        print(\"la clef doit être un entier\")\n",
    "        return None\n",
    "\n",
    "    message = str(message)\n",
    "\n",
    "    list_of_crypted_caracs = []\n",
    "\n",
    "    for carac in message:\n",
    "        crypted_index = (string.printable.index(carac) + key) % len(string.printable)\n",
    "        crypted_carac = string.printable[crypted_index]\n",
    "\n",
    "        list_of_crypted_caracs.append(crypted_carac)\n",
    "\n",
    "    crypted_message = \"\".join(list_of_crypted_caracs)\n",
    "\n",
    "    return crypted_message"
   ]
  },
  {
   "cell_type": "code",
   "execution_count": 22,
   "id": "6b7b3ebc",
   "metadata": {},
   "outputs": [
    {
     "name": "stdout",
     "output_type": "stream",
     "text": [
      "Zpvs\tnfttbhf\n"
     ]
    }
   ],
   "source": [
    "crypted_message = cesar_ciffer(\"Your message\", 101) \n",
    "print(crypted_message)"
   ]
  },
  {
   "cell_type": "markdown",
   "id": "96511535",
   "metadata": {},
   "source": [
    "<div class=\"alert alert-warning\" role=\"alert\" style=\"font-size: 20px; font-weight: bold;\">\n",
    "      Algorithme César Inverse\n",
    "</div>\n"
   ]
  },
  {
   "cell_type": "code",
   "execution_count": 24,
   "id": "ab42df85",
   "metadata": {},
   "outputs": [],
   "source": [
    "def cesar_decrypt(crypted_message, key):\n",
    "    return cesar_ciffer(crypted_message, -key)"
   ]
  },
  {
   "cell_type": "code",
   "execution_count": 25,
   "id": "dc44ff8f",
   "metadata": {},
   "outputs": [
    {
     "name": "stdout",
     "output_type": "stream",
     "text": [
      "Your message\n"
     ]
    }
   ],
   "source": [
    "crypted_message = cesar_ciffer(\"Your message\", 101) \n",
    "print(cesar_decrypt(crypted_message, 101))"
   ]
  },
  {
   "cell_type": "markdown",
   "id": "59063e06",
   "metadata": {},
   "source": [
    "<div class=\"alert alert-warning\" role=\"alert\" style=\"font-size: 20px; font-weight: bold;\">\n",
    "          Hacker Algorithme César  💀 🔓⛏ 💀\n",
    "\n",
    "</div>"
   ]
  },
  {
   "cell_type": "code",
   "execution_count": 27,
   "id": "3ab93764",
   "metadata": {},
   "outputs": [
    {
     "name": "stdout",
     "output_type": "stream",
     "text": [
      "##############################\n",
      "Zpvs\tnfttbhf\n",
      "Your message\n",
      "Xntq~ldrr9fd\n",
      "Wmsp}kcqq8ec\n",
      "Vlro|jbpp7db\n",
      "Ukqn{iaoo6ca\n",
      "Tjpm`h9nn5b9\n",
      "Siol_g8mm4a8\n",
      "Rhnk^f7ll397\n",
      "Qgmj]e6kk286\n",
      "Pfli\\d5jj175\n",
      "Oekh[c4ii064\n",
      "Ndjg@b3hh\f",
      "53\n",
      "Mcif?a2gg\u000b",
      "42\n",
      "Lbhe>91ff\r",
      "31\n",
      "Kagd=80ee\n",
      "20\n",
      "J9fc<7\f",
      "dd\t1\f",
      "\n",
      "I8eb;6\u000b",
      "cc 0\u000b",
      "\n",
      "H7da:5\r",
      "bb~\f",
      "\r\n",
      "G6c9/4\n",
      "aa}\u000b",
      "\n",
      "\n",
      "F5b8.3\t99|\r",
      "\t\n",
      "E4a7-2 88{\n",
      " \n",
      "D396,1~77`\t~\n",
      "C285+0}66_ }\n",
      "B174*\f",
      "|55^~|\n",
      "A063)\u000b",
      "{44]}{\n",
      "z\f",
      "52(\r",
      "`33\\|`\n",
      "y\u000b",
      "41'\n",
      "_22[{_\n",
      "x\r",
      "30&\t^11@`^\n",
      "w\n",
      "2\f",
      "% ]00?_]\n",
      "v\t1\u000b",
      "$~\\\f",
      "\f",
      ">^\\\n",
      "u 0\r",
      "#}[\u000b",
      "\u000b",
      "=][\n",
      "t~\f",
      "\n",
      "\"|@\r",
      "\r",
      "<\\@\n",
      "s}\u000b",
      "\t!{?\n",
      "\n",
      ";[?\n",
      "r|\r",
      " Z`>\t\t:@>\n",
      "q{\n",
      "~Y_=  /?=\n",
      "p`\t}X^<~~.><\n",
      "o_ |W];}}-=;\n",
      "n^~{V\\:||,<:\n",
      "m]}`U[/{{+;/\n",
      "l\\|_T@.``*:.\n",
      "k[{^S?-__)/-\n",
      "j@`]R>,^^(.,\n",
      "i?_\\Q=+]]'-+\n",
      "h>^[P<*\\\\&,*\n",
      "g=]@O;)[[%+)\n",
      "f<\\?N:(@@$*(\n",
      "e;[>M/'??#)'\n",
      "d:@=L.&>>\"(&\n",
      "c/?<K-%==!'%\n",
      "b.>;J,$<<Z&$\n",
      "a-=:I+#;;Y%#\n",
      "9,</H*\"::X$\"\n",
      "8+;.G)!//W#!\n",
      "7*:-F(Z..V\"Z\n",
      "6)/,E'Y--U!Y\n",
      "5(.+D&X,,TZX\n",
      "4'-*C%W++SYW\n",
      "3&,)B$V**RXV\n",
      "2%+(A#U))QWU\n",
      "1$*'z\"T((PVT\n",
      "0#)&y!S''OUS\n",
      "\f",
      "\"(%xZR&&NTR\n",
      "\u000b",
      "!'$wYQ%%MSQ\n",
      "\r",
      "Z&#vXP$$LRP\n",
      "\n",
      "Y%\"uWO##KQO\n",
      "\tX$!tVN\"\"JPN\n",
      " W#ZsUM!!IOM\n",
      "~V\"YrTLZZHNL\n",
      "}U!XqSKYYGMK\n",
      "|TZWpRJXXFLJ\n",
      "{SYVoQIWWEKI\n",
      "`RXUnPHVVDJH\n",
      "_QWTmOGUUCIG\n",
      "^PVSlNFTTBHF\n",
      "]OURkMESSAGE\n",
      "\\NTQjLDRRzFD\n",
      "[MSPiKCQQyEC\n",
      "@LROhJBPPxDB\n",
      "?KQNgIAOOwCA\n",
      ">JPMfHzNNvBz\n",
      "=IOLeGyMMuAy\n",
      "<HNKdFxLLtzx\n",
      ";GMJcEwKKsyw\n",
      ":FLIbDvJJrxv\n",
      "/EKHaCuIIqwu\n",
      ".DJG9BtHHpvt\n",
      "-CIF8AsGGous\n",
      ",BHE7zrFFntr\n",
      "+AGD6yqEEmsq\n",
      "*zFC5xpDDlrp\n",
      ")yEB4woCCkqo\n",
      "(xDA3vnBBjpn\n",
      "'wCz2umAAiom\n",
      "&vBy1tlzzhnl\n",
      "%uAx0skyygmk\n",
      "$tzw\f",
      "rjxxflj\n",
      "#syv\u000b",
      "qiwweki\n",
      "\"rxu\r",
      "phvvdjh\n",
      "!qwt\n",
      "oguucig\n",
      "##############################\n"
     ]
    }
   ],
   "source": [
    "print(\"#\"*30)\n",
    "for possible_key in range(0, len(string.printable)):\n",
    "    print(cesar_decrypt(crypted_message, possible_key))\n",
    "print(\"#\"*30)"
   ]
  }
 ],
 "metadata": {
  "kernelspec": {
   "display_name": "Python 3 (ipykernel)",
   "language": "python",
   "name": "python3"
  },
  "language_info": {
   "codemirror_mode": {
    "name": "ipython",
    "version": 3
   },
   "file_extension": ".py",
   "mimetype": "text/x-python",
   "name": "python",
   "nbconvert_exporter": "python",
   "pygments_lexer": "ipython3",
   "version": "3.11.4"
  }
 },
 "nbformat": 4,
 "nbformat_minor": 5
}

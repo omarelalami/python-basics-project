{
 "cells": [
  {
   "cell_type": "markdown",
   "id": "459a7a0d",
   "metadata": {},
   "source": [
    "<div class=\"alert alert-warning\" role=\"alert\" style=\"font-size: 20px; font-weight: bold;\">\n",
    "      Algorithme César\n",
    "</div>\n"
   ]
  },
  {
   "cell_type": "code",
   "execution_count": 1,
   "id": "3fcc1bce",
   "metadata": {},
   "outputs": [],
   "source": [
    "import string"
   ]
  },
  {
   "cell_type": "code",
   "execution_count": 12,
   "id": "df02ce4d",
   "metadata": {},
   "outputs": [],
   "source": [
    "def cesar_ciffer(message, key):\n",
    "    \n",
    "    if type(key) != int :\n",
    "        print(\"la clef doit être un entier\")\n",
    "        return None\n",
    "\n",
    "    message = str(message)\n",
    "\n",
    "    list_of_crypted_caracs = []\n",
    "\n",
    "    for carac in message:\n",
    "        crypted_index = (string.printable.index(carac) + key) % len(string.printable)\n",
    "        crypted_carac = string.printable[crypted_index]\n",
    "\n",
    "        list_of_crypted_caracs.append(crypted_carac)\n",
    "\n",
    "    crypted_message = \"\".join(list_of_crypted_caracs)\n",
    "\n",
    "    return crypted_message"
   ]
  },
  {
   "cell_type": "code",
   "execution_count": 22,
   "id": "6b7b3ebc",
   "metadata": {},
   "outputs": [
    {
     "name": "stdout",
     "output_type": "stream",
     "text": [
      "Zpvs\tnfttbhf\n"
     ]
    }
   ],
   "source": [
    "crypted_message = cesar_ciffer(\"Your message\", 101) \n",
    "print(crypted_message)"
   ]
  },
  {
   "cell_type": "markdown",
   "id": "96511535",
   "metadata": {},
   "source": [
    "<div class=\"alert alert-warning\" role=\"alert\" style=\"font-size: 20px; font-weight: bold;\">\n",
    "      Algorithme César Inverse\n",
    "</div>\n"
   ]
  },
  {
   "cell_type": "code",
   "execution_count": 24,
   "id": "ab42df85",
   "metadata": {},
   "outputs": [],
   "source": [
    "def cesar_decrypt(crypted_message, key):\n",
    "    return cesar_ciffer(crypted_message, -key)"
   ]
  },
  {
   "cell_type": "code",
   "execution_count": 25,
   "id": "dc44ff8f",
   "metadata": {},
   "outputs": [
    {
     "name": "stdout",
     "output_type": "stream",
     "text": [
      "Your message\n"
     ]
    }
   ],
   "source": [
    "crypted_message = cesar_ciffer(\"Your message\", 101) \n",
    "print(cesar_decrypt(crypted_message, 101))"
   ]
  },
  {
   "cell_type": "markdown",
   "id": "59063e06",
   "metadata": {},
   "source": [
    "<div class=\"alert alert-warning\" role=\"alert\" style=\"font-size: 20px; font-weight: bold;\">\n",
    "          Hacker Algorithme César  💀 🔓⛏ 💀\n",
    "\n",
    "</div>"
   ]
  },
  {
   "cell_type": "code",
   "execution_count": 2,
   "id": "3ab93764",
   "metadata": {},
   "outputs": [
    {
     "ename": "NameError",
     "evalue": "name 'cesar_decrypt' is not defined",
     "output_type": "error",
     "traceback": [
      "\u001b[1;31m---------------------------------------------------------------------------\u001b[0m",
      "\u001b[1;31mNameError\u001b[0m                                 Traceback (most recent call last)",
      "Cell \u001b[1;32mIn[2], line 2\u001b[0m\n\u001b[0;32m      1\u001b[0m \u001b[38;5;28;01mfor\u001b[39;00m possible_key \u001b[38;5;129;01min\u001b[39;00m \u001b[38;5;28mrange\u001b[39m(\u001b[38;5;241m0\u001b[39m, \u001b[38;5;28mlen\u001b[39m(string\u001b[38;5;241m.\u001b[39mprintable)):\n\u001b[1;32m----> 2\u001b[0m     \u001b[38;5;28mprint\u001b[39m(cesar_decrypt(crypted_message, possible_key))\n",
      "\u001b[1;31mNameError\u001b[0m: name 'cesar_decrypt' is not defined"
     ]
    }
   ],
   "source": [
    "\n",
    "for possible_key in range(0, len(string.printable)):\n",
    "    print(cesar_decrypt(crypted_message, possible_key))\n"
   ]
  }
 ],
 "metadata": {
  "kernelspec": {
   "display_name": "Python 3 (ipykernel)",
   "language": "python",
   "name": "python3"
  },
  "language_info": {
   "codemirror_mode": {
    "name": "ipython",
    "version": 3
   },
   "file_extension": ".py",
   "mimetype": "text/x-python",
   "name": "python",
   "nbconvert_exporter": "python",
   "pygments_lexer": "ipython3",
   "version": "3.11.4"
  }
 },
 "nbformat": 4,
 "nbformat_minor": 5
}

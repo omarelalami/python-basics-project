{
 "cells": [
  {
   "cell_type": "markdown",
   "id": "e9842522",
   "metadata": {},
   "source": [
    "<div class=\"alert alert-block alert-info\">\n",
    "<b>Importation</b>\n",
    "</div>"
   ]
  },
  {
   "cell_type": "code",
   "execution_count": 54,
   "id": "93a77633",
   "metadata": {},
   "outputs": [],
   "source": [
    "import numpy as np"
   ]
  },
  {
   "cell_type": "markdown",
   "id": "f759ded8",
   "metadata": {},
   "source": [
    "<div class=\"alert alert-block alert-info\">\n",
    "<b>Créer un ndarray à partir du fichier STATISTIQUES_EQUIPE_LIGUE1.csv et vérifier le nombre \n",
    "de lignes et de colonnes.</b>\n",
    "</div>"
   ]
  },
  {
   "cell_type": "code",
   "execution_count": 55,
   "id": "8a5b48c4",
   "metadata": {},
   "outputs": [],
   "source": [
    "equipe=np.genfromtxt('STATISTIQUES_EQUIPE_LIGUE1.csv', delimiter=';', dtype=None,encoding=None,names=True)"
   ]
  },
  {
   "cell_type": "code",
   "execution_count": 56,
   "id": "336fb469",
   "metadata": {},
   "outputs": [
    {
     "data": {
      "text/plain": [
       "(20,)"
      ]
     },
     "execution_count": 56,
     "metadata": {},
     "output_type": "execute_result"
    }
   ],
   "source": [
    "equipe.shape"
   ]
  },
  {
   "cell_type": "markdown",
   "id": "630c04be",
   "metadata": {},
   "source": [
    "<div class=\"alert alert-block alert-info\">\n",
    "<b>Calculer le nombre moyen de buts par match</b>\n",
    "</div>"
   ]
  },
  {
   "cell_type": "code",
   "execution_count": 57,
   "id": "b478bb94",
   "metadata": {},
   "outputs": [],
   "source": [
    "butpour=sum(equipe[\"ButsPour\"].astype('i'))"
   ]
  },
  {
   "cell_type": "code",
   "execution_count": 58,
   "id": "40584d84",
   "metadata": {},
   "outputs": [
    {
     "data": {
      "text/plain": [
       "444"
      ]
     },
     "execution_count": 58,
     "metadata": {},
     "output_type": "execute_result"
    }
   ],
   "source": [
    "butpour"
   ]
  },
  {
   "cell_type": "code",
   "execution_count": 59,
   "id": "1c1c5bca",
   "metadata": {},
   "outputs": [],
   "source": [
    "nbr_match=equipe[\"Victoire\"][0].astype('i')+equipe[\"Nuls\"][0].astype('i')+equipe[\"Defaites\"][0].astype('i')"
   ]
  },
  {
   "cell_type": "code",
   "execution_count": 60,
   "id": "782e3edf",
   "metadata": {},
   "outputs": [
    {
     "data": {
      "text/plain": [
       "15"
      ]
     },
     "execution_count": 60,
     "metadata": {},
     "output_type": "execute_result"
    }
   ],
   "source": [
    "nbr_match"
   ]
  },
  {
   "cell_type": "code",
   "execution_count": 61,
   "id": "a7081576",
   "metadata": {},
   "outputs": [],
   "source": [
    "nbr_mo=butpour/((len(equipe[\"equipe\"])*nbr_match)/2)"
   ]
  },
  {
   "cell_type": "code",
   "execution_count": 62,
   "id": "fb4f1a49",
   "metadata": {},
   "outputs": [
    {
     "data": {
      "text/plain": [
       "2.96"
      ]
     },
     "execution_count": 62,
     "metadata": {},
     "output_type": "execute_result"
    }
   ],
   "source": [
    "nbr_mo"
   ]
  },
  {
   "cell_type": "markdown",
   "id": "681f79cc",
   "metadata": {},
   "source": [
    "<div class=\"alert alert-block alert-info\">\n",
    "<b>Calculer la valeur moyenne du nombre de points (3 points pour une victoire, 1 point pour un \n",
    "nul et 0 points pour une défaite)</b>\n",
    "</div>"
   ]
  },
  {
   "cell_type": "code",
   "execution_count": 63,
   "id": "e7728878",
   "metadata": {},
   "outputs": [],
   "source": [
    "nbr_moypc=(equipe[\"Victoire\"].astype('i')*3)+(equipe[\"Nuls\"].astype('i'))"
   ]
  },
  {
   "cell_type": "code",
   "execution_count": 64,
   "id": "5f90e3da",
   "metadata": {},
   "outputs": [
    {
     "data": {
      "text/plain": [
       "array([12,  8, 13, 13, 19, 36, 26, 28, 21, 30, 27, 14, 13, 20, 41, 17, 31,\n",
       "       11, 16, 14], dtype=int32)"
      ]
     },
     "execution_count": 64,
     "metadata": {},
     "output_type": "execute_result"
    }
   ],
   "source": [
    "nbr_moypc"
   ]
  },
  {
   "cell_type": "code",
   "execution_count": 65,
   "id": "1eb45584",
   "metadata": {},
   "outputs": [],
   "source": [
    "nbr_moyp=nbr_moypc.mean()"
   ]
  },
  {
   "cell_type": "code",
   "execution_count": 66,
   "id": "0210195b",
   "metadata": {},
   "outputs": [
    {
     "data": {
      "text/plain": [
       "20.5"
      ]
     },
     "execution_count": 66,
     "metadata": {},
     "output_type": "execute_result"
    }
   ],
   "source": [
    "nbr_moyp"
   ]
  },
  {
   "cell_type": "markdown",
   "id": "65636e2a",
   "metadata": {},
   "source": [
    "<div class=\"alert alert-block alert-info\">\n",
    "<b>Quelle équipe a le plus grand nombre de victoires ?</b>\n",
    "</div>"
   ]
  },
  {
   "cell_type": "code",
   "execution_count": 67,
   "id": "3f4d371a",
   "metadata": {},
   "outputs": [],
   "source": [
    "maxvic=np.max(equipe[\"Victoire\"].astype('i'))"
   ]
  },
  {
   "cell_type": "code",
   "execution_count": 68,
   "id": "cb87ae1b",
   "metadata": {},
   "outputs": [
    {
     "data": {
      "text/plain": [
       "13"
      ]
     },
     "execution_count": 68,
     "metadata": {},
     "output_type": "execute_result"
    }
   ],
   "source": [
    "maxvic"
   ]
  },
  {
   "cell_type": "code",
   "execution_count": 69,
   "id": "4af2b7dd",
   "metadata": {},
   "outputs": [
    {
     "data": {
      "text/plain": [
       "array(['PSG'], dtype='<U11')"
      ]
     },
     "execution_count": 69,
     "metadata": {},
     "output_type": "execute_result"
    }
   ],
   "source": [
    "equipe[\"equipe\"][np.where(equipe[\"Victoire\"].astype('i')==maxvic)]"
   ]
  },
  {
   "cell_type": "markdown",
   "id": "fb1159f6",
   "metadata": {},
   "source": [
    "<div class=\"alert alert-block alert-info\">\n",
    "<b>Quel est le club ayant inscrit le plus grand nombre de buts ?</b>\n",
    "</div>"
   ]
  },
  {
   "cell_type": "code",
   "execution_count": 70,
   "id": "c7fc2c3a",
   "metadata": {},
   "outputs": [],
   "source": [
    "maxbut=np.max(equipe[\"ButsPour\"].astype('i'))"
   ]
  },
  {
   "cell_type": "code",
   "execution_count": 71,
   "id": "fd94f415",
   "metadata": {},
   "outputs": [
    {
     "data": {
      "text/plain": [
       "43"
      ]
     },
     "execution_count": 71,
     "metadata": {},
     "output_type": "execute_result"
    }
   ],
   "source": [
    "maxbut"
   ]
  },
  {
   "cell_type": "code",
   "execution_count": 72,
   "id": "898263f8",
   "metadata": {},
   "outputs": [
    {
     "data": {
      "text/plain": [
       "array(['PSG'], dtype='<U11')"
      ]
     },
     "execution_count": 72,
     "metadata": {},
     "output_type": "execute_result"
    }
   ],
   "source": [
    "equipe[\"equipe\"][np.where(equipe[\"ButsPour\"].astype('i')==maxbut)]"
   ]
  },
  {
   "cell_type": "markdown",
   "id": "131be2d0",
   "metadata": {},
   "source": [
    "<div class=\"alert alert-block alert-info\">\n",
    "<b>Quelle équipe a le plus grand nombre de hors-jeux ?</b>\n",
    "</div>"
   ]
  },
  {
   "cell_type": "code",
   "execution_count": 73,
   "id": "1cd69f18",
   "metadata": {},
   "outputs": [],
   "source": [
    "maxhors=np.max(equipe[\"HorsJeux\"].astype('i'))"
   ]
  },
  {
   "cell_type": "code",
   "execution_count": 74,
   "id": "73a22974",
   "metadata": {},
   "outputs": [
    {
     "data": {
      "text/plain": [
       "array(['PSG'], dtype='<U11')"
      ]
     },
     "execution_count": 74,
     "metadata": {},
     "output_type": "execute_result"
    }
   ],
   "source": [
    "equipe[\"equipe\"][np.where(equipe[\"HorsJeux\"].astype('i')==maxhors)]"
   ]
  },
  {
   "cell_type": "markdown",
   "id": "6df00336",
   "metadata": {},
   "source": [
    "<div class=\"alert alert-block alert-info\">\n",
    "<b> Quelle équipe possède la meilleure attaque et celle qui possède la meilleure défense.</b>\n",
    "</div>"
   ]
  },
  {
   "cell_type": "code",
   "execution_count": 75,
   "id": "6efd2a60",
   "metadata": {},
   "outputs": [],
   "source": [
    "maxbut=equipe[\"ButsPour\"]/(equipe[\"Victoire\"]+equipe[\"Defaites\"]+equipe[\"Nuls\"])"
   ]
  },
  {
   "cell_type": "code",
   "execution_count": 76,
   "id": "8f12bc85",
   "metadata": {},
   "outputs": [
    {
     "data": {
      "text/plain": [
       "2.8666666666666667"
      ]
     },
     "execution_count": 76,
     "metadata": {},
     "output_type": "execute_result"
    }
   ],
   "source": [
    "np.max(maxbut)"
   ]
  },
  {
   "cell_type": "code",
   "execution_count": 77,
   "id": "c443ba84",
   "metadata": {},
   "outputs": [
    {
     "data": {
      "text/plain": [
       "array(['PSG'], dtype='<U11')"
      ]
     },
     "execution_count": 77,
     "metadata": {},
     "output_type": "execute_result"
    }
   ],
   "source": [
    "equipe[\"equipe\"][np.where(np.max(maxbut)==maxbut)]"
   ]
  },
  {
   "cell_type": "markdown",
   "id": "7b56fd97",
   "metadata": {},
   "source": [
    "<div class=\"alert alert-block alert-info\">\n",
    "<b>L'equipe qui possède la meilleure défense</b>\n",
    "</div>"
   ]
  },
  {
   "cell_type": "code",
   "execution_count": 78,
   "id": "91ba1fae",
   "metadata": {},
   "outputs": [],
   "source": [
    "minbut=equipe[\"ButsContre\"]/(equipe[\"Victoire\"]+equipe[\"Defaites\"]+equipe[\"Nuls\"])"
   ]
  },
  {
   "cell_type": "code",
   "execution_count": 79,
   "id": "0428f201",
   "metadata": {},
   "outputs": [
    {
     "data": {
      "text/plain": [
       "array(['PSG'], dtype='<U11')"
      ]
     },
     "execution_count": 79,
     "metadata": {},
     "output_type": "execute_result"
    }
   ],
   "source": [
    "equipe[\"equipe\"][np.where(min(minbut)==minbut)]"
   ]
  },
  {
   "cell_type": "markdown",
   "id": "e6d2c0f6",
   "metadata": {},
   "source": [
    "<div class=\"alert alert-block alert-info\">\n",
    "<b>Trouver le nombre des équipes dont le nombre de buts marqués est inférieur à celui encaissés \n",
    "puis afficher le nom de ces équipes.</b>\n",
    "</div>"
   ]
  },
  {
   "cell_type": "code",
   "execution_count": 80,
   "id": "3052515d",
   "metadata": {},
   "outputs": [],
   "source": [
    "nbr_8=equipe[\"ButsPour\"].astype('i')>equipe[\"ButsContre\"].astype('i')"
   ]
  },
  {
   "cell_type": "code",
   "execution_count": 81,
   "id": "931b043b",
   "metadata": {},
   "outputs": [
    {
     "data": {
      "text/plain": [
       "8"
      ]
     },
     "execution_count": 81,
     "metadata": {},
     "output_type": "execute_result"
    }
   ],
   "source": [
    "np.count_nonzero(nbr_8)"
   ]
  },
  {
   "cell_type": "code",
   "execution_count": 82,
   "id": "1ccf49db",
   "metadata": {},
   "outputs": [
    {
     "data": {
      "text/plain": [
       "array(['Lens', 'Lille', 'Lorient', 'Lyon', 'Marseille', 'Monaco', 'PSG',\n",
       "       'Rennes'], dtype='<U11')"
      ]
     },
     "execution_count": 82,
     "metadata": {},
     "output_type": "execute_result"
    }
   ],
   "source": [
    "equipe[\"equipe\"][nbr_8]"
   ]
  },
  {
   "cell_type": "markdown",
   "id": "c93d0c3d",
   "metadata": {},
   "source": [
    "<div class=\"alert alert-block alert-info\">\n",
    "<b>Calculer ensuite la différence de buts (buts pour - buts contre)\n",
    "</b>\n",
    "</div>"
   ]
  },
  {
   "cell_type": "code",
   "execution_count": 352,
   "id": "aeba73ee",
   "metadata": {},
   "outputs": [
    {
     "data": {
      "text/plain": [
       "array([-10, -19, -17, -12,  -4,  16,   4,   5,   5,  13,   8,  -5,  -7,\n",
       "        -2,  34,  -5,  17,  -9,  -7,  -5])"
      ]
     },
     "execution_count": 352,
     "metadata": {},
     "output_type": "execute_result"
    }
   ],
   "source": [
    "q_9=equipe[\"ButsPour\"]-equipe[\"ButsContre\"]\n",
    "q_9\n"
   ]
  },
  {
   "cell_type": "markdown",
   "id": "cfffcd48",
   "metadata": {},
   "source": [
    "<div class=\"alert alert-block alert-info\">\n",
    "<b>Calculer pour chaque créneau horaire le pourcentage de buts marqués pour chaque club.\n",
    "</b>\n",
    "</div>"
   ]
  },
  {
   "cell_type": "code",
   "execution_count": 418,
   "id": "f1554347",
   "metadata": {},
   "outputs": [
    {
     "data": {
      "text/plain": [
       "array([[ 0.        ,  7.14285714, 35.71428571, 21.42857143, 21.42857143,\n",
       "        14.28571429],\n",
       "       [13.33333333,  6.66666667, 13.33333333, 13.33333333, 26.66666667,\n",
       "        26.66666667],\n",
       "       [21.42857143,  7.14285714, 14.28571429,  7.14285714, 21.42857143,\n",
       "        28.57142857],\n",
       "       [18.75      , 12.5       ,  6.25      , 18.75      , 31.25      ,\n",
       "        12.5       ],\n",
       "       [15.78947368,  0.        ,  5.26315789, 31.57894737, 21.05263158,\n",
       "        26.31578947],\n",
       "       [ 3.84615385, 15.38461538,  7.69230769, 19.23076923, 23.07692308,\n",
       "        30.76923077],\n",
       "       [14.81481481, 14.81481481, 25.92592593, 11.11111111, 14.81481481,\n",
       "        18.51851852],\n",
       "       [19.23076923, 15.38461538, 19.23076923, 26.92307692,  7.69230769,\n",
       "        11.53846154],\n",
       "       [13.04347826, 17.39130435, 13.04347826, 13.04347826, 21.73913043,\n",
       "        21.73913043],\n",
       "       [19.23076923,  3.84615385, 30.76923077, 15.38461538, 11.53846154,\n",
       "        19.23076923],\n",
       "       [10.34482759,  6.89655172, 24.13793103, 24.13793103, 24.13793103,\n",
       "        10.34482759],\n",
       "       [33.33333333, 16.66666667,  8.33333333,  4.16666667, 12.5       ,\n",
       "        25.        ],\n",
       "       [ 5.88235294,  5.88235294, 11.76470588, 17.64705882, 23.52941176,\n",
       "        35.29411765],\n",
       "       [ 6.66666667, 20.        , 20.        , 20.        , 20.        ,\n",
       "        13.33333333],\n",
       "       [11.62790698, 16.27906977, 16.27906977, 16.27906977, 11.62790698,\n",
       "        27.90697674],\n",
       "       [ 6.25      , 31.25      ,  6.25      ,  6.25      , 12.5       ,\n",
       "        37.5       ],\n",
       "       [ 6.4516129 , 16.12903226,  9.67741935, 25.80645161,  9.67741935,\n",
       "        32.25806452],\n",
       "       [11.76470588, 17.64705882, 11.76470588, 11.76470588, 23.52941176,\n",
       "        23.52941176],\n",
       "       [10.        , 15.        , 30.        , 25.        , 15.        ,\n",
       "         5.        ],\n",
       "       [15.38461538, 15.38461538, 11.53846154, 19.23076923,  7.69230769,\n",
       "        30.76923077]])"
      ]
     },
     "execution_count": 418,
     "metadata": {},
     "output_type": "execute_result"
    }
   ],
   "source": [
    "j=[]\n",
    "z=[]\n",
    "for i in range(20):\n",
    "    j.append(list(equipe[i]))\n",
    "    z.append(list((j[i][10:17]/np.sum(j[i][10:17])*100)))\n",
    "j\n",
    "z=np.array(z)\n",
    "z"
   ]
  },
  {
   "cell_type": "markdown",
   "id": "004c5c79",
   "metadata": {},
   "source": [
    "<div class=\"alert alert-block alert-info\">\n",
    "<b>Joindre les tableaux nécessaires dans un seul ndarray (20, 17) avec les colonnes suivantes : \n",
    "club, points, Victoire, Nuls, Defaite, ButsPour, Butscontre, Différence, HorsJeux,\n",
    "ButsParMatch, ButsEncaissésParMatch, pourcentageButsMarques_creneau\n",
    "</b>\n",
    "</div>"
   ]
  },
  {
   "cell_type": "code",
   "execution_count": 409,
   "id": "91db02df",
   "metadata": {
    "scrolled": true
   },
   "outputs": [],
   "source": [
    "newarray=np.vstack((equipe[\"equipe\"],equipe[\"Victoire\"],equipe[\"Nuls\"],equipe[\"ButsPour\"],\\\n",
    "                    equipe[\"ButsContre\"],equipe[\"Defaites\"],equipe[\"HorsJeux\"],nbr_moypc ,q_9,maxbut,minbut,z.T))"
   ]
  },
  {
   "cell_type": "markdown",
   "id": "ce883ed9",
   "metadata": {},
   "source": [
    "<div class=\"alert alert-block alert-info\">\n",
    "<b>Trier le tableau obtenu dans la question 11 selon le nombre des points.\n",
    "</b>\n",
    "</div>"
   ]
  },
  {
   "cell_type": "code",
   "execution_count": 410,
   "id": "5e2d8c78",
   "metadata": {},
   "outputs": [
    {
     "data": {
      "text/plain": [
       "array([['1.6', '0.9333333333333333', '14.285714285714285',\n",
       "        '7.142857142857142', '23', '35.714285714285715', '0.0', '24',\n",
       "        '14', '21.428571428571427', '12', '9', '3', '-10',\n",
       "        '21.428571428571427', '3', 'Ajaccio'],\n",
       "       ['2.2666666666666666', '1.0', '26.666666666666668',\n",
       "        '6.666666666666667', '17', '13.333333333333334',\n",
       "        '13.333333333333334', '34', '15', '13.333333333333334', '8',\n",
       "        '11', '2', '-19', '26.666666666666668', '2', 'Angers'],\n",
       "       ['2.066666666666667', '0.9333333333333333', '28.57142857142857',\n",
       "        '7.142857142857142', '23', '14.285714285714285',\n",
       "        '21.428571428571427', '31', '14', '7.142857142857142', '13', '8',\n",
       "        '4', '-17', '21.428571428571427', '3', 'Auxerre'],\n",
       "       ['1.8666666666666667', '1.0666666666666667', '12.5', '12.5', '26',\n",
       "        '6.25', '18.75', '28', '16', '18.75', '13', '8', '4', '-12',\n",
       "        '31.25', '3', 'Brest'],\n",
       "       ['1.5333333333333334', '1.2666666666666666', '26.31578947368421',\n",
       "        '0.0', '25', '5.263157894736842', '15.789473684210526', '23',\n",
       "        '19', '31.57894736842105', '19', '6', '4', '-4',\n",
       "        '21.052631578947366', '5', 'Clermont'],\n",
       "       ['0.6666666666666666', '1.7333333333333334', '30.76923076923077',\n",
       "        '15.384615384615385', '19', '7.6923076923076925',\n",
       "        '3.8461538461538463', '10', '26', '19.230769230769234', '36',\n",
       "        '1', '3', '16', '23.076923076923077', '11', 'Lens'],\n",
       "       ['1.5333333333333334', '1.8', '18.51851851851852',\n",
       "        '14.814814814814813', '24', '25.925925925925924',\n",
       "        '14.814814814814813', '23', '27', '11.11111111111111', '26', '5',\n",
       "        '2', '4', '14.814814814814813', '8', 'Lille'],\n",
       "       ['1.4', '1.7333333333333334', '11.538461538461538',\n",
       "        '15.384615384615385', '19', '19.230769230769234',\n",
       "        '19.230769230769234', '21', '26', '26.923076923076923', '28',\n",
       "        '3', '4', '5', '7.6923076923076925', '8', 'Lorient'],\n",
       "       ['1.2', '1.5333333333333334', '21.73913043478261',\n",
       "        '17.391304347826086', '23', '13.043478260869565',\n",
       "        '13.043478260869565', '18', '23', '13.043478260869565', '21',\n",
       "        '6', '3', '5', '21.73913043478261', '6', 'Lyon'],\n",
       "       ['0.8666666666666667', '1.7333333333333334', '19.230769230769234',\n",
       "        '3.8461538461538463', '20', '30.76923076923077',\n",
       "        '19.230769230769234', '13', '26', '15.384615384615385', '30',\n",
       "        '3', '3', '13', '11.538461538461538', '9', 'Marseille'],\n",
       "       ['1.4', '1.9333333333333333', '10.344827586206897',\n",
       "        '6.896551724137931', '26', '24.137931034482758',\n",
       "        '10.344827586206897', '21', '29', '24.137931034482758', '27',\n",
       "        '4', '3', '8', '24.137931034482758', '8', 'Monaco'],\n",
       "       ['1.9333333333333333', '1.6', '25.0', '16.666666666666664', '31',\n",
       "        '8.333333333333332', '33.33333333333333', '29', '24',\n",
       "        '4.166666666666666', '14', '9', '2', '-5', '12.5', '4',\n",
       "        'Montpellier'],\n",
       "       ['1.6', '1.1333333333333333', '35.294117647058826',\n",
       "        '5.88235294117647', '19', '11.76470588235294',\n",
       "        '5.88235294117647', '24', '17', '17.647058823529413', '13', '6',\n",
       "        '7', '-7', '23.52941176470588', '2', 'Nantes'],\n",
       "       ['1.1333333333333333', '1.0', '13.333333333333334', '20.0', '27',\n",
       "        '20.0', '6.666666666666667', '17', '15', '20.0', '20', '5', '5',\n",
       "        '-2', '20.0', '5', 'Nice'],\n",
       "       ['0.6', '2.8666666666666667', '27.906976744186046',\n",
       "        '16.27906976744186', '36', '16.27906976744186',\n",
       "        '11.627906976744185', '9', '43', '16.27906976744186', '41', '0',\n",
       "        '2', '34', '11.627906976744185', '13', 'PSG'],\n",
       "       ['1.4', '1.0666666666666667', '37.5', '31.25', '28', '6.25',\n",
       "        '6.25', '21', '16', '6.25', '17', '4', '8', '-5', '12.5', '3',\n",
       "        'Reims'],\n",
       "       ['0.9333333333333333', '2.066666666666667', '32.25806451612903',\n",
       "        '16.129032258064516', '24', '9.67741935483871',\n",
       "        '6.451612903225806', '14', '31', '25.806451612903224', '31', '2',\n",
       "        '4', '17', '9.67741935483871', '9', 'Rennes'],\n",
       "       ['1.7333333333333334', '1.1333333333333333', '23.52941176470588',\n",
       "        '17.647058823529413', '19', '11.76470588235294',\n",
       "        '11.76470588235294', '26', '17', '11.76470588235294', '11', '6',\n",
       "        '8', '-9', '23.52941176470588', '1', 'Strasbourg'],\n",
       "       ['1.8', '1.3333333333333333', '5.0', '15.0', '31', '30.0', '10.0',\n",
       "        '27', '20', '25.0', '16', '7', '4', '-7', '15.0', '4',\n",
       "        'Toulouse'],\n",
       "       ['2.066666666666667', '1.7333333333333334', '30.76923076923077',\n",
       "        '15.384615384615385', '23', '11.538461538461538',\n",
       "        '15.384615384615385', '31', '26', '19.230769230769234', '14',\n",
       "        '7', '5', '-5', '7.6923076923076925', '3', 'Troyes']],\n",
       "      dtype='<U32')"
      ]
     },
     "execution_count": 410,
     "metadata": {},
     "output_type": "execute_result"
    }
   ],
   "source": [
    "newarray[newarray[:,7].astype('str').argsort()].T"
   ]
  },
  {
   "cell_type": "markdown",
   "id": "4024b6e8",
   "metadata": {},
   "source": [
    "<div class=\"alert alert-block alert-info\">\n",
    "<b>En utilisant la méthode corrcoef(), afficher la matrice de corrélation. Interpréter le résultat\n",
    "obtenu.\n",
    "</b>\n",
    "</div>"
   ]
  },
  {
   "cell_type": "code",
   "execution_count": 417,
   "id": "abfe0ba2",
   "metadata": {},
   "outputs": [
    {
     "data": {
      "text/plain": [
       "array([[ 1.        , -0.52492665,  0.84928131, ...,  0.2617433 ,\n",
       "        -0.38100451, -0.04507879],\n",
       "       [-0.52492665,  1.        , -0.43724388, ..., -0.07370303,\n",
       "         0.0392405 ,  0.3194713 ],\n",
       "       [ 0.84928131, -0.43724388,  1.        , ...,  0.16649627,\n",
       "        -0.54176048,  0.0677635 ],\n",
       "       ...,\n",
       "       [ 0.2617433 , -0.07370303,  0.16649627, ...,  1.        ,\n",
       "        -0.02253257, -0.37672113],\n",
       "       [-0.38100451,  0.0392405 , -0.54176048, ..., -0.02253257,\n",
       "         1.        , -0.14282088],\n",
       "       [-0.04507879,  0.3194713 ,  0.0677635 , ..., -0.37672113,\n",
       "        -0.14282088,  1.        ]])"
      ]
     },
     "execution_count": 417,
     "metadata": {},
     "output_type": "execute_result"
    }
   ],
   "source": [
    "c=np.corrcoef(tuple(newarray[1:].astype('f')),tuple(newarray[1:].astype('f')))\n",
    "c"
   ]
  },
  {
   "cell_type": "markdown",
   "id": "aac1c569",
   "metadata": {},
   "source": [
    "<div class=\"alert alert-block alert-info\">\n",
    "<b>. Sauvegarder le tableau trié dans un fichier csv avec l’entête correspondant.</b>\n",
    "</div>"
   ]
  },
  {
   "cell_type": "code",
   "execution_count": null,
   "id": "c818cddf",
   "metadata": {},
   "outputs": [],
   "source": [
    "headerout=\"equipe;Victoire;Nuls;ButsPour;ButsContre;Defaites;HorsJeux;Nombre de points;Diffrence;ButsParMatch;ButsEncaissésParMatch\""
   ]
  },
  {
   "cell_type": "code",
   "execution_count": 416,
   "id": "73c4f92c",
   "metadata": {},
   "outputs": [],
   "source": [
    "np.savetxt('outfile1.csv',newarray.T, delimiter=';',fmt=\"%s\",header=headerout)"
   ]
  },
  {
   "cell_type": "code",
   "execution_count": null,
   "id": "b5495ca2",
   "metadata": {},
   "outputs": [],
   "source": []
  },
  {
   "cell_type": "code",
   "execution_count": null,
   "id": "5db2b3b2",
   "metadata": {},
   "outputs": [],
   "source": []
  }
 ],
 "metadata": {
  "kernelspec": {
   "display_name": "Python 3 (ipykernel)",
   "language": "python",
   "name": "python3"
  },
  "language_info": {
   "codemirror_mode": {
    "name": "ipython",
    "version": 3
   },
   "file_extension": ".py",
   "mimetype": "text/x-python",
   "name": "python",
   "nbconvert_exporter": "python",
   "pygments_lexer": "ipython3",
   "version": "3.9.13"
  }
 },
 "nbformat": 4,
 "nbformat_minor": 5
}

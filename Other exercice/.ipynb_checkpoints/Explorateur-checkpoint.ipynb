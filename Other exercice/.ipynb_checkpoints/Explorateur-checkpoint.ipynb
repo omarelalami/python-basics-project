{
 "cells": [
  {
   "cell_type": "markdown",
   "id": "6c1eef24",
   "metadata": {},
   "source": [
    "bolean sclicing"
   ]
  },
  {
   "cell_type": "code",
   "execution_count": 3,
   "id": "ba806cf7",
   "metadata": {},
   "outputs": [],
   "source": [
    "import pandas as pd"
   ]
  },
  {
   "cell_type": "code",
   "execution_count": 4,
   "id": "47a9ac83",
   "metadata": {},
   "outputs": [
    {
     "data": {
      "text/html": [
       "<div>\n",
       "<style scoped>\n",
       "    .dataframe tbody tr th:only-of-type {\n",
       "        vertical-align: middle;\n",
       "    }\n",
       "\n",
       "    .dataframe tbody tr th {\n",
       "        vertical-align: top;\n",
       "    }\n",
       "\n",
       "    .dataframe thead th {\n",
       "        text-align: right;\n",
       "    }\n",
       "</style>\n",
       "<table border=\"1\" class=\"dataframe\">\n",
       "  <thead>\n",
       "    <tr style=\"text-align: right;\">\n",
       "      <th></th>\n",
       "      <th>noeud_amont</th>\n",
       "      <th>noeud_aval</th>\n",
       "      <th>type_aretes</th>\n",
       "      <th>distance</th>\n",
       "      <th>arete_id</th>\n",
       "    </tr>\n",
       "  </thead>\n",
       "  <tbody>\n",
       "    <tr>\n",
       "      <th>0</th>\n",
       "      <td>sommet_15</td>\n",
       "      <td>sommet_95</td>\n",
       "      <td>chemin</td>\n",
       "      <td>16.980936</td>\n",
       "      <td>arete_6</td>\n",
       "    </tr>\n",
       "    <tr>\n",
       "      <th>1</th>\n",
       "      <td>sommet_45</td>\n",
       "      <td>sommet_38</td>\n",
       "      <td>chemin</td>\n",
       "      <td>11.317052</td>\n",
       "      <td>arete_25</td>\n",
       "    </tr>\n",
       "    <tr>\n",
       "      <th>2</th>\n",
       "      <td>sommet_28</td>\n",
       "      <td>sommet_72</td>\n",
       "      <td>arrivee</td>\n",
       "      <td>2.690543</td>\n",
       "      <td>arete_85</td>\n",
       "    </tr>\n",
       "    <tr>\n",
       "      <th>3</th>\n",
       "      <td>sommet_2</td>\n",
       "      <td>sommet_65</td>\n",
       "      <td>chemin</td>\n",
       "      <td>14.328168</td>\n",
       "      <td>arete_7</td>\n",
       "    </tr>\n",
       "    <tr>\n",
       "      <th>4</th>\n",
       "      <td>sommet_98</td>\n",
       "      <td>sommet_18</td>\n",
       "      <td>chemin</td>\n",
       "      <td>13.542829</td>\n",
       "      <td>arete_26</td>\n",
       "    </tr>\n",
       "    <tr>\n",
       "      <th>...</th>\n",
       "      <td>...</td>\n",
       "      <td>...</td>\n",
       "      <td>...</td>\n",
       "      <td>...</td>\n",
       "      <td>...</td>\n",
       "    </tr>\n",
       "    <tr>\n",
       "      <th>85</th>\n",
       "      <td>sommet_21</td>\n",
       "      <td>sommet_29</td>\n",
       "      <td>chemin</td>\n",
       "      <td>5.556694</td>\n",
       "      <td>arete_64</td>\n",
       "    </tr>\n",
       "    <tr>\n",
       "      <th>86</th>\n",
       "      <td>sommet_70</td>\n",
       "      <td>sommet_15</td>\n",
       "      <td>chemin</td>\n",
       "      <td>8.202683</td>\n",
       "      <td>arete_40</td>\n",
       "    </tr>\n",
       "    <tr>\n",
       "      <th>87</th>\n",
       "      <td>sommet_13</td>\n",
       "      <td>sommet_75</td>\n",
       "      <td>chemin</td>\n",
       "      <td>13.359543</td>\n",
       "      <td>arete_19</td>\n",
       "    </tr>\n",
       "    <tr>\n",
       "      <th>88</th>\n",
       "      <td>sommet_0</td>\n",
       "      <td>sommet_4</td>\n",
       "      <td>chemin</td>\n",
       "      <td>19.516010</td>\n",
       "      <td>arete_37</td>\n",
       "    </tr>\n",
       "    <tr>\n",
       "      <th>89</th>\n",
       "      <td>sommet_95</td>\n",
       "      <td>sommet_8</td>\n",
       "      <td>chemin</td>\n",
       "      <td>2.744767</td>\n",
       "      <td>arete_57</td>\n",
       "    </tr>\n",
       "  </tbody>\n",
       "</table>\n",
       "<p>90 rows × 5 columns</p>\n",
       "</div>"
      ],
      "text/plain": [
       "   noeud_amont noeud_aval type_aretes   distance  arete_id\n",
       "0    sommet_15  sommet_95      chemin  16.980936   arete_6\n",
       "1    sommet_45  sommet_38      chemin  11.317052  arete_25\n",
       "2    sommet_28  sommet_72     arrivee   2.690543  arete_85\n",
       "3     sommet_2  sommet_65      chemin  14.328168   arete_7\n",
       "4    sommet_98  sommet_18      chemin  13.542829  arete_26\n",
       "..         ...        ...         ...        ...       ...\n",
       "85   sommet_21  sommet_29      chemin   5.556694  arete_64\n",
       "86   sommet_70  sommet_15      chemin   8.202683  arete_40\n",
       "87   sommet_13  sommet_75      chemin  13.359543  arete_19\n",
       "88    sommet_0   sommet_4      chemin  19.516010  arete_37\n",
       "89   sommet_95   sommet_8      chemin   2.744767  arete_57\n",
       "\n",
       "[90 rows x 5 columns]"
      ]
     },
     "execution_count": 4,
     "metadata": {},
     "output_type": "execute_result"
    }
   ],
   "source": [
    "data=pd.read_csv('parcours_explorateurs.csv')\n",
    "data"
   ]
  },
  {
   "cell_type": "code",
   "execution_count": 28,
   "id": "84a09088",
   "metadata": {},
   "outputs": [
    {
     "data": {
      "text/plain": [
       "['sommet_33',\n",
       " 'sommet_59',\n",
       " 'sommet_91',\n",
       " 'sommet_56',\n",
       " 'sommet_50',\n",
       " 'sommet_14',\n",
       " 'sommet_31',\n",
       " 'sommet_34',\n",
       " 'sommet_36',\n",
       " 'sommet_84']"
      ]
     },
     "execution_count": 28,
     "metadata": {},
     "output_type": "execute_result"
    }
   ],
   "source": [
    "depart=list(data[data['type_aretes']=='depart']['noeud_amont'])\n",
    "depart"
   ]
  },
  {
   "cell_type": "code",
   "execution_count": 27,
   "id": "336dcb39",
   "metadata": {},
   "outputs": [
    {
     "data": {
      "text/html": [
       "<div>\n",
       "<style scoped>\n",
       "    .dataframe tbody tr th:only-of-type {\n",
       "        vertical-align: middle;\n",
       "    }\n",
       "\n",
       "    .dataframe tbody tr th {\n",
       "        vertical-align: top;\n",
       "    }\n",
       "\n",
       "    .dataframe thead th {\n",
       "        text-align: right;\n",
       "    }\n",
       "</style>\n",
       "<table border=\"1\" class=\"dataframe\">\n",
       "  <thead>\n",
       "    <tr style=\"text-align: right;\">\n",
       "      <th></th>\n",
       "      <th>noeud_amont</th>\n",
       "      <th>noeud_aval</th>\n",
       "      <th>type_aretes</th>\n",
       "      <th>distance</th>\n",
       "      <th>arete_id</th>\n",
       "    </tr>\n",
       "  </thead>\n",
       "  <tbody>\n",
       "    <tr>\n",
       "      <th>6</th>\n",
       "      <td>sommet_33</td>\n",
       "      <td>sommet_90</td>\n",
       "      <td>depart</td>\n",
       "      <td>5.918739</td>\n",
       "      <td>arete_58</td>\n",
       "    </tr>\n",
       "    <tr>\n",
       "      <th>23</th>\n",
       "      <td>sommet_59</td>\n",
       "      <td>sommet_49</td>\n",
       "      <td>depart</td>\n",
       "      <td>3.603723</td>\n",
       "      <td>arete_45</td>\n",
       "    </tr>\n",
       "    <tr>\n",
       "      <th>26</th>\n",
       "      <td>sommet_91</td>\n",
       "      <td>sommet_77</td>\n",
       "      <td>depart</td>\n",
       "      <td>9.974770</td>\n",
       "      <td>arete_87</td>\n",
       "    </tr>\n",
       "    <tr>\n",
       "      <th>27</th>\n",
       "      <td>sommet_56</td>\n",
       "      <td>sommet_39</td>\n",
       "      <td>depart</td>\n",
       "      <td>15.667381</td>\n",
       "      <td>arete_34</td>\n",
       "    </tr>\n",
       "    <tr>\n",
       "      <th>28</th>\n",
       "      <td>sommet_50</td>\n",
       "      <td>sommet_96</td>\n",
       "      <td>depart</td>\n",
       "      <td>1.354516</td>\n",
       "      <td>arete_49</td>\n",
       "    </tr>\n",
       "    <tr>\n",
       "      <th>34</th>\n",
       "      <td>sommet_14</td>\n",
       "      <td>sommet_58</td>\n",
       "      <td>depart</td>\n",
       "      <td>9.293978</td>\n",
       "      <td>arete_74</td>\n",
       "    </tr>\n",
       "    <tr>\n",
       "      <th>37</th>\n",
       "      <td>sommet_31</td>\n",
       "      <td>sommet_24</td>\n",
       "      <td>depart</td>\n",
       "      <td>18.017266</td>\n",
       "      <td>arete_2</td>\n",
       "    </tr>\n",
       "    <tr>\n",
       "      <th>41</th>\n",
       "      <td>sommet_34</td>\n",
       "      <td>sommet_17</td>\n",
       "      <td>depart</td>\n",
       "      <td>9.256666</td>\n",
       "      <td>arete_14</td>\n",
       "    </tr>\n",
       "    <tr>\n",
       "      <th>44</th>\n",
       "      <td>sommet_36</td>\n",
       "      <td>sommet_82</td>\n",
       "      <td>depart</td>\n",
       "      <td>17.711005</td>\n",
       "      <td>arete_80</td>\n",
       "    </tr>\n",
       "    <tr>\n",
       "      <th>68</th>\n",
       "      <td>sommet_84</td>\n",
       "      <td>sommet_81</td>\n",
       "      <td>depart</td>\n",
       "      <td>13.568922</td>\n",
       "      <td>arete_5</td>\n",
       "    </tr>\n",
       "  </tbody>\n",
       "</table>\n",
       "</div>"
      ],
      "text/plain": [
       "   noeud_amont noeud_aval type_aretes   distance  arete_id\n",
       "6    sommet_33  sommet_90      depart   5.918739  arete_58\n",
       "23   sommet_59  sommet_49      depart   3.603723  arete_45\n",
       "26   sommet_91  sommet_77      depart   9.974770  arete_87\n",
       "27   sommet_56  sommet_39      depart  15.667381  arete_34\n",
       "28   sommet_50  sommet_96      depart   1.354516  arete_49\n",
       "34   sommet_14  sommet_58      depart   9.293978  arete_74\n",
       "37   sommet_31  sommet_24      depart  18.017266   arete_2\n",
       "41   sommet_34  sommet_17      depart   9.256666  arete_14\n",
       "44   sommet_36  sommet_82      depart  17.711005  arete_80\n",
       "68   sommet_84  sommet_81      depart  13.568922   arete_5"
      ]
     },
     "execution_count": 27,
     "metadata": {},
     "output_type": "execute_result"
    }
   ],
   "source": [
    "data[data['type_aretes']=='depart']"
   ]
  },
  {
   "cell_type": "code",
   "execution_count": 24,
   "id": "44f2c7de",
   "metadata": {},
   "outputs": [
    {
     "data": {
      "text/plain": [
       "['sommet_72',\n",
       " 'sommet_88',\n",
       " 'sommet_6',\n",
       " 'sommet_25',\n",
       " 'sommet_64',\n",
       " 'sommet_9',\n",
       " 'sommet_66',\n",
       " 'sommet_99',\n",
       " 'sommet_19',\n",
       " 'sommet_74']"
      ]
     },
     "execution_count": 24,
     "metadata": {},
     "output_type": "execute_result"
    }
   ],
   "source": [
    "arrive=list(data[data['type_aretes']=='arrivee']['noeud_aval'])\n",
    "arrive"
   ]
  },
  {
   "cell_type": "code",
   "execution_count": 267,
   "id": "8f61b404",
   "metadata": {},
   "outputs": [
    {
     "data": {
      "text/plain": [
       "{'exp1': ['sommet_33'],\n",
       " 'exp2': ['sommet_59'],\n",
       " 'exp3': ['sommet_91'],\n",
       " 'exp4': ['sommet_56'],\n",
       " 'exp5': ['sommet_50'],\n",
       " 'exp6': ['sommet_14'],\n",
       " 'exp7': ['sommet_31'],\n",
       " 'exp8': ['sommet_34'],\n",
       " 'exp9': ['sommet_36'],\n",
       " 'exp10': ['sommet_84']}"
      ]
     },
     "execution_count": 267,
     "metadata": {},
     "output_type": "execute_result"
    }
   ],
   "source": [
    "explorateur={}\n",
    "j=1\n",
    "for i in depart:\n",
    "    explorateur['exp'+str(j)]=[i]\n",
    "    j+=1\n",
    "explorateur               "
   ]
  },
  {
   "cell_type": "code",
   "execution_count": 263,
   "id": "0f101b1e",
   "metadata": {},
   "outputs": [
    {
     "ename": "ValueError",
     "evalue": "('Lengths must match to compare', (90,), (0,))",
     "output_type": "error",
     "traceback": [
      "\u001b[1;31m---------------------------------------------------------------------------\u001b[0m",
      "\u001b[1;31mValueError\u001b[0m                                Traceback (most recent call last)",
      "Cell \u001b[1;32mIn[263], line 5\u001b[0m\n\u001b[0;32m      3\u001b[0m \u001b[38;5;28;01mfor\u001b[39;00m c \u001b[38;5;129;01min\u001b[39;00m depart:\n\u001b[0;32m      4\u001b[0m     result\u001b[38;5;241m=\u001b[39mexplorateur[\u001b[38;5;124m'\u001b[39m\u001b[38;5;124mexp\u001b[39m\u001b[38;5;124m'\u001b[39m\u001b[38;5;241m+\u001b[39m\u001b[38;5;28mstr\u001b[39m(j)][\u001b[38;5;241m-\u001b[39m\u001b[38;5;241m1\u001b[39m]\n\u001b[1;32m----> 5\u001b[0m     resulta \u001b[38;5;241m=\u001b[39m data[data[\u001b[38;5;124m'\u001b[39m\u001b[38;5;124mnoeud_amont\u001b[39m\u001b[38;5;124m'\u001b[39m] \u001b[38;5;241m==\u001b[39m result][\u001b[38;5;124m'\u001b[39m\u001b[38;5;124mnoeud_aval\u001b[39m\u001b[38;5;124m'\u001b[39m]\n\u001b[0;32m      6\u001b[0m     res\u001b[38;5;241m=\u001b[39mresulta\u001b[38;5;241m.\u001b[39mvalues\n\u001b[0;32m      7\u001b[0m     explorateur[\u001b[38;5;124m'\u001b[39m\u001b[38;5;124mexp\u001b[39m\u001b[38;5;124m'\u001b[39m\u001b[38;5;241m+\u001b[39m\u001b[38;5;28mstr\u001b[39m(j)]\u001b[38;5;241m.\u001b[39mappend(res)\n",
      "File \u001b[1;32m~\\anaconda3\\Lib\\site-packages\\pandas\\core\\ops\\common.py:72\u001b[0m, in \u001b[0;36m_unpack_zerodim_and_defer.<locals>.new_method\u001b[1;34m(self, other)\u001b[0m\n\u001b[0;32m     68\u001b[0m             \u001b[38;5;28;01mreturn\u001b[39;00m \u001b[38;5;28mNotImplemented\u001b[39m\n\u001b[0;32m     70\u001b[0m other \u001b[38;5;241m=\u001b[39m item_from_zerodim(other)\n\u001b[1;32m---> 72\u001b[0m \u001b[38;5;28;01mreturn\u001b[39;00m method(\u001b[38;5;28mself\u001b[39m, other)\n",
      "File \u001b[1;32m~\\anaconda3\\Lib\\site-packages\\pandas\\core\\arraylike.py:42\u001b[0m, in \u001b[0;36mOpsMixin.__eq__\u001b[1;34m(self, other)\u001b[0m\n\u001b[0;32m     40\u001b[0m \u001b[38;5;129m@unpack_zerodim_and_defer\u001b[39m(\u001b[38;5;124m\"\u001b[39m\u001b[38;5;124m__eq__\u001b[39m\u001b[38;5;124m\"\u001b[39m)\n\u001b[0;32m     41\u001b[0m \u001b[38;5;28;01mdef\u001b[39;00m \u001b[38;5;21m__eq__\u001b[39m(\u001b[38;5;28mself\u001b[39m, other):\n\u001b[1;32m---> 42\u001b[0m     \u001b[38;5;28;01mreturn\u001b[39;00m \u001b[38;5;28mself\u001b[39m\u001b[38;5;241m.\u001b[39m_cmp_method(other, operator\u001b[38;5;241m.\u001b[39meq)\n",
      "File \u001b[1;32m~\\anaconda3\\Lib\\site-packages\\pandas\\core\\series.py:6243\u001b[0m, in \u001b[0;36mSeries._cmp_method\u001b[1;34m(self, other, op)\u001b[0m\n\u001b[0;32m   6240\u001b[0m rvalues \u001b[38;5;241m=\u001b[39m extract_array(other, extract_numpy\u001b[38;5;241m=\u001b[39m\u001b[38;5;28;01mTrue\u001b[39;00m, extract_range\u001b[38;5;241m=\u001b[39m\u001b[38;5;28;01mTrue\u001b[39;00m)\n\u001b[0;32m   6242\u001b[0m \u001b[38;5;28;01mwith\u001b[39;00m np\u001b[38;5;241m.\u001b[39merrstate(\u001b[38;5;28mall\u001b[39m\u001b[38;5;241m=\u001b[39m\u001b[38;5;124m\"\u001b[39m\u001b[38;5;124mignore\u001b[39m\u001b[38;5;124m\"\u001b[39m):\n\u001b[1;32m-> 6243\u001b[0m     res_values \u001b[38;5;241m=\u001b[39m ops\u001b[38;5;241m.\u001b[39mcomparison_op(lvalues, rvalues, op)\n\u001b[0;32m   6245\u001b[0m \u001b[38;5;28;01mreturn\u001b[39;00m \u001b[38;5;28mself\u001b[39m\u001b[38;5;241m.\u001b[39m_construct_result(res_values, name\u001b[38;5;241m=\u001b[39mres_name)\n",
      "File \u001b[1;32m~\\anaconda3\\Lib\\site-packages\\pandas\\core\\ops\\array_ops.py:264\u001b[0m, in \u001b[0;36mcomparison_op\u001b[1;34m(left, right, op)\u001b[0m\n\u001b[0;32m    259\u001b[0m \u001b[38;5;28;01mif\u001b[39;00m \u001b[38;5;28misinstance\u001b[39m(rvalues, (np\u001b[38;5;241m.\u001b[39mndarray, ABCExtensionArray)):\n\u001b[0;32m    260\u001b[0m     \u001b[38;5;66;03m# TODO: make this treatment consistent across ops and classes.\u001b[39;00m\n\u001b[0;32m    261\u001b[0m     \u001b[38;5;66;03m#  We are not catching all listlikes here (e.g. frozenset, tuple)\u001b[39;00m\n\u001b[0;32m    262\u001b[0m     \u001b[38;5;66;03m#  The ambiguous case is object-dtype.  See GH#27803\u001b[39;00m\n\u001b[0;32m    263\u001b[0m     \u001b[38;5;28;01mif\u001b[39;00m \u001b[38;5;28mlen\u001b[39m(lvalues) \u001b[38;5;241m!=\u001b[39m \u001b[38;5;28mlen\u001b[39m(rvalues):\n\u001b[1;32m--> 264\u001b[0m         \u001b[38;5;28;01mraise\u001b[39;00m \u001b[38;5;167;01mValueError\u001b[39;00m(\n\u001b[0;32m    265\u001b[0m             \u001b[38;5;124m\"\u001b[39m\u001b[38;5;124mLengths must match to compare\u001b[39m\u001b[38;5;124m\"\u001b[39m, lvalues\u001b[38;5;241m.\u001b[39mshape, rvalues\u001b[38;5;241m.\u001b[39mshape\n\u001b[0;32m    266\u001b[0m         )\n\u001b[0;32m    268\u001b[0m \u001b[38;5;28;01mif\u001b[39;00m should_extension_dispatch(lvalues, rvalues) \u001b[38;5;129;01mor\u001b[39;00m (\n\u001b[0;32m    269\u001b[0m     (\u001b[38;5;28misinstance\u001b[39m(rvalues, (Timedelta, BaseOffset, Timestamp)) \u001b[38;5;129;01mor\u001b[39;00m right \u001b[38;5;129;01mis\u001b[39;00m NaT)\n\u001b[0;32m    270\u001b[0m     \u001b[38;5;129;01mand\u001b[39;00m \u001b[38;5;129;01mnot\u001b[39;00m is_object_dtype(lvalues\u001b[38;5;241m.\u001b[39mdtype)\n\u001b[0;32m    271\u001b[0m ):\n\u001b[0;32m    272\u001b[0m     \u001b[38;5;66;03m# Call the method on lvalues\u001b[39;00m\n\u001b[0;32m    273\u001b[0m     res_values \u001b[38;5;241m=\u001b[39m op(lvalues, rvalues)\n",
      "\u001b[1;31mValueError\u001b[0m: ('Lengths must match to compare', (90,), (0,))"
     ]
    }
   ],
   "source": [
    "j=1\n",
    "for i in depart:\n",
    "    for c in depart:\n",
    "        result=explorateur['exp'+str(j)][-1]\n",
    "        resulta = data[data['noeud_amont'] == result]['noeud_aval']\n",
    "        res=resulta.values\n",
    "        explorateur['exp'+str(j)].append(res)\n",
    "    j+=1\n",
    "        "
   ]
  },
  {
   "cell_type": "code",
   "execution_count": 268,
   "id": "7b38fb91",
   "metadata": {},
   "outputs": [
    {
     "data": {
      "text/plain": [
       "{'exp1': ['sommet_33'],\n",
       " 'exp2': ['sommet_59'],\n",
       " 'exp3': ['sommet_91'],\n",
       " 'exp4': ['sommet_56'],\n",
       " 'exp5': ['sommet_50'],\n",
       " 'exp6': ['sommet_14'],\n",
       " 'exp7': ['sommet_31'],\n",
       " 'exp8': ['sommet_34'],\n",
       " 'exp9': ['sommet_36'],\n",
       " 'exp10': ['sommet_84']}"
      ]
     },
     "execution_count": 268,
     "metadata": {},
     "output_type": "execute_result"
    }
   ],
   "source": [
    "explorateur"
   ]
  },
  {
   "cell_type": "code",
   "execution_count": 269,
   "id": "8701df41",
   "metadata": {},
   "outputs": [
    {
     "data": {
      "text/html": [
       "<div>\n",
       "<style scoped>\n",
       "    .dataframe tbody tr th:only-of-type {\n",
       "        vertical-align: middle;\n",
       "    }\n",
       "\n",
       "    .dataframe tbody tr th {\n",
       "        vertical-align: top;\n",
       "    }\n",
       "\n",
       "    .dataframe thead th {\n",
       "        text-align: right;\n",
       "    }\n",
       "</style>\n",
       "<table border=\"1\" class=\"dataframe\">\n",
       "  <thead>\n",
       "    <tr style=\"text-align: right;\">\n",
       "      <th></th>\n",
       "      <th>noeud_amont</th>\n",
       "      <th>noeud_aval</th>\n",
       "      <th>type_aretes</th>\n",
       "      <th>distance</th>\n",
       "      <th>arete_id</th>\n",
       "    </tr>\n",
       "  </thead>\n",
       "  <tbody>\n",
       "    <tr>\n",
       "      <th>0</th>\n",
       "      <td>sommet_15</td>\n",
       "      <td>sommet_95</td>\n",
       "      <td>chemin</td>\n",
       "      <td>16.980936</td>\n",
       "      <td>arete_6</td>\n",
       "    </tr>\n",
       "  </tbody>\n",
       "</table>\n",
       "</div>"
      ],
      "text/plain": [
       "  noeud_amont noeud_aval type_aretes   distance arete_id\n",
       "0   sommet_15  sommet_95      chemin  16.980936  arete_6"
      ]
     },
     "execution_count": 269,
     "metadata": {},
     "output_type": "execute_result"
    }
   ],
   "source": [
    "result = data[data['noeud_amont'] == 'sommet_15']\n",
    "result"
   ]
  },
  {
   "cell_type": "code",
   "execution_count": 270,
   "id": "cee2c111",
   "metadata": {},
   "outputs": [],
   "source": [
    "result = data[data['noeud_amont'] == explorateur['exp'+str(1)][-1]]"
   ]
  },
  {
   "cell_type": "code",
   "execution_count": 271,
   "id": "294d68f0",
   "metadata": {},
   "outputs": [],
   "source": [
    "result=explorateur['exp'+str(1)][-1]\n"
   ]
  },
  {
   "cell_type": "code",
   "execution_count": 272,
   "id": "1c2fb4f2",
   "metadata": {},
   "outputs": [
    {
     "data": {
      "text/plain": [
       "{'exp1': ['sommet_33'],\n",
       " 'exp2': ['sommet_59'],\n",
       " 'exp3': ['sommet_91'],\n",
       " 'exp4': ['sommet_56'],\n",
       " 'exp5': ['sommet_50'],\n",
       " 'exp6': ['sommet_14'],\n",
       " 'exp7': ['sommet_31'],\n",
       " 'exp8': ['sommet_34'],\n",
       " 'exp9': ['sommet_36'],\n",
       " 'exp10': ['sommet_84']}"
      ]
     },
     "execution_count": 272,
     "metadata": {},
     "output_type": "execute_result"
    }
   ],
   "source": [
    "explorateur"
   ]
  },
  {
   "cell_type": "raw",
   "id": "81924fb9",
   "metadata": {},
   "source": [
    "resulta = data[data['noeud_amont'] == result]['noeud_aval']\n"
   ]
  }
 ],
 "metadata": {
  "kernelspec": {
   "display_name": "Python 3 (ipykernel)",
   "language": "python",
   "name": "python3"
  },
  "language_info": {
   "codemirror_mode": {
    "name": "ipython",
    "version": 3
   },
   "file_extension": ".py",
   "mimetype": "text/x-python",
   "name": "python",
   "nbconvert_exporter": "python",
   "pygments_lexer": "ipython3",
   "version": "3.11.4"
  }
 },
 "nbformat": 4,
 "nbformat_minor": 5
}

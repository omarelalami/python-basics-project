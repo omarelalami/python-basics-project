{
 "cells": [
  {
   "cell_type": "markdown",
   "id": "6c1eef24",
   "metadata": {},
   "source": [
    "bolean sclicing"
   ]
  },
  {
   "cell_type": "code",
   "execution_count": 3,
   "id": "ba806cf7",
   "metadata": {},
   "outputs": [],
   "source": [
    "import pandas as pd"
   ]
  },
  {
   "cell_type": "code",
   "execution_count": 660,
   "id": "47a9ac83",
   "metadata": {},
   "outputs": [
    {
     "data": {
      "text/html": [
       "<div>\n",
       "<style scoped>\n",
       "    .dataframe tbody tr th:only-of-type {\n",
       "        vertical-align: middle;\n",
       "    }\n",
       "\n",
       "    .dataframe tbody tr th {\n",
       "        vertical-align: top;\n",
       "    }\n",
       "\n",
       "    .dataframe thead th {\n",
       "        text-align: right;\n",
       "    }\n",
       "</style>\n",
       "<table border=\"1\" class=\"dataframe\">\n",
       "  <thead>\n",
       "    <tr style=\"text-align: right;\">\n",
       "      <th></th>\n",
       "      <th>noeud_amont</th>\n",
       "      <th>noeud_aval</th>\n",
       "      <th>type_aretes</th>\n",
       "      <th>distance</th>\n",
       "      <th>arete_id</th>\n",
       "    </tr>\n",
       "  </thead>\n",
       "  <tbody>\n",
       "    <tr>\n",
       "      <th>0</th>\n",
       "      <td>sommet_15</td>\n",
       "      <td>sommet_95</td>\n",
       "      <td>chemin</td>\n",
       "      <td>16.980936</td>\n",
       "      <td>arete_6</td>\n",
       "    </tr>\n",
       "    <tr>\n",
       "      <th>1</th>\n",
       "      <td>sommet_45</td>\n",
       "      <td>sommet_38</td>\n",
       "      <td>chemin</td>\n",
       "      <td>11.317052</td>\n",
       "      <td>arete_25</td>\n",
       "    </tr>\n",
       "    <tr>\n",
       "      <th>2</th>\n",
       "      <td>sommet_28</td>\n",
       "      <td>sommet_72</td>\n",
       "      <td>arrivee</td>\n",
       "      <td>2.690543</td>\n",
       "      <td>arete_85</td>\n",
       "    </tr>\n",
       "    <tr>\n",
       "      <th>3</th>\n",
       "      <td>sommet_2</td>\n",
       "      <td>sommet_65</td>\n",
       "      <td>chemin</td>\n",
       "      <td>14.328168</td>\n",
       "      <td>arete_7</td>\n",
       "    </tr>\n",
       "    <tr>\n",
       "      <th>4</th>\n",
       "      <td>sommet_98</td>\n",
       "      <td>sommet_18</td>\n",
       "      <td>chemin</td>\n",
       "      <td>13.542829</td>\n",
       "      <td>arete_26</td>\n",
       "    </tr>\n",
       "    <tr>\n",
       "      <th>...</th>\n",
       "      <td>...</td>\n",
       "      <td>...</td>\n",
       "      <td>...</td>\n",
       "      <td>...</td>\n",
       "      <td>...</td>\n",
       "    </tr>\n",
       "    <tr>\n",
       "      <th>85</th>\n",
       "      <td>sommet_21</td>\n",
       "      <td>sommet_29</td>\n",
       "      <td>chemin</td>\n",
       "      <td>5.556694</td>\n",
       "      <td>arete_64</td>\n",
       "    </tr>\n",
       "    <tr>\n",
       "      <th>86</th>\n",
       "      <td>sommet_70</td>\n",
       "      <td>sommet_15</td>\n",
       "      <td>chemin</td>\n",
       "      <td>8.202683</td>\n",
       "      <td>arete_40</td>\n",
       "    </tr>\n",
       "    <tr>\n",
       "      <th>87</th>\n",
       "      <td>sommet_13</td>\n",
       "      <td>sommet_75</td>\n",
       "      <td>chemin</td>\n",
       "      <td>13.359543</td>\n",
       "      <td>arete_19</td>\n",
       "    </tr>\n",
       "    <tr>\n",
       "      <th>88</th>\n",
       "      <td>sommet_0</td>\n",
       "      <td>sommet_4</td>\n",
       "      <td>chemin</td>\n",
       "      <td>19.516010</td>\n",
       "      <td>arete_37</td>\n",
       "    </tr>\n",
       "    <tr>\n",
       "      <th>89</th>\n",
       "      <td>sommet_95</td>\n",
       "      <td>sommet_8</td>\n",
       "      <td>chemin</td>\n",
       "      <td>2.744767</td>\n",
       "      <td>arete_57</td>\n",
       "    </tr>\n",
       "  </tbody>\n",
       "</table>\n",
       "<p>90 rows × 5 columns</p>\n",
       "</div>"
      ],
      "text/plain": [
       "   noeud_amont noeud_aval type_aretes   distance  arete_id\n",
       "0    sommet_15  sommet_95      chemin  16.980936   arete_6\n",
       "1    sommet_45  sommet_38      chemin  11.317052  arete_25\n",
       "2    sommet_28  sommet_72     arrivee   2.690543  arete_85\n",
       "3     sommet_2  sommet_65      chemin  14.328168   arete_7\n",
       "4    sommet_98  sommet_18      chemin  13.542829  arete_26\n",
       "..         ...        ...         ...        ...       ...\n",
       "85   sommet_21  sommet_29      chemin   5.556694  arete_64\n",
       "86   sommet_70  sommet_15      chemin   8.202683  arete_40\n",
       "87   sommet_13  sommet_75      chemin  13.359543  arete_19\n",
       "88    sommet_0   sommet_4      chemin  19.516010  arete_37\n",
       "89   sommet_95   sommet_8      chemin   2.744767  arete_57\n",
       "\n",
       "[90 rows x 5 columns]"
      ]
     },
     "execution_count": 660,
     "metadata": {},
     "output_type": "execute_result"
    }
   ],
   "source": [
    "data=pd.read_csv('parcours_explorateurs.csv')\n",
    "data"
   ]
  },
  {
   "cell_type": "code",
   "execution_count": 694,
   "id": "84a09088",
   "metadata": {},
   "outputs": [],
   "source": [
    "depart=list(data[data['type_aretes']=='depart']['noeud_amont'])"
   ]
  },
  {
   "cell_type": "code",
   "execution_count": 702,
   "id": "8f61b404",
   "metadata": {},
   "outputs": [
    {
     "data": {
      "text/plain": [
       "{'exp1': [],\n",
       " 'exp2': [],\n",
       " 'exp3': [],\n",
       " 'exp4': [],\n",
       " 'exp5': [],\n",
       " 'exp6': [],\n",
       " 'exp7': [],\n",
       " 'exp8': [],\n",
       " 'exp9': [],\n",
       " 'exp10': []}"
      ]
     },
     "execution_count": 702,
     "metadata": {},
     "output_type": "execute_result"
    }
   ],
   "source": [
    "explorateur = {'exp' + str(i + 1): [value] for i, value in enumerate(depart)}\n",
    "distance = {'exp' + str(i + 1): [] for i, value in enumerate(depart)}\n",
    "distance"
   ]
  },
  {
   "cell_type": "code",
   "execution_count": 704,
   "id": "d6b46e6c",
   "metadata": {},
   "outputs": [],
   "source": [
    "for i in range(len(depart) - 1):\n",
    "    for j in range(10):\n",
    "        result = explorateur['exp' + str(j + 1)][-1]\n",
    "        \n",
    "        resulta_values = data.loc[data['noeud_amont'] == str(result), 'noeud_aval'].tolist()\n",
    "        resulta_distance = data.loc[data['noeud_amont'] == str(result), 'distance'].tolist()\n",
    "        \n",
    "        distance['exp' + str(j + 1)].extend(resulta_distance)\n",
    "        explorateur['exp' + str(j + 1)].extend(resulta_values)\n"
   ]
  },
  {
   "cell_type": "code",
   "execution_count": 705,
   "id": "9aafe8d7",
   "metadata": {},
   "outputs": [],
   "source": [
    "dis=[]\n",
    "for key in distance.keys():\n",
    "    distance[key]=sum(distance[key])"
   ]
  },
  {
   "cell_type": "code",
   "execution_count": 713,
   "id": "999ae139",
   "metadata": {},
   "outputs": [
    {
     "data": {
      "text/plain": [
       "{'exp1': 75.62130979483581,\n",
       " 'exp2': 109.65932954530045,\n",
       " 'exp3': 105.19195916462449,\n",
       " 'exp4': 95.57865019271557,\n",
       " 'exp5': 95.12139273293155,\n",
       " 'exp6': 68.59583779316146,\n",
       " 'exp7': 104.5455160292075,\n",
       " 'exp8': 115.88698715673728,\n",
       " 'exp9': 90.9479319754383,\n",
       " 'exp10': 104.32791446132912}"
      ]
     },
     "execution_count": 713,
     "metadata": {},
     "output_type": "execute_result"
    }
   ],
   "source": [
    "distance"
   ]
  },
  {
   "cell_type": "code",
   "execution_count": null,
   "id": "e7ce95d6",
   "metadata": {},
   "outputs": [],
   "source": []
  }
 ],
 "metadata": {
  "kernelspec": {
   "display_name": "Python 3 (ipykernel)",
   "language": "python",
   "name": "python3"
  },
  "language_info": {
   "codemirror_mode": {
    "name": "ipython",
    "version": 3
   },
   "file_extension": ".py",
   "mimetype": "text/x-python",
   "name": "python",
   "nbconvert_exporter": "python",
   "pygments_lexer": "ipython3",
   "version": "3.11.4"
  }
 },
 "nbformat": 4,
 "nbformat_minor": 5
}

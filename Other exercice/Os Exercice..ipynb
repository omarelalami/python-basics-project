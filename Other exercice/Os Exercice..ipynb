{
 "cells": [
  {
   "cell_type": "markdown",
   "id": "0ac55d65",
   "metadata": {},
   "source": [
    "<div class=\"alert alert-block alert-info\">\n",
    "<b>Exercice 3</b>\n",
    "</div>"
   ]
  },
  {
   "cell_type": "code",
   "execution_count": 7,
   "id": "25107362",
   "metadata": {},
   "outputs": [
    {
     "ename": "FileNotFoundError",
     "evalue": "[Errno 2] No such file or directory: 'emails_file.txt'",
     "output_type": "error",
     "traceback": [
      "\u001b[1;31m---------------------------------------------------------------------------\u001b[0m",
      "\u001b[1;31mFileNotFoundError\u001b[0m                         Traceback (most recent call last)",
      "\u001b[1;32m~\\AppData\\Local\\Temp\\ipykernel_155236\\1342167766.py\u001b[0m in \u001b[0;36m<module>\u001b[1;34m\u001b[0m\n\u001b[0;32m      3\u001b[0m \u001b[0mlisteclean\u001b[0m\u001b[1;33m=\u001b[0m\u001b[1;33m[\u001b[0m\u001b[1;33m]\u001b[0m\u001b[1;33m\u001b[0m\u001b[1;33m\u001b[0m\u001b[0m\n\u001b[0;32m      4\u001b[0m \u001b[0mc\u001b[0m\u001b[1;33m=\u001b[0m\u001b[1;36m0\u001b[0m\u001b[1;33m\u001b[0m\u001b[1;33m\u001b[0m\u001b[0m\n\u001b[1;32m----> 5\u001b[1;33m \u001b[1;32mwith\u001b[0m \u001b[0mopen\u001b[0m\u001b[1;33m(\u001b[0m\u001b[1;34m\"emails_file.txt\"\u001b[0m\u001b[1;33m,\u001b[0m\u001b[1;34m\"r\"\u001b[0m\u001b[1;33m)\u001b[0m \u001b[1;32mas\u001b[0m \u001b[0mf\u001b[0m\u001b[1;33m:\u001b[0m\u001b[1;33m\u001b[0m\u001b[1;33m\u001b[0m\u001b[0m\n\u001b[0m\u001b[0;32m      6\u001b[0m     \u001b[1;32mfor\u001b[0m \u001b[0mline\u001b[0m \u001b[1;32min\u001b[0m \u001b[0mf\u001b[0m\u001b[1;33m:\u001b[0m\u001b[1;33m\u001b[0m\u001b[1;33m\u001b[0m\u001b[0m\n\u001b[0;32m      7\u001b[0m       \u001b[0mdata\u001b[0m \u001b[1;33m=\u001b[0m \u001b[0mline\u001b[0m\u001b[1;33m.\u001b[0m\u001b[0msplit\u001b[0m\u001b[1;33m(\u001b[0m\u001b[1;33m)\u001b[0m\u001b[1;33m\u001b[0m\u001b[1;33m\u001b[0m\u001b[0m\n",
      "\u001b[1;31mFileNotFoundError\u001b[0m: [Errno 2] No such file or directory: 'emails_file.txt'"
     ]
    }
   ],
   "source": [
    "import os\n",
    "import pathlib\n",
    "listeclean=[]\n",
    "c=0\n",
    "with open(\"emails_file.txt\",\"r\") as f:\n",
    "    for line in f:\n",
    "      data = line.split()\n",
    "      for i in data:\n",
    "          if \"usms.ac.ma\" in i:\n",
    "            listeclean.append(i)\n",
    "            if not i[0].isalpha() :\n",
    "                 i = i[1:len(i)]\n",
    "                 listeclean[c] = i\n",
    "            if not i[len(i) - 1].isalpha() :\n",
    "                 listeclean[c] =i = i[0:len(i) - 1]\n",
    "            c = c + 1\n",
    "etablissment=[\"ensa\",\"est\",\"encg\",\"fst\",\"fpbm\"]\n",
    "pathlib.Path(os.path.join(os.getcwd(),\"etablissemt\")).mkdir(exist_ok=True)\n",
    "\n",
    "for i in etablissment:\n",
    "    pathlib.Path(os.path.join(os.getcwd(),\"etablissemt\",i)).mkdir(exist_ok=True)\n",
    "    with open(os.path.join(os.getcwd(),\"etablissemt\",i,i+\".txt\"),\"w\") as myfile:\n",
    "        for j in listeclean:\n",
    "            if i in j:\n",
    "                myfile.write(j+\"\\n\")\n"
   ]
  }
 ],
 "metadata": {
  "kernelspec": {
   "display_name": "Python 3 (ipykernel)",
   "language": "python",
   "name": "python3"
  },
  "language_info": {
   "codemirror_mode": {
    "name": "ipython",
    "version": 3
   },
   "file_extension": ".py",
   "mimetype": "text/x-python",
   "name": "python",
   "nbconvert_exporter": "python",
   "pygments_lexer": "ipython3",
   "version": "3.9.13"
  }
 },
 "nbformat": 4,
 "nbformat_minor": 5
}

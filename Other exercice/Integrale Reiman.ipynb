{
 "cells": [
  {
   "cell_type": "code",
   "execution_count": 5,
   "id": "330b9dd2",
   "metadata": {},
   "outputs": [],
   "source": [
    "import numpy as np"
   ]
  },
  {
   "cell_type": "code",
   "execution_count": 14,
   "id": "50577ebb",
   "metadata": {},
   "outputs": [],
   "source": [
    "def f(x):\n",
    "    return (x**2)-8*np.log(x)"
   ]
  },
  {
   "cell_type": "code",
   "execution_count": 37,
   "id": "d9517925",
   "metadata": {},
   "outputs": [],
   "source": [
    "def riemman(a,b,f,n):\n",
    "    \n",
    "    dx = (b-a)/n\n",
    "    res = 0\n",
    "    \n",
    "    for i in range(1,n+1):\n",
    "        res +=dx*f(a +i*dx)   \n",
    "        \n",
    "    return res\n",
    "        \n",
    "    \n",
    "    "
   ]
  },
  {
   "cell_type": "code",
   "execution_count": 38,
   "id": "ee20d3f7",
   "metadata": {},
   "outputs": [
    {
     "data": {
      "text/plain": [
       "-1.7015936135476888"
      ]
     },
     "execution_count": 38,
     "metadata": {},
     "output_type": "execute_result"
    }
   ],
   "source": [
    "riemman(1,3,f,500)"
   ]
  },
  {
   "cell_type": "code",
   "execution_count": null,
   "id": "a1608678",
   "metadata": {},
   "outputs": [],
   "source": [
    "kw"
   ]
  }
 ],
 "metadata": {
  "kernelspec": {
   "display_name": "Python 3 (ipykernel)",
   "language": "python",
   "name": "python3"
  },
  "language_info": {
   "codemirror_mode": {
    "name": "ipython",
    "version": 3
   },
   "file_extension": ".py",
   "mimetype": "text/x-python",
   "name": "python",
   "nbconvert_exporter": "python",
   "pygments_lexer": "ipython3",
   "version": "3.11.4"
  }
 },
 "nbformat": 4,
 "nbformat_minor": 5
}

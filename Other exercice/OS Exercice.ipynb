{
 "cells": [
  {
   "cell_type": "markdown",
   "id": "cf3c7c27",
   "metadata": {},
   "source": [
    "<div class=\"alert alert-block alert-info\">\n",
    "<b>Exercice 2</b>\n",
    "</div>"
   ]
  },
  {
   "cell_type": "code",
   "execution_count": 21,
   "id": "5036af19",
   "metadata": {},
   "outputs": [],
   "source": [
    "import os\n",
    "import pathlib\n",
    "from genericpath import isfile\n",
    "a=[]\n",
    "\n",
    "a=list(os.listdir(os.getcwd()))\n",
    "\n",
    "\n",
    "for x in a:\n",
    "\n",
    "    if isfile(x):\n",
    "        print(x)\n",
    "        h=os.path.splitext(x)\n",
    "        if h[1]==\".mp3\" or h[1]==\".wav\" or  h[1]==\".flac\":\n",
    "            if os.path.exists(os.path.join(os.getcwd(),\"Audio\")):\n",
    "                os.replace(x,os.path.join(os.getcwd(),\"Audio\",x))\n",
    "            else:\n",
    "                os.mkdir(os.path.join(os.getcwd(),\"Audio\"))\n",
    "                os.replace(x, os.path.join(os.getcwd(),\"Audio\",x))\n",
    "\n",
    "        elif h[1] == \".avi\" or h[1]==\".mp4\" or h[1]==\".gif\" or h[1]==\".flv\":\n",
    "            if os.path.exists(os.path.join(os.getcwd(),\"Video\")):\n",
    "                os.replace(x,os.path.join(os.getcwd(),\"Video\",x))\n",
    "            else:\n",
    "                os.mkdir(os.path.join(os.getcwd(),\"Video\"))\n",
    "                os.replace(x, os.path.join(os.getcwd(),\"Video\",x))\n",
    "        elif h[1] == \".bmp\" or h[1]==\".png\" or h[1]==\".jpg\" :\n",
    "            if os.path.exists(os.path.join(os.getcwd(),\"Images\")):\n",
    "                os.replace(x, os.path.join(os.getcwd(),\"Images\",x))\n",
    "            else:\n",
    "                os.mkdir(os.path.join(os.getcwd(), \"Images\"))\n",
    "                os.replace(x, os.path.join(os.getcwd(), \"Images\", x))\n",
    "        elif h[1] == \".txt\" or h[1]==\".ppt\" or h[1]==\".pptx\" or h[1]==\".csv\" or h[1]==\".xlsx\" or h[1]==\".xls\" or h[1]==\".doc\" or h[1]==\".docx\" or h[1]==\".odp\" or h[1]==\".pdf\"   :\n",
    "            if os.path.exists(os.path.join(os.getcwd(),\"Documents\")):\n",
    "                os.replace(x, os.path.join(os.getcwd(),\"Documents\",x))\n",
    "            else:\n",
    "                os.mkdir(os.path.join(os.getcwd(), \"Documents\"))\n",
    "                os.replace(x, os.path.join(os.getcwd(), \"Documents\", x))\n",
    "        else:\n",
    "            if os.path.exists(os.path.join(os.getcwd(),\"Divers\")):\n",
    "                os.replace(x, os.path.join(os.getcwd(),\"Divers\",x))\n",
    "            else:\n",
    "                os.mkdir(os.path.join(os.getcwd(), \"Divers\"))\n",
    "                os.replace(x, os.path.join(os.getcwd(), \"Divers\", x))\n",
    "\n",
    "\n"
   ]
  }
 ],
 "metadata": {
  "kernelspec": {
   "display_name": "Python 3 (ipykernel)",
   "language": "python",
   "name": "python3"
  },
  "language_info": {
   "codemirror_mode": {
    "name": "ipython",
    "version": 3
   },
   "file_extension": ".py",
   "mimetype": "text/x-python",
   "name": "python",
   "nbconvert_exporter": "python",
   "pygments_lexer": "ipython3",
   "version": "3.9.13"
  }
 },
 "nbformat": 4,
 "nbformat_minor": 5
}

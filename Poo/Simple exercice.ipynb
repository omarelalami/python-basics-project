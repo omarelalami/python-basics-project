{
 "cells": [
  {
   "cell_type": "markdown",
   "id": "ff98b2dd",
   "metadata": {},
   "source": [
    "<div class=\"alert alert-block alert-info\">\n",
    "<b>Définition de la classe</b>\n",
    "</div>"
   ]
  },
  {
   "cell_type": "code",
   "execution_count": 7,
   "id": "2a5f10a1",
   "metadata": {},
   "outputs": [],
   "source": [
    "class consumer:\n",
    "    compteur = 0\n",
    "#      matricule=0\n",
    "    # matriculego=0\n",
    "    # fidelite=\"\"\n",
    "    def __init__(self,nom,nbrCommandes,NombreTotal,listcommand):\n",
    "        consumer.compteur += 1\n",
    "        self.matricule=consumer.compteur\n",
    "        self.nom=nom\n",
    "        self.nbrCommandes=nbrCommandes\n",
    "        self.NombreTotal=NombreTotal\n",
    "        self.listcommand=listcommand\n",
    "        \n",
    "\n",
    "\n",
    "class achteur_en_ligne(consumer):\n",
    "    def __init__(self,Nbrsession,modePayement,AdressLaivrson,nom,nbrCommandes,NombreTotal,listcommand):\n",
    "        consumer.__init__(self,nom,nbrCommandes,NombreTotal,listcommand)\n",
    "        self.Nbrsession=Nbrsession\n",
    "        self.modePayement=modePayement\n",
    "        self.AdressLaivrson=AdressLaivrson\n",
    "\n",
    "    def calculetauxabandonpanier(self):\n",
    "            return ((self.Nbrsession-self.nbrCommandes)/self.Nbrsession)*100\n",
    "    def affichage(self):\n",
    "        def __str__(self):\n",
    "            return str(self.Nbrsession)+str(self.modePayement)+str(self.AdressLaivrson)+str(self.nom)+str(self.matriculego)+str(self.fidelite)+str(self.nbrCommandes)+str(self.listcommand)\n",
    "\n",
    "\n",
    "\n",
    "\n",
    "\n",
    "\n",
    "\n"
   ]
  },
  {
   "cell_type": "markdown",
   "id": "4f6c4ee0",
   "metadata": {},
   "source": [
    "<div class=\"alert alert-block alert-info\">\n",
    "    \n",
    "<b>1-Calculer et afficher pour chasue client le taux d'abandon de panier</b>\n",
    "</div>"
   ]
  },
  {
   "cell_type": "code",
   "execution_count": 10,
   "id": "9824b96b",
   "metadata": {},
   "outputs": [
    {
     "name": "stdout",
     "output_type": "stream",
     "text": [
      "60.0\n",
      "5\n",
      "37.5\n",
      "6\n",
      "54.54545454545455\n",
      "7\n",
      "59.61538461538461\n",
      "8\n"
     ]
    }
   ],
   "source": [
    "a=consumer(\"\",3,5,\"\")\n",
    "b=consumer(\"\",3,8,\"\")\n",
    "c=consumer(\"\",12,22,\"\")\n",
    "d=consumer(\"\",31,52,\"\")\n",
    "obj=[a,b,c,d]\n",
    "\n",
    "for taux in obj:\n",
    "    print(taux.nbrCommandes*100/taux.NombreTotal)\n"
   ]
  },
  {
   "cell_type": "markdown",
   "id": "ae2f829e",
   "metadata": {},
   "source": [
    "<div class=\"alert alert-block alert-info\">\n",
    "<b>Q1 et Q2</b>\n",
    "</div>"
   ]
  },
  {
   "cell_type": "code",
   "execution_count": 9,
   "id": "1afafeeb",
   "metadata": {},
   "outputs": [
    {
     "name": "stdout",
     "output_type": "stream",
     "text": [
      "0.6 TO CONTACT\n",
      "0.375 LOYAL\n",
      "0.5454545454545454 TO CONTACT\n",
      "0.5961538461538461 TO CONTACT\n"
     ]
    }
   ],
   "source": [
    "for client in obj:\n",
    "    client.fidelite=''\n",
    "    if (client.nbrCommandes/client.NombreTotal)>= 0.5:\n",
    "        client.fidelite=\"TO CONTACT\"\n",
    "        \n",
    "    elif (client.nbrCommandes/client.NombreTotal)<0.5:\n",
    "        client.fidelite=\"LOYAL\"\n",
    "    print(client.nbrCommandes/client.NombreTotal , client.fidelite)"
   ]
  }
 ],
 "metadata": {
  "kernelspec": {
   "display_name": "Python 3 (ipykernel)",
   "language": "python",
   "name": "python3"
  },
  "language_info": {
   "codemirror_mode": {
    "name": "ipython",
    "version": 3
   },
   "file_extension": ".py",
   "mimetype": "text/x-python",
   "name": "python",
   "nbconvert_exporter": "python",
   "pygments_lexer": "ipython3",
   "version": "3.9.13"
  }
 },
 "nbformat": 4,
 "nbformat_minor": 5
}

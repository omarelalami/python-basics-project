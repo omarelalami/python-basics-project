{
 "cells": [
  {
   "cell_type": "code",
   "execution_count": 1,
   "id": "61b781f7",
   "metadata": {},
   "outputs": [],
   "source": [
    "import pandas as pd"
   ]
  },
  {
   "cell_type": "code",
   "execution_count": 2,
   "id": "6a61bbe8",
   "metadata": {},
   "outputs": [],
   "source": [
    "df=pd.read_csv('reseau_en_arbre.csv')"
   ]
  },
  {
   "cell_type": "code",
   "execution_count": 3,
   "id": "3d42c9a3",
   "metadata": {},
   "outputs": [
    {
     "data": {
      "text/html": [
       "<div>\n",
       "<style scoped>\n",
       "    .dataframe tbody tr th:only-of-type {\n",
       "        vertical-align: middle;\n",
       "    }\n",
       "\n",
       "    .dataframe tbody tr th {\n",
       "        vertical-align: top;\n",
       "    }\n",
       "\n",
       "    .dataframe thead th {\n",
       "        text-align: right;\n",
       "    }\n",
       "</style>\n",
       "<table border=\"1\" class=\"dataframe\">\n",
       "  <thead>\n",
       "    <tr style=\"text-align: right;\">\n",
       "      <th></th>\n",
       "      <th>id_batiment</th>\n",
       "      <th>nb_maisons</th>\n",
       "      <th>infra_id</th>\n",
       "      <th>infra_type</th>\n",
       "      <th>longueur</th>\n",
       "    </tr>\n",
       "  </thead>\n",
       "  <tbody>\n",
       "    <tr>\n",
       "      <th>0</th>\n",
       "      <td>E000001</td>\n",
       "      <td>4</td>\n",
       "      <td>P007111</td>\n",
       "      <td>fourreau_existant</td>\n",
       "      <td>12.314461</td>\n",
       "    </tr>\n",
       "    <tr>\n",
       "      <th>1</th>\n",
       "      <td>E000001</td>\n",
       "      <td>4</td>\n",
       "      <td>P007983</td>\n",
       "      <td>fourreau_existant</td>\n",
       "      <td>40.320929</td>\n",
       "    </tr>\n",
       "    <tr>\n",
       "      <th>2</th>\n",
       "      <td>E000001</td>\n",
       "      <td>4</td>\n",
       "      <td>P000308</td>\n",
       "      <td>fourreau_existant</td>\n",
       "      <td>39.140799</td>\n",
       "    </tr>\n",
       "    <tr>\n",
       "      <th>3</th>\n",
       "      <td>E000001</td>\n",
       "      <td>4</td>\n",
       "      <td>P007819</td>\n",
       "      <td>fourreau_existant</td>\n",
       "      <td>17.390464</td>\n",
       "    </tr>\n",
       "    <tr>\n",
       "      <th>4</th>\n",
       "      <td>E000002</td>\n",
       "      <td>1</td>\n",
       "      <td>P007111</td>\n",
       "      <td>fourreau_existant</td>\n",
       "      <td>12.314461</td>\n",
       "    </tr>\n",
       "    <tr>\n",
       "      <th>...</th>\n",
       "      <td>...</td>\n",
       "      <td>...</td>\n",
       "      <td>...</td>\n",
       "      <td>...</td>\n",
       "      <td>...</td>\n",
       "    </tr>\n",
       "    <tr>\n",
       "      <th>6102</th>\n",
       "      <td>E000381</td>\n",
       "      <td>1</td>\n",
       "      <td>P008032</td>\n",
       "      <td>fourreau_non_existant</td>\n",
       "      <td>10.520975</td>\n",
       "    </tr>\n",
       "    <tr>\n",
       "      <th>6103</th>\n",
       "      <td>E000381</td>\n",
       "      <td>1</td>\n",
       "      <td>P008035</td>\n",
       "      <td>fourreau_non_existant</td>\n",
       "      <td>11.719759</td>\n",
       "    </tr>\n",
       "    <tr>\n",
       "      <th>6104</th>\n",
       "      <td>E000381</td>\n",
       "      <td>1</td>\n",
       "      <td>P004234</td>\n",
       "      <td>fourreau_non_existant</td>\n",
       "      <td>13.484903</td>\n",
       "    </tr>\n",
       "    <tr>\n",
       "      <th>6105</th>\n",
       "      <td>E000381</td>\n",
       "      <td>1</td>\n",
       "      <td>P008036</td>\n",
       "      <td>fourreau_non_existant</td>\n",
       "      <td>7.441760</td>\n",
       "    </tr>\n",
       "    <tr>\n",
       "      <th>6106</th>\n",
       "      <td>E000381</td>\n",
       "      <td>1</td>\n",
       "      <td>P007459</td>\n",
       "      <td>fourreau_non_existant</td>\n",
       "      <td>9.865358</td>\n",
       "    </tr>\n",
       "  </tbody>\n",
       "</table>\n",
       "<p>6107 rows × 5 columns</p>\n",
       "</div>"
      ],
      "text/plain": [
       "     id_batiment  nb_maisons infra_id             infra_type   longueur\n",
       "0        E000001           4  P007111      fourreau_existant  12.314461\n",
       "1        E000001           4  P007983      fourreau_existant  40.320929\n",
       "2        E000001           4  P000308      fourreau_existant  39.140799\n",
       "3        E000001           4  P007819      fourreau_existant  17.390464\n",
       "4        E000002           1  P007111      fourreau_existant  12.314461\n",
       "...          ...         ...      ...                    ...        ...\n",
       "6102     E000381           1  P008032  fourreau_non_existant  10.520975\n",
       "6103     E000381           1  P008035  fourreau_non_existant  11.719759\n",
       "6104     E000381           1  P004234  fourreau_non_existant  13.484903\n",
       "6105     E000381           1  P008036  fourreau_non_existant   7.441760\n",
       "6106     E000381           1  P007459  fourreau_non_existant   9.865358\n",
       "\n",
       "[6107 rows x 5 columns]"
      ]
     },
     "execution_count": 3,
     "metadata": {},
     "output_type": "execute_result"
    }
   ],
   "source": [
    "df"
   ]
  },
  {
   "cell_type": "code",
   "execution_count": 8,
   "id": "4fb917db",
   "metadata": {},
   "outputs": [
    {
     "data": {
      "text/plain": [
       "0         fourreau_existant\n",
       "10    fourreau_non_existant\n",
       "Name: infra_type, dtype: object"
      ]
     },
     "execution_count": 8,
     "metadata": {},
     "output_type": "execute_result"
    }
   ],
   "source": [
    "infra_type=df['infra_type'].drop_duplicates()\n",
    "intra_type"
   ]
  },
  {
   "cell_type": "code",
   "execution_count": 11,
   "id": "27152e37",
   "metadata": {},
   "outputs": [
    {
     "data": {
      "text/plain": [
       "0       4\n",
       "4       1\n",
       "3617    3\n",
       "Name: nb_maisons, dtype: int64"
      ]
     },
     "execution_count": 11,
     "metadata": {},
     "output_type": "execute_result"
    }
   ],
   "source": [
    "nb_maisons=df['nb_maisons'].drop_duplicates()\n",
    "nb_maisons"
   ]
  },
  {
   "cell_type": "code",
   "execution_count": 9,
   "id": "2b29af99",
   "metadata": {},
   "outputs": [
    {
     "data": {
      "text/html": [
       "<div>\n",
       "<style scoped>\n",
       "    .dataframe tbody tr th:only-of-type {\n",
       "        vertical-align: middle;\n",
       "    }\n",
       "\n",
       "    .dataframe tbody tr th {\n",
       "        vertical-align: top;\n",
       "    }\n",
       "\n",
       "    .dataframe thead th {\n",
       "        text-align: right;\n",
       "    }\n",
       "</style>\n",
       "<table border=\"1\" class=\"dataframe\">\n",
       "  <thead>\n",
       "    <tr style=\"text-align: right;\">\n",
       "      <th></th>\n",
       "      <th>nb_maisons</th>\n",
       "      <th>longueur</th>\n",
       "    </tr>\n",
       "  </thead>\n",
       "  <tbody>\n",
       "    <tr>\n",
       "      <th>count</th>\n",
       "      <td>6107.000000</td>\n",
       "      <td>6107.000000</td>\n",
       "    </tr>\n",
       "    <tr>\n",
       "      <th>mean</th>\n",
       "      <td>1.016211</td>\n",
       "      <td>29.314081</td>\n",
       "    </tr>\n",
       "    <tr>\n",
       "      <th>std</th>\n",
       "      <td>0.203714</td>\n",
       "      <td>21.681575</td>\n",
       "    </tr>\n",
       "    <tr>\n",
       "      <th>min</th>\n",
       "      <td>1.000000</td>\n",
       "      <td>0.372684</td>\n",
       "    </tr>\n",
       "    <tr>\n",
       "      <th>25%</th>\n",
       "      <td>1.000000</td>\n",
       "      <td>8.476727</td>\n",
       "    </tr>\n",
       "    <tr>\n",
       "      <th>50%</th>\n",
       "      <td>1.000000</td>\n",
       "      <td>27.771443</td>\n",
       "    </tr>\n",
       "    <tr>\n",
       "      <th>75%</th>\n",
       "      <td>1.000000</td>\n",
       "      <td>49.956115</td>\n",
       "    </tr>\n",
       "    <tr>\n",
       "      <th>max</th>\n",
       "      <td>4.000000</td>\n",
       "      <td>76.985593</td>\n",
       "    </tr>\n",
       "  </tbody>\n",
       "</table>\n",
       "</div>"
      ],
      "text/plain": [
       "        nb_maisons     longueur\n",
       "count  6107.000000  6107.000000\n",
       "mean      1.016211    29.314081\n",
       "std       0.203714    21.681575\n",
       "min       1.000000     0.372684\n",
       "25%       1.000000     8.476727\n",
       "50%       1.000000    27.771443\n",
       "75%       1.000000    49.956115\n",
       "max       4.000000    76.985593"
      ]
     },
     "execution_count": 9,
     "metadata": {},
     "output_type": "execute_result"
    }
   ],
   "source": [
    "df.describe()"
   ]
  }
 ],
 "metadata": {
  "kernelspec": {
   "display_name": "Python 3 (ipykernel)",
   "language": "python",
   "name": "python3"
  },
  "language_info": {
   "codemirror_mode": {
    "name": "ipython",
    "version": 3
   },
   "file_extension": ".py",
   "mimetype": "text/x-python",
   "name": "python",
   "nbconvert_exporter": "python",
   "pygments_lexer": "ipython3",
   "version": "3.11.4"
  }
 },
 "nbformat": 4,
 "nbformat_minor": 5
}

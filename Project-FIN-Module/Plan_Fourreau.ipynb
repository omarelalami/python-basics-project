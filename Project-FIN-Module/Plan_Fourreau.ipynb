{
 "cells": [
  {
   "cell_type": "code",
   "execution_count": 2,
   "id": "61b781f7",
   "metadata": {},
   "outputs": [],
   "source": [
    "import pandas as pd"
   ]
  },
  {
   "cell_type": "code",
   "execution_count": 3,
   "id": "6a61bbe8",
   "metadata": {},
   "outputs": [],
   "source": [
    "df=pd.read_csv('reseau_en_arbre.csv')"
   ]
  },
  {
   "cell_type": "code",
   "execution_count": 37,
   "id": "3d42c9a3",
   "metadata": {},
   "outputs": [
    {
     "data": {
      "text/plain": [
       "1"
      ]
     },
     "execution_count": 37,
     "metadata": {},
     "output_type": "execute_result"
    }
   ],
   "source": [
    "non_existant_infra.loc[df['infra_id']=='P007984','longueur'].count()"
   ]
  },
  {
   "cell_type": "code",
   "execution_count": 5,
   "id": "4fb917db",
   "metadata": {},
   "outputs": [
    {
     "name": "stdout",
     "output_type": "stream",
     "text": [
      "0         fourreau_existant\n",
      "10    fourreau_non_existant\n",
      "Name: infra_type, dtype: object\n"
     ]
    }
   ],
   "source": [
    "infra_type=df['infra_type'].drop_duplicates()\n",
    "print(infra_type)"
   ]
  },
  {
   "cell_type": "code",
   "execution_count": 6,
   "id": "27152e37",
   "metadata": {},
   "outputs": [
    {
     "data": {
      "text/plain": [
       "0       4\n",
       "4       1\n",
       "3617    3\n",
       "Name: nb_maisons, dtype: int64"
      ]
     },
     "execution_count": 6,
     "metadata": {},
     "output_type": "execute_result"
    }
   ],
   "source": [
    "nb_maisons=df['nb_maisons'].drop_duplicates()\n",
    "nb_maisons"
   ]
  },
  {
   "cell_type": "code",
   "execution_count": 7,
   "id": "2b29af99",
   "metadata": {},
   "outputs": [
    {
     "name": "stdout",
     "output_type": "stream",
     "text": [
      "\n"
     ]
    }
   ],
   "source": [
    "df.describe()\n",
    "print()"
   ]
  },
  {
   "cell_type": "code",
   "execution_count": 8,
   "id": "70c84e17",
   "metadata": {},
   "outputs": [
    {
     "data": {
      "text/plain": [
       "0       E000001\n",
       "1       E000001\n",
       "2       E000001\n",
       "3       E000001\n",
       "4       E000002\n",
       "         ...   \n",
       "6095    E000381\n",
       "6096    E000381\n",
       "6097    E000381\n",
       "6098    E000381\n",
       "6099    E000381\n",
       "Name: id_batiment, Length: 5530, dtype: object"
      ]
     },
     "execution_count": 8,
     "metadata": {},
     "output_type": "execute_result"
    }
   ],
   "source": [
    "existant = df.loc[df['infra_type'] == 'fourreau_existant','id_batiment']\n",
    "existant"
   ]
  },
  {
   "cell_type": "code",
   "execution_count": 9,
   "id": "8bd898ee",
   "metadata": {},
   "outputs": [
    {
     "data": {
      "text/plain": [
       "10      E000003\n",
       "11      E000003\n",
       "12      E000003\n",
       "465     E000067\n",
       "466     E000067\n",
       "         ...   \n",
       "6102    E000381\n",
       "6103    E000381\n",
       "6104    E000381\n",
       "6105    E000381\n",
       "6106    E000381\n",
       "Name: id_batiment, Length: 577, dtype: object"
      ]
     },
     "execution_count": 9,
     "metadata": {},
     "output_type": "execute_result"
    }
   ],
   "source": [
    "non_existant = df.loc[df['infra_type'] == 'fourreau_non_existant','id_batiment']\n",
    "non_existant"
   ]
  },
  {
   "cell_type": "code",
   "execution_count": 10,
   "id": "bde1b457",
   "metadata": {},
   "outputs": [
    {
     "data": {
      "text/plain": [
       "0       P007111\n",
       "1       P007983\n",
       "2       P000308\n",
       "3       P007819\n",
       "4       P007111\n",
       "         ...   \n",
       "6095    P000335\n",
       "6096    P000211\n",
       "6097    P000226\n",
       "6098    P000023\n",
       "6099    P000136\n",
       "Name: infra_id, Length: 5530, dtype: object"
      ]
     },
     "execution_count": 10,
     "metadata": {},
     "output_type": "execute_result"
    }
   ],
   "source": [
    "existant_infra = df.loc[df['infra_type'] == 'fourreau_existant','infra_id']\n",
    "existant_infra"
   ]
  },
  {
   "cell_type": "code",
   "execution_count": 11,
   "id": "39c919f6",
   "metadata": {},
   "outputs": [
    {
     "data": {
      "text/html": [
       "<div>\n",
       "<style scoped>\n",
       "    .dataframe tbody tr th:only-of-type {\n",
       "        vertical-align: middle;\n",
       "    }\n",
       "\n",
       "    .dataframe tbody tr th {\n",
       "        vertical-align: top;\n",
       "    }\n",
       "\n",
       "    .dataframe thead th {\n",
       "        text-align: right;\n",
       "    }\n",
       "</style>\n",
       "<table border=\"1\" class=\"dataframe\">\n",
       "  <thead>\n",
       "    <tr style=\"text-align: right;\">\n",
       "      <th></th>\n",
       "      <th>infra_id</th>\n",
       "      <th>id_batiment</th>\n",
       "      <th>longueur</th>\n",
       "    </tr>\n",
       "  </thead>\n",
       "  <tbody>\n",
       "    <tr>\n",
       "      <th>10</th>\n",
       "      <td>P007113</td>\n",
       "      <td>E000003</td>\n",
       "      <td>12.193509</td>\n",
       "    </tr>\n",
       "    <tr>\n",
       "      <th>11</th>\n",
       "      <td>P007984</td>\n",
       "      <td>E000003</td>\n",
       "      <td>30.057598</td>\n",
       "    </tr>\n",
       "    <tr>\n",
       "      <th>12</th>\n",
       "      <td>P007823</td>\n",
       "      <td>E000003</td>\n",
       "      <td>12.290283</td>\n",
       "    </tr>\n",
       "    <tr>\n",
       "      <th>465</th>\n",
       "      <td>P006193</td>\n",
       "      <td>E000067</td>\n",
       "      <td>12.186388</td>\n",
       "    </tr>\n",
       "    <tr>\n",
       "      <th>466</th>\n",
       "      <td>P002851</td>\n",
       "      <td>E000067</td>\n",
       "      <td>10.803202</td>\n",
       "    </tr>\n",
       "    <tr>\n",
       "      <th>...</th>\n",
       "      <td>...</td>\n",
       "      <td>...</td>\n",
       "      <td>...</td>\n",
       "    </tr>\n",
       "    <tr>\n",
       "      <th>6102</th>\n",
       "      <td>P008032</td>\n",
       "      <td>E000381</td>\n",
       "      <td>10.520975</td>\n",
       "    </tr>\n",
       "    <tr>\n",
       "      <th>6103</th>\n",
       "      <td>P008035</td>\n",
       "      <td>E000381</td>\n",
       "      <td>11.719759</td>\n",
       "    </tr>\n",
       "    <tr>\n",
       "      <th>6104</th>\n",
       "      <td>P004234</td>\n",
       "      <td>E000381</td>\n",
       "      <td>13.484903</td>\n",
       "    </tr>\n",
       "    <tr>\n",
       "      <th>6105</th>\n",
       "      <td>P008036</td>\n",
       "      <td>E000381</td>\n",
       "      <td>7.441760</td>\n",
       "    </tr>\n",
       "    <tr>\n",
       "      <th>6106</th>\n",
       "      <td>P007459</td>\n",
       "      <td>E000381</td>\n",
       "      <td>9.865358</td>\n",
       "    </tr>\n",
       "  </tbody>\n",
       "</table>\n",
       "<p>577 rows × 3 columns</p>\n",
       "</div>"
      ],
      "text/plain": [
       "     infra_id id_batiment   longueur\n",
       "10    P007113     E000003  12.193509\n",
       "11    P007984     E000003  30.057598\n",
       "12    P007823     E000003  12.290283\n",
       "465   P006193     E000067  12.186388\n",
       "466   P002851     E000067  10.803202\n",
       "...       ...         ...        ...\n",
       "6102  P008032     E000381  10.520975\n",
       "6103  P008035     E000381  11.719759\n",
       "6104  P004234     E000381  13.484903\n",
       "6105  P008036     E000381   7.441760\n",
       "6106  P007459     E000381   9.865358\n",
       "\n",
       "[577 rows x 3 columns]"
      ]
     },
     "execution_count": 11,
     "metadata": {},
     "output_type": "execute_result"
    }
   ],
   "source": [
    "non_existant_infra = df.loc[df['infra_type'] == 'fourreau_non_existant',['infra_id','id_batiment','longueur']]\n",
    "non_existant_infra"
   ]
  },
  {
   "cell_type": "code",
   "execution_count": 33,
   "id": "74df1425",
   "metadata": {},
   "outputs": [
    {
     "data": {
      "text/plain": [
       "10      12.193509\n",
       "11      30.057598\n",
       "12      12.290283\n",
       "465     12.186388\n",
       "466     10.803202\n",
       "          ...    \n",
       "6102    10.520975\n",
       "6103    11.719759\n",
       "6104    13.484903\n",
       "6105     7.441760\n",
       "6106     9.865358\n",
       "Name: longueur, Length: 577, dtype: float64"
      ]
     },
     "execution_count": 33,
     "metadata": {},
     "output_type": "execute_result"
    }
   ],
   "source": [
    "non_existant_infra['longueur']/non_existant_infra[''].count()"
   ]
  },
  {
   "cell_type": "code",
   "execution_count": 34,
   "id": "ea229d10",
   "metadata": {},
   "outputs": [],
   "source": [
    "resultat = df['longueur'] / df.groupby('infra_id')['infra_id'].transform('count')"
   ]
  },
  {
   "cell_type": "code",
   "execution_count": 41,
   "id": "a648a529",
   "metadata": {},
   "outputs": [
    {
     "data": {
      "text/plain": [
       "0        0.029745\n",
       "1        0.937696\n",
       "2        1.087244\n",
       "3       17.390464\n",
       "4        0.029745\n",
       "          ...    \n",
       "6102     1.502996\n",
       "6103     2.929940\n",
       "6104     6.742452\n",
       "6105     7.441760\n",
       "6106     9.865358\n",
       "Length: 6107, dtype: float64"
      ]
     },
     "execution_count": 41,
     "metadata": {},
     "output_type": "execute_result"
    }
   ],
   "source": [
    "resultat"
   ]
  },
  {
   "cell_type": "code",
   "execution_count": null,
   "id": "c97abc12",
   "metadata": {},
   "outputs": [],
   "source": []
  },
  {
   "cell_type": "code",
   "execution_count": null,
   "id": "7eea69a1",
   "metadata": {},
   "outputs": [],
   "source": []
  },
  {
   "cell_type": "code",
   "execution_count": null,
   "id": "1f9f6e34",
   "metadata": {},
   "outputs": [],
   "source": []
  }
 ],
 "metadata": {
  "kernelspec": {
   "display_name": "Python 3 (ipykernel)",
   "language": "python",
   "name": "python3"
  },
  "language_info": {
   "codemirror_mode": {
    "name": "ipython",
    "version": 3
   },
   "file_extension": ".py",
   "mimetype": "text/x-python",
   "name": "python",
   "nbconvert_exporter": "python",
   "pygments_lexer": "ipython3",
   "version": "3.11.4"
  }
 },
 "nbformat": 4,
 "nbformat_minor": 5
}
